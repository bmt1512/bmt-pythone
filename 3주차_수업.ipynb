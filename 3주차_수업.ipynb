{
  "nbformat": 4,
  "nbformat_minor": 0,
  "metadata": {
    "colab": {
      "name": "3주차 수업.ipynb",
      "provenance": [],
      "authorship_tag": "ABX9TyNtaNePhW87+ZIMeb+iFO3p",
      "include_colab_link": true
    },
    "kernelspec": {
      "name": "python3",
      "display_name": "Python 3"
    },
    "language_info": {
      "name": "python"
    }
  },
  "cells": [
    {
      "cell_type": "markdown",
      "metadata": {
        "id": "view-in-github",
        "colab_type": "text"
      },
      "source": [
        "<a href=\"https://colab.research.google.com/github/bmt1512/bmt-pythone/blob/main/3%EC%A3%BC%EC%B0%A8_%EC%88%98%EC%97%85.ipynb\" target=\"_parent\"><img src=\"https://colab.research.google.com/assets/colab-badge.svg\" alt=\"Open In Colab\"/></a>"
      ]
    },
    {
      "cell_type": "code",
      "metadata": {
        "colab": {
          "base_uri": "https://localhost:8080/"
        },
        "id": "quG5SQxcJ7tu",
        "outputId": "6f38c125-da71-49c2-d14c-9f76b0b733be"
      },
      "source": [
        "from random import randint\n",
        "\n",
        "dice = randint(1,6)\n",
        "\n",
        "print(dice)"
      ],
      "execution_count": 4,
      "outputs": [
        {
          "output_type": "stream",
          "text": [
            "5\n"
          ],
          "name": "stdout"
        }
      ]
    },
    {
      "cell_type": "code",
      "metadata": {
        "colab": {
          "base_uri": "https://localhost:8080/"
        },
        "id": "1QLHT0DSTgvQ",
        "outputId": "5986a62a-7bdd-40cd-b75d-0e48f4143b34"
      },
      "source": [
        "import math\n",
        "\n",
        "\n",
        "math.sin(math.pi / 6)"
      ],
      "execution_count": 13,
      "outputs": [
        {
          "output_type": "execute_result",
          "data": {
            "text/plain": [
              "0.49999999999999994"
            ]
          },
          "metadata": {
            "tags": []
          },
          "execution_count": 13
        }
      ]
    },
    {
      "cell_type": "code",
      "metadata": {
        "colab": {
          "base_uri": "https://localhost:8080/"
        },
        "id": "AWsVGS3wX_Os",
        "outputId": "b7d77a34-1f1f-4ed5-d570-3d104b6cccb4"
      },
      "source": [
        "name = '부산기계공고'\n",
        "\n",
        "for i in name:\n",
        "  print(i)"
      ],
      "execution_count": 14,
      "outputs": [
        {
          "output_type": "stream",
          "text": [
            "부\n",
            "산\n",
            "기\n",
            "계\n",
            "공\n",
            "고\n"
          ],
          "name": "stdout"
        }
      ]
    },
    {
      "cell_type": "code",
      "metadata": {
        "colab": {
          "base_uri": "https://localhost:8080/"
        },
        "id": "wirGuKbQaMgL",
        "outputId": "8815d6f1-1549-4227-efc7-7703d7c32762"
      },
      "source": [
        "for i in name:\n",
        "  print(i, end='')"
      ],
      "execution_count": 18,
      "outputs": [
        {
          "output_type": "stream",
          "text": [
            "부산기계공고"
          ],
          "name": "stdout"
        }
      ]
    },
    {
      "cell_type": "code",
      "metadata": {
        "colab": {
          "base_uri": "https://localhost:8080/"
        },
        "id": "I3UPcCMwapQb",
        "outputId": "a3cfa7fe-f3c5-4268-deb8-9837228493b6"
      },
      "source": [
        "for i in [0, 1, 2, 3]:\n",
        "  print(f'{i}의 제곱근 : {i**2}')"
      ],
      "execution_count": 20,
      "outputs": [
        {
          "output_type": "stream",
          "text": [
            "0의 제곱근 : 0\n",
            "1의 제곱근 : 1\n",
            "2의 제곱근 : 4\n",
            "3의 제곱근 : 9\n"
          ],
          "name": "stdout"
        }
      ]
    },
    {
      "cell_type": "code",
      "metadata": {
        "colab": {
          "base_uri": "https://localhost:8080/"
        },
        "id": "nXjUHb3ObQ7D",
        "outputId": "054b2636-d3fd-4ddb-b637-1de6dab90dad"
      },
      "source": [
        "for i in range(10):\n",
        "  print(f'{i}의 제곱근 : {i**2}')"
      ],
      "execution_count": 24,
      "outputs": [
        {
          "output_type": "stream",
          "text": [
            "0의 제곱근 : 0\n",
            "1의 제곱근 : 1\n",
            "2의 제곱근 : 4\n",
            "3의 제곱근 : 9\n",
            "4의 제곱근 : 16\n",
            "5의 제곱근 : 25\n",
            "6의 제곱근 : 36\n",
            "7의 제곱근 : 49\n",
            "8의 제곱근 : 64\n",
            "9의 제곱근 : 81\n"
          ],
          "name": "stdout"
        }
      ]
    },
    {
      "cell_type": "code",
      "metadata": {
        "colab": {
          "base_uri": "https://localhost:8080/"
        },
        "id": "DnN3lPy-b6MK",
        "outputId": "049db0e2-de18-476e-9ed6-1d7d600528e4"
      },
      "source": [
        "type(range(10))"
      ],
      "execution_count": 26,
      "outputs": [
        {
          "output_type": "execute_result",
          "data": {
            "text/plain": [
              "range"
            ]
          },
          "metadata": {
            "tags": []
          },
          "execution_count": 26
        }
      ]
    },
    {
      "cell_type": "code",
      "metadata": {
        "colab": {
          "base_uri": "https://localhost:8080/"
        },
        "id": "iCpzQCy8caa0",
        "outputId": "0a5d2ac3-c99a-4a97-9971-0cbeeea877b8"
      },
      "source": [
        "for i in range(1, 10, 2):\n",
        "  print(i**2)"
      ],
      "execution_count": 28,
      "outputs": [
        {
          "output_type": "stream",
          "text": [
            "1\n",
            "9\n",
            "25\n",
            "49\n",
            "81\n"
          ],
          "name": "stdout"
        }
      ]
    },
    {
      "cell_type": "code",
      "metadata": {
        "colab": {
          "base_uri": "https://localhost:8080/"
        },
        "id": "tQfuuzLac668",
        "outputId": "589d9527-9938-4cb1-8144-8be336998abd"
      },
      "source": [
        "if 10 > 0:\n",
        "  print('안녕하세요')"
      ],
      "execution_count": 29,
      "outputs": [
        {
          "output_type": "stream",
          "text": [
            "안녕하세요\n"
          ],
          "name": "stdout"
        }
      ]
    },
    {
      "cell_type": "code",
      "metadata": {
        "colab": {
          "base_uri": "https://localhost:8080/"
        },
        "id": "q7DnGtwkdomd",
        "outputId": "a37e600a-e4e2-4777-8b8f-31afc16d7dd1"
      },
      "source": [
        "for _ in [1, 2, 4]:\n",
        "  print('전기과 화이팅!!!')"
      ],
      "execution_count": 32,
      "outputs": [
        {
          "output_type": "stream",
          "text": [
            "전기과 화이팅!!!\n",
            "전기과 화이팅!!!\n",
            "전기과 화이팅!!!\n"
          ],
          "name": "stdout"
        }
      ]
    },
    {
      "cell_type": "code",
      "metadata": {
        "colab": {
          "base_uri": "https://localhost:8080/"
        },
        "id": "3kAUrMcCdxE6",
        "outputId": "b7d2c2dc-984c-46ed-cea8-271107b6e7d7"
      },
      "source": [
        "if 10 != 0 and 5 % 2 == 1:\n",
        "  print('안녕하세요')"
      ],
      "execution_count": 33,
      "outputs": [
        {
          "output_type": "stream",
          "text": [
            "안녕하세요\n"
          ],
          "name": "stdout"
        }
      ]
    },
    {
      "cell_type": "code",
      "metadata": {
        "colab": {
          "base_uri": "https://localhost:8080/"
        },
        "id": "_NBpSE41eHMj",
        "outputId": "64ff921f-b12f-427a-bd56-949419546f4a"
      },
      "source": [
        "passwd = int(input('비밀번호 4자리 숫자 입력 :'))\n",
        "\n",
        "if passwd == 2021:\n",
        "  print('비밀번호가 일치')\n",
        "elif passwd == 2020:\n",
        "  print('이 숫자에 한 개만 더해주세요.')\n",
        "else :\n",
        "  print('다시 시작 해주세요.')"
      ],
      "execution_count": 41,
      "outputs": [
        {
          "output_type": "stream",
          "text": [
            "비밀번호 4자리 숫자 입력 :2021\n",
            "비밀번호가 일치\n"
          ],
          "name": "stdout"
        }
      ]
    },
    {
      "cell_type": "code",
      "metadata": {
        "colab": {
          "base_uri": "https://localhost:8080/",
          "height": 136
        },
        "id": "SIqH_ySWedLK",
        "outputId": "121dd13f-cb94-45ca-9359-f1e4d795750f"
      },
      "source": [
        "for i in range(1,100000):\n",
        "  if i == 2020:\n",
        "  print('비밀번호가 일치합니다.')\n",
        "  print(f'비밀번호는 {i}입니다.')"
      ],
      "execution_count": 45,
      "outputs": [
        {
          "output_type": "error",
          "ename": "IndentationError",
          "evalue": "ignored",
          "traceback": [
            "\u001b[0;36m  File \u001b[0;32m\"<ipython-input-45-119f2dc051f7>\"\u001b[0;36m, line \u001b[0;32m3\u001b[0m\n\u001b[0;31m    print('비밀번호가 일치합니다.')\u001b[0m\n\u001b[0m        ^\u001b[0m\n\u001b[0;31mIndentationError\u001b[0m\u001b[0;31m:\u001b[0m expected an indented block\n"
          ]
        }
      ]
    },
    {
      "cell_type": "code",
      "metadata": {
        "colab": {
          "base_uri": "https://localhost:8080/"
        },
        "id": "Ls6OACb_fs7p",
        "outputId": "5baa5632-6fa7-414f-d993-5d0e91b3ceec"
      },
      "source": [
        "print('[ 소름끼치도록 놀라운 심리테스트 ]')\n",
        "\n",
        "menu = input('당신이 좋아하는 과일을 입력해주세요 : ')\n",
        "\n",
        "if menu == '사과':\n",
        "  print(f'당신은 {menu}을 좋아하는 사람입니다.')\n",
        "elif menu == '아이스크림':\n",
        "  print(f'당신은 {menu}을 좋아하는 사람입니다.')\n",
        "elif menu == '바나나':\n",
        "  print(f'당신은 {menu}을 좋아하는 사람입니다.')\n",
        "else :\n",
        "  print(f'당신은 사과, 바나나을 좋아하지 않는 사람입니다.')"
      ],
      "execution_count": 46,
      "outputs": [
        {
          "output_type": "stream",
          "text": [
            "[ 소름끼치도록 놀라운 심리테스트 ]\n",
            "당신이 좋아하는 과일을 입력해주세요 : 사과\n",
            "당신은 사과을 좋아하는 사람입니다.\n"
          ],
          "name": "stdout"
        }
      ]
    },
    {
      "cell_type": "code",
      "metadata": {
        "id": "lTDnuCAufnRw"
      },
      "source": [
        ""
      ],
      "execution_count": null,
      "outputs": []
    }
  ]
}