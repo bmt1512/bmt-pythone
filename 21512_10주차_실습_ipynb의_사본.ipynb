{
  "nbformat": 4,
  "nbformat_minor": 0,
  "metadata": {
    "colab": {
      "name": "21512_10주차 실습.ipynb의 사본",
      "provenance": [],
      "collapsed_sections": [],
      "authorship_tag": "ABX9TyPUQoZjY6L9iZFoEKFQGb75",
      "include_colab_link": true
    },
    "kernelspec": {
      "name": "python3",
      "display_name": "Python 3"
    },
    "language_info": {
      "name": "python"
    }
  },
  "cells": [
    {
      "cell_type": "markdown",
      "metadata": {
        "id": "view-in-github",
        "colab_type": "text"
      },
      "source": [
        "<a href=\"https://colab.research.google.com/github/bmt1512/bmt-pythone/blob/main/21512_10%EC%A3%BC%EC%B0%A8_%EC%8B%A4%EC%8A%B5_ipynb%EC%9D%98_%EC%82%AC%EB%B3%B8.ipynb\" target=\"_parent\"><img src=\"https://colab.research.google.com/assets/colab-badge.svg\" alt=\"Open In Colab\"/></a>"
      ]
    },
    {
      "cell_type": "code",
      "metadata": {
        "id": "bC_5n91NGFMs"
      },
      "source": [
        "import pandas as pd\n",
        "import numpy as np\n",
        "import matplotlib.pyplot as plt"
      ],
      "execution_count": null,
      "outputs": []
    },
    {
      "cell_type": "code",
      "metadata": {
        "id": "wps9CTxIPFOi"
      },
      "source": [
        ""
      ],
      "execution_count": null,
      "outputs": []
    },
    {
      "cell_type": "code",
      "metadata": {
        "colab": {
          "base_uri": "https://localhost:8080/"
        },
        "id": "gjE1Wk4vHqoN",
        "outputId": "28354a16-99f7-43a1-9dbc-083cff7c1db7"
      },
      "source": [
        "s = pd.Series([1, 3, 5, np.nan, 6, 8])\n",
        "print(s)"
      ],
      "execution_count": null,
      "outputs": [
        {
          "output_type": "stream",
          "text": [
            "0    1.0\n",
            "1    3.0\n",
            "2    5.0\n",
            "3    NaN\n",
            "4    6.0\n",
            "5    8.0\n",
            "dtype: float64\n"
          ],
          "name": "stdout"
        }
      ]
    },
    {
      "cell_type": "code",
      "metadata": {
        "colab": {
          "base_uri": "https://localhost:8080/"
        },
        "id": "fBwVYMxRIoSM",
        "outputId": "5d32476c-bfc8-4bc1-bbbd-7b7b89b14537"
      },
      "source": [
        "type(s)"
      ],
      "execution_count": null,
      "outputs": [
        {
          "output_type": "execute_result",
          "data": {
            "text/plain": [
              "pandas.core.series.Series"
            ]
          },
          "metadata": {
            "tags": []
          },
          "execution_count": 8
        }
      ]
    },
    {
      "cell_type": "code",
      "metadata": {
        "colab": {
          "base_uri": "https://localhost:8080/"
        },
        "id": "PilXdAgwIsPC",
        "outputId": "3b5e92bc-2cc0-4636-fa3c-e9483ce3cd9f"
      },
      "source": [
        "dates = pd.date_range('20210507', periods=6)\n",
        "dates"
      ],
      "execution_count": null,
      "outputs": [
        {
          "output_type": "execute_result",
          "data": {
            "text/plain": [
              "DatetimeIndex(['2021-05-07', '2021-05-08', '2021-05-09', '2021-05-10',\n",
              "               '2021-05-11', '2021-05-12'],\n",
              "              dtype='datetime64[ns]', freq='D')"
            ]
          },
          "metadata": {
            "tags": []
          },
          "execution_count": 11
        }
      ]
    },
    {
      "cell_type": "code",
      "metadata": {
        "colab": {
          "base_uri": "https://localhost:8080/",
          "height": 235
        },
        "id": "LqQmZLDOJny6",
        "outputId": "a732559a-70c0-4505-bb77-b75e3d27eaf0"
      },
      "source": [
        "df = pd.DataFrame(np.random.randn(6,4))\n",
        "df"
      ],
      "execution_count": null,
      "outputs": [
        {
          "output_type": "execute_result",
          "data": {
            "text/html": [
              "<div>\n",
              "<style scoped>\n",
              "    .dataframe tbody tr th:only-of-type {\n",
              "        vertical-align: middle;\n",
              "    }\n",
              "\n",
              "    .dataframe tbody tr th {\n",
              "        vertical-align: top;\n",
              "    }\n",
              "\n",
              "    .dataframe thead th {\n",
              "        text-align: right;\n",
              "    }\n",
              "</style>\n",
              "<table border=\"1\" class=\"dataframe\">\n",
              "  <thead>\n",
              "    <tr style=\"text-align: right;\">\n",
              "      <th></th>\n",
              "      <th>0</th>\n",
              "      <th>1</th>\n",
              "      <th>2</th>\n",
              "      <th>3</th>\n",
              "    </tr>\n",
              "  </thead>\n",
              "  <tbody>\n",
              "    <tr>\n",
              "      <th>0</th>\n",
              "      <td>1.298791</td>\n",
              "      <td>0.757322</td>\n",
              "      <td>0.606851</td>\n",
              "      <td>-0.908779</td>\n",
              "    </tr>\n",
              "    <tr>\n",
              "      <th>1</th>\n",
              "      <td>0.046350</td>\n",
              "      <td>-1.110531</td>\n",
              "      <td>0.117871</td>\n",
              "      <td>0.017851</td>\n",
              "    </tr>\n",
              "    <tr>\n",
              "      <th>2</th>\n",
              "      <td>0.124139</td>\n",
              "      <td>0.416123</td>\n",
              "      <td>0.460180</td>\n",
              "      <td>-0.622356</td>\n",
              "    </tr>\n",
              "    <tr>\n",
              "      <th>3</th>\n",
              "      <td>0.758371</td>\n",
              "      <td>-0.027105</td>\n",
              "      <td>0.190534</td>\n",
              "      <td>0.736342</td>\n",
              "    </tr>\n",
              "    <tr>\n",
              "      <th>4</th>\n",
              "      <td>0.831358</td>\n",
              "      <td>0.339904</td>\n",
              "      <td>0.799194</td>\n",
              "      <td>0.857377</td>\n",
              "    </tr>\n",
              "    <tr>\n",
              "      <th>5</th>\n",
              "      <td>-1.038801</td>\n",
              "      <td>0.641172</td>\n",
              "      <td>1.967664</td>\n",
              "      <td>-1.753954</td>\n",
              "    </tr>\n",
              "  </tbody>\n",
              "</table>\n",
              "</div>"
            ],
            "text/plain": [
              "          0         1         2         3\n",
              "0  1.298791  0.757322  0.606851 -0.908779\n",
              "1  0.046350 -1.110531  0.117871  0.017851\n",
              "2  0.124139  0.416123  0.460180 -0.622356\n",
              "3  0.758371 -0.027105  0.190534  0.736342\n",
              "4  0.831358  0.339904  0.799194  0.857377\n",
              "5 -1.038801  0.641172  1.967664 -1.753954"
            ]
          },
          "metadata": {
            "tags": []
          },
          "execution_count": 16
        }
      ]
    },
    {
      "cell_type": "code",
      "metadata": {
        "colab": {
          "base_uri": "https://localhost:8080/",
          "height": 235
        },
        "id": "SCGdQxMQKKya",
        "outputId": "43428315-065f-4a17-c049-23d89f93742a"
      },
      "source": [
        "df = pd.DataFrame(np.random.randn(6,4), index=dates)\n",
        "df"
      ],
      "execution_count": null,
      "outputs": [
        {
          "output_type": "execute_result",
          "data": {
            "text/html": [
              "<div>\n",
              "<style scoped>\n",
              "    .dataframe tbody tr th:only-of-type {\n",
              "        vertical-align: middle;\n",
              "    }\n",
              "\n",
              "    .dataframe tbody tr th {\n",
              "        vertical-align: top;\n",
              "    }\n",
              "\n",
              "    .dataframe thead th {\n",
              "        text-align: right;\n",
              "    }\n",
              "</style>\n",
              "<table border=\"1\" class=\"dataframe\">\n",
              "  <thead>\n",
              "    <tr style=\"text-align: right;\">\n",
              "      <th></th>\n",
              "      <th>0</th>\n",
              "      <th>1</th>\n",
              "      <th>2</th>\n",
              "      <th>3</th>\n",
              "    </tr>\n",
              "  </thead>\n",
              "  <tbody>\n",
              "    <tr>\n",
              "      <th>2021-05-07</th>\n",
              "      <td>1.124884</td>\n",
              "      <td>1.037019</td>\n",
              "      <td>-0.410610</td>\n",
              "      <td>0.926495</td>\n",
              "    </tr>\n",
              "    <tr>\n",
              "      <th>2021-05-08</th>\n",
              "      <td>-0.356332</td>\n",
              "      <td>-1.258256</td>\n",
              "      <td>1.346644</td>\n",
              "      <td>1.833438</td>\n",
              "    </tr>\n",
              "    <tr>\n",
              "      <th>2021-05-09</th>\n",
              "      <td>-0.358473</td>\n",
              "      <td>1.000664</td>\n",
              "      <td>0.636836</td>\n",
              "      <td>-0.115254</td>\n",
              "    </tr>\n",
              "    <tr>\n",
              "      <th>2021-05-10</th>\n",
              "      <td>-0.437754</td>\n",
              "      <td>-0.286515</td>\n",
              "      <td>-1.306956</td>\n",
              "      <td>0.926756</td>\n",
              "    </tr>\n",
              "    <tr>\n",
              "      <th>2021-05-11</th>\n",
              "      <td>0.980450</td>\n",
              "      <td>-0.257207</td>\n",
              "      <td>-1.677245</td>\n",
              "      <td>0.786164</td>\n",
              "    </tr>\n",
              "    <tr>\n",
              "      <th>2021-05-12</th>\n",
              "      <td>1.649286</td>\n",
              "      <td>-0.685929</td>\n",
              "      <td>-0.702855</td>\n",
              "      <td>0.250844</td>\n",
              "    </tr>\n",
              "  </tbody>\n",
              "</table>\n",
              "</div>"
            ],
            "text/plain": [
              "                   0         1         2         3\n",
              "2021-05-07  1.124884  1.037019 -0.410610  0.926495\n",
              "2021-05-08 -0.356332 -1.258256  1.346644  1.833438\n",
              "2021-05-09 -0.358473  1.000664  0.636836 -0.115254\n",
              "2021-05-10 -0.437754 -0.286515 -1.306956  0.926756\n",
              "2021-05-11  0.980450 -0.257207 -1.677245  0.786164\n",
              "2021-05-12  1.649286 -0.685929 -0.702855  0.250844"
            ]
          },
          "metadata": {
            "tags": []
          },
          "execution_count": 17
        }
      ]
    },
    {
      "cell_type": "code",
      "metadata": {
        "colab": {
          "base_uri": "https://localhost:8080/",
          "height": 235
        },
        "id": "kmZdASvZKVRy",
        "outputId": "3d782135-727a-4cac-9fc7-52996410aa1f"
      },
      "source": [
        "df = pd.DataFrame(np.random.randn(6,4), index=dates, columns=list('ABCD'))\n",
        "df"
      ],
      "execution_count": null,
      "outputs": [
        {
          "output_type": "execute_result",
          "data": {
            "text/html": [
              "<div>\n",
              "<style scoped>\n",
              "    .dataframe tbody tr th:only-of-type {\n",
              "        vertical-align: middle;\n",
              "    }\n",
              "\n",
              "    .dataframe tbody tr th {\n",
              "        vertical-align: top;\n",
              "    }\n",
              "\n",
              "    .dataframe thead th {\n",
              "        text-align: right;\n",
              "    }\n",
              "</style>\n",
              "<table border=\"1\" class=\"dataframe\">\n",
              "  <thead>\n",
              "    <tr style=\"text-align: right;\">\n",
              "      <th></th>\n",
              "      <th>A</th>\n",
              "      <th>B</th>\n",
              "      <th>C</th>\n",
              "      <th>D</th>\n",
              "    </tr>\n",
              "  </thead>\n",
              "  <tbody>\n",
              "    <tr>\n",
              "      <th>2021-05-07</th>\n",
              "      <td>-2.066571</td>\n",
              "      <td>-1.232890</td>\n",
              "      <td>-0.502550</td>\n",
              "      <td>0.432754</td>\n",
              "    </tr>\n",
              "    <tr>\n",
              "      <th>2021-05-08</th>\n",
              "      <td>-0.444089</td>\n",
              "      <td>-0.160937</td>\n",
              "      <td>0.531621</td>\n",
              "      <td>0.682530</td>\n",
              "    </tr>\n",
              "    <tr>\n",
              "      <th>2021-05-09</th>\n",
              "      <td>-0.509203</td>\n",
              "      <td>0.444349</td>\n",
              "      <td>-0.049450</td>\n",
              "      <td>0.113498</td>\n",
              "    </tr>\n",
              "    <tr>\n",
              "      <th>2021-05-10</th>\n",
              "      <td>0.391467</td>\n",
              "      <td>0.218546</td>\n",
              "      <td>-1.321702</td>\n",
              "      <td>0.136796</td>\n",
              "    </tr>\n",
              "    <tr>\n",
              "      <th>2021-05-11</th>\n",
              "      <td>1.293746</td>\n",
              "      <td>-0.328296</td>\n",
              "      <td>-1.105335</td>\n",
              "      <td>1.196731</td>\n",
              "    </tr>\n",
              "    <tr>\n",
              "      <th>2021-05-12</th>\n",
              "      <td>-0.310119</td>\n",
              "      <td>0.292830</td>\n",
              "      <td>1.270933</td>\n",
              "      <td>-0.094834</td>\n",
              "    </tr>\n",
              "  </tbody>\n",
              "</table>\n",
              "</div>"
            ],
            "text/plain": [
              "                   A         B         C         D\n",
              "2021-05-07 -2.066571 -1.232890 -0.502550  0.432754\n",
              "2021-05-08 -0.444089 -0.160937  0.531621  0.682530\n",
              "2021-05-09 -0.509203  0.444349 -0.049450  0.113498\n",
              "2021-05-10  0.391467  0.218546 -1.321702  0.136796\n",
              "2021-05-11  1.293746 -0.328296 -1.105335  1.196731\n",
              "2021-05-12 -0.310119  0.292830  1.270933 -0.094834"
            ]
          },
          "metadata": {
            "tags": []
          },
          "execution_count": 22
        }
      ]
    },
    {
      "cell_type": "code",
      "metadata": {
        "colab": {
          "base_uri": "https://localhost:8080/",
          "height": 173
        },
        "id": "PCNAydw7LX8E",
        "outputId": "320c6c62-853f-4ee4-e477-ea36c6d8332e"
      },
      "source": [
        "df2 = pd.DataFrame(\n",
        "    {\n",
        "        'A' : 1.,\n",
        "        'B': pd.Timestamp('20211215'),\n",
        "        'C': pd.Series(1, index=list(range(4)), dtype='float32'),\n",
        "        'D': np.array([3] * 4, dtype='int32'),\n",
        "        'E':pd.Categorical([\"test\", \"train\", \"test\", \"train\"]),\n",
        "        'F': 'foo'\n",
        "    }\n",
        ")\n",
        "df2"
      ],
      "execution_count": null,
      "outputs": [
        {
          "output_type": "execute_result",
          "data": {
            "text/html": [
              "<div>\n",
              "<style scoped>\n",
              "    .dataframe tbody tr th:only-of-type {\n",
              "        vertical-align: middle;\n",
              "    }\n",
              "\n",
              "    .dataframe tbody tr th {\n",
              "        vertical-align: top;\n",
              "    }\n",
              "\n",
              "    .dataframe thead th {\n",
              "        text-align: right;\n",
              "    }\n",
              "</style>\n",
              "<table border=\"1\" class=\"dataframe\">\n",
              "  <thead>\n",
              "    <tr style=\"text-align: right;\">\n",
              "      <th></th>\n",
              "      <th>A</th>\n",
              "      <th>B</th>\n",
              "      <th>C</th>\n",
              "      <th>D</th>\n",
              "      <th>E</th>\n",
              "      <th>F</th>\n",
              "    </tr>\n",
              "  </thead>\n",
              "  <tbody>\n",
              "    <tr>\n",
              "      <th>0</th>\n",
              "      <td>1.0</td>\n",
              "      <td>2021-12-15</td>\n",
              "      <td>1.0</td>\n",
              "      <td>3</td>\n",
              "      <td>test</td>\n",
              "      <td>foo</td>\n",
              "    </tr>\n",
              "    <tr>\n",
              "      <th>1</th>\n",
              "      <td>1.0</td>\n",
              "      <td>2021-12-15</td>\n",
              "      <td>1.0</td>\n",
              "      <td>3</td>\n",
              "      <td>train</td>\n",
              "      <td>foo</td>\n",
              "    </tr>\n",
              "    <tr>\n",
              "      <th>2</th>\n",
              "      <td>1.0</td>\n",
              "      <td>2021-12-15</td>\n",
              "      <td>1.0</td>\n",
              "      <td>3</td>\n",
              "      <td>test</td>\n",
              "      <td>foo</td>\n",
              "    </tr>\n",
              "    <tr>\n",
              "      <th>3</th>\n",
              "      <td>1.0</td>\n",
              "      <td>2021-12-15</td>\n",
              "      <td>1.0</td>\n",
              "      <td>3</td>\n",
              "      <td>train</td>\n",
              "      <td>foo</td>\n",
              "    </tr>\n",
              "  </tbody>\n",
              "</table>\n",
              "</div>"
            ],
            "text/plain": [
              "     A          B    C  D      E    F\n",
              "0  1.0 2021-12-15  1.0  3   test  foo\n",
              "1  1.0 2021-12-15  1.0  3  train  foo\n",
              "2  1.0 2021-12-15  1.0  3   test  foo\n",
              "3  1.0 2021-12-15  1.0  3  train  foo"
            ]
          },
          "metadata": {
            "tags": []
          },
          "execution_count": 23
        }
      ]
    },
    {
      "cell_type": "code",
      "metadata": {
        "colab": {
          "base_uri": "https://localhost:8080/",
          "height": 204
        },
        "id": "pOJytwLQMkdQ",
        "outputId": "abb07dd6-f188-4abb-c607-00211088c4a5"
      },
      "source": [
        "df.head()"
      ],
      "execution_count": null,
      "outputs": [
        {
          "output_type": "execute_result",
          "data": {
            "text/html": [
              "<div>\n",
              "<style scoped>\n",
              "    .dataframe tbody tr th:only-of-type {\n",
              "        vertical-align: middle;\n",
              "    }\n",
              "\n",
              "    .dataframe tbody tr th {\n",
              "        vertical-align: top;\n",
              "    }\n",
              "\n",
              "    .dataframe thead th {\n",
              "        text-align: right;\n",
              "    }\n",
              "</style>\n",
              "<table border=\"1\" class=\"dataframe\">\n",
              "  <thead>\n",
              "    <tr style=\"text-align: right;\">\n",
              "      <th></th>\n",
              "      <th>A</th>\n",
              "      <th>B</th>\n",
              "      <th>C</th>\n",
              "      <th>D</th>\n",
              "    </tr>\n",
              "  </thead>\n",
              "  <tbody>\n",
              "    <tr>\n",
              "      <th>2021-05-07</th>\n",
              "      <td>-2.066571</td>\n",
              "      <td>-1.232890</td>\n",
              "      <td>-0.502550</td>\n",
              "      <td>0.432754</td>\n",
              "    </tr>\n",
              "    <tr>\n",
              "      <th>2021-05-08</th>\n",
              "      <td>-0.444089</td>\n",
              "      <td>-0.160937</td>\n",
              "      <td>0.531621</td>\n",
              "      <td>0.682530</td>\n",
              "    </tr>\n",
              "    <tr>\n",
              "      <th>2021-05-09</th>\n",
              "      <td>-0.509203</td>\n",
              "      <td>0.444349</td>\n",
              "      <td>-0.049450</td>\n",
              "      <td>0.113498</td>\n",
              "    </tr>\n",
              "    <tr>\n",
              "      <th>2021-05-10</th>\n",
              "      <td>0.391467</td>\n",
              "      <td>0.218546</td>\n",
              "      <td>-1.321702</td>\n",
              "      <td>0.136796</td>\n",
              "    </tr>\n",
              "    <tr>\n",
              "      <th>2021-05-11</th>\n",
              "      <td>1.293746</td>\n",
              "      <td>-0.328296</td>\n",
              "      <td>-1.105335</td>\n",
              "      <td>1.196731</td>\n",
              "    </tr>\n",
              "  </tbody>\n",
              "</table>\n",
              "</div>"
            ],
            "text/plain": [
              "                   A         B         C         D\n",
              "2021-05-07 -2.066571 -1.232890 -0.502550  0.432754\n",
              "2021-05-08 -0.444089 -0.160937  0.531621  0.682530\n",
              "2021-05-09 -0.509203  0.444349 -0.049450  0.113498\n",
              "2021-05-10  0.391467  0.218546 -1.321702  0.136796\n",
              "2021-05-11  1.293746 -0.328296 -1.105335  1.196731"
            ]
          },
          "metadata": {
            "tags": []
          },
          "execution_count": 26
        }
      ]
    },
    {
      "cell_type": "code",
      "metadata": {
        "colab": {
          "base_uri": "https://localhost:8080/",
          "height": 204
        },
        "id": "Tv8NWs5nNY3S",
        "outputId": "f3cfd2ac-e2bc-4563-e3f9-f739ae924420"
      },
      "source": [
        "df.tail()"
      ],
      "execution_count": null,
      "outputs": [
        {
          "output_type": "execute_result",
          "data": {
            "text/html": [
              "<div>\n",
              "<style scoped>\n",
              "    .dataframe tbody tr th:only-of-type {\n",
              "        vertical-align: middle;\n",
              "    }\n",
              "\n",
              "    .dataframe tbody tr th {\n",
              "        vertical-align: top;\n",
              "    }\n",
              "\n",
              "    .dataframe thead th {\n",
              "        text-align: right;\n",
              "    }\n",
              "</style>\n",
              "<table border=\"1\" class=\"dataframe\">\n",
              "  <thead>\n",
              "    <tr style=\"text-align: right;\">\n",
              "      <th></th>\n",
              "      <th>A</th>\n",
              "      <th>B</th>\n",
              "      <th>C</th>\n",
              "      <th>D</th>\n",
              "    </tr>\n",
              "  </thead>\n",
              "  <tbody>\n",
              "    <tr>\n",
              "      <th>2021-05-08</th>\n",
              "      <td>-0.444089</td>\n",
              "      <td>-0.160937</td>\n",
              "      <td>0.531621</td>\n",
              "      <td>0.682530</td>\n",
              "    </tr>\n",
              "    <tr>\n",
              "      <th>2021-05-09</th>\n",
              "      <td>-0.509203</td>\n",
              "      <td>0.444349</td>\n",
              "      <td>-0.049450</td>\n",
              "      <td>0.113498</td>\n",
              "    </tr>\n",
              "    <tr>\n",
              "      <th>2021-05-10</th>\n",
              "      <td>0.391467</td>\n",
              "      <td>0.218546</td>\n",
              "      <td>-1.321702</td>\n",
              "      <td>0.136796</td>\n",
              "    </tr>\n",
              "    <tr>\n",
              "      <th>2021-05-11</th>\n",
              "      <td>1.293746</td>\n",
              "      <td>-0.328296</td>\n",
              "      <td>-1.105335</td>\n",
              "      <td>1.196731</td>\n",
              "    </tr>\n",
              "    <tr>\n",
              "      <th>2021-05-12</th>\n",
              "      <td>-0.310119</td>\n",
              "      <td>0.292830</td>\n",
              "      <td>1.270933</td>\n",
              "      <td>-0.094834</td>\n",
              "    </tr>\n",
              "  </tbody>\n",
              "</table>\n",
              "</div>"
            ],
            "text/plain": [
              "                   A         B         C         D\n",
              "2021-05-08 -0.444089 -0.160937  0.531621  0.682530\n",
              "2021-05-09 -0.509203  0.444349 -0.049450  0.113498\n",
              "2021-05-10  0.391467  0.218546 -1.321702  0.136796\n",
              "2021-05-11  1.293746 -0.328296 -1.105335  1.196731\n",
              "2021-05-12 -0.310119  0.292830  1.270933 -0.094834"
            ]
          },
          "metadata": {
            "tags": []
          },
          "execution_count": 28
        }
      ]
    },
    {
      "cell_type": "code",
      "metadata": {
        "colab": {
          "base_uri": "https://localhost:8080/"
        },
        "id": "sesm1gZ7N5Ey",
        "outputId": "ee2dc567-d9e8-4379-ccc0-2a0793650757"
      },
      "source": [
        "df.index"
      ],
      "execution_count": null,
      "outputs": [
        {
          "output_type": "execute_result",
          "data": {
            "text/plain": [
              "DatetimeIndex(['2021-05-07', '2021-05-08', '2021-05-09', '2021-05-10',\n",
              "               '2021-05-11', '2021-05-12'],\n",
              "              dtype='datetime64[ns]', freq='D')"
            ]
          },
          "metadata": {
            "tags": []
          },
          "execution_count": 29
        }
      ]
    },
    {
      "cell_type": "code",
      "metadata": {
        "colab": {
          "base_uri": "https://localhost:8080/"
        },
        "id": "pF0MS-4GN67x",
        "outputId": "542b96dd-8bb0-41ce-b26c-11887049da8d"
      },
      "source": [
        "df.columns"
      ],
      "execution_count": null,
      "outputs": [
        {
          "output_type": "execute_result",
          "data": {
            "text/plain": [
              "Index(['A', 'B', 'C', 'D'], dtype='object')"
            ]
          },
          "metadata": {
            "tags": []
          },
          "execution_count": 31
        }
      ]
    },
    {
      "cell_type": "code",
      "metadata": {
        "colab": {
          "base_uri": "https://localhost:8080/"
        },
        "id": "4_wusEvjOBSq",
        "outputId": "309f4dcc-e5b8-4bc3-cc61-ff085e861036"
      },
      "source": [
        "df.values"
      ],
      "execution_count": null,
      "outputs": [
        {
          "output_type": "execute_result",
          "data": {
            "text/plain": [
              "array([[-2.06657135, -1.23288952, -0.50254956,  0.43275365],\n",
              "       [-0.44408896, -0.16093693,  0.53162084,  0.6825301 ],\n",
              "       [-0.50920317,  0.44434913, -0.04944991,  0.11349767],\n",
              "       [ 0.39146716,  0.21854648, -1.32170227,  0.13679556],\n",
              "       [ 1.29374633, -0.32829613, -1.10533476,  1.19673095],\n",
              "       [-0.31011896,  0.29283049,  1.27093274, -0.0948335 ]])"
            ]
          },
          "metadata": {
            "tags": []
          },
          "execution_count": 32
        }
      ]
    },
    {
      "cell_type": "code",
      "metadata": {
        "colab": {
          "base_uri": "https://localhost:8080/"
        },
        "id": "6xGrKFpTOu-Q",
        "outputId": "4de1d808-81dd-4117-fe1b-2b52b246e0ef"
      },
      "source": [
        "df.describe"
      ],
      "execution_count": null,
      "outputs": [
        {
          "output_type": "execute_result",
          "data": {
            "text/plain": [
              "<bound method NDFrame.describe of                    A         B         C         D\n",
              "2021-05-07 -2.066571 -1.232890 -0.502550  0.432754\n",
              "2021-05-08 -0.444089 -0.160937  0.531621  0.682530\n",
              "2021-05-09 -0.509203  0.444349 -0.049450  0.113498\n",
              "2021-05-10  0.391467  0.218546 -1.321702  0.136796\n",
              "2021-05-11  1.293746 -0.328296 -1.105335  1.196731\n",
              "2021-05-12 -0.310119  0.292830  1.270933 -0.094834>"
            ]
          },
          "metadata": {
            "tags": []
          },
          "execution_count": 33
        }
      ]
    },
    {
      "cell_type": "code",
      "metadata": {
        "colab": {
          "base_uri": "https://localhost:8080/",
          "height": 235
        },
        "id": "4ktgQWP8OyZ5",
        "outputId": "7720c05b-a8f9-48f6-d405-67820ea6d044"
      },
      "source": [
        "df"
      ],
      "execution_count": null,
      "outputs": [
        {
          "output_type": "execute_result",
          "data": {
            "text/html": [
              "<div>\n",
              "<style scoped>\n",
              "    .dataframe tbody tr th:only-of-type {\n",
              "        vertical-align: middle;\n",
              "    }\n",
              "\n",
              "    .dataframe tbody tr th {\n",
              "        vertical-align: top;\n",
              "    }\n",
              "\n",
              "    .dataframe thead th {\n",
              "        text-align: right;\n",
              "    }\n",
              "</style>\n",
              "<table border=\"1\" class=\"dataframe\">\n",
              "  <thead>\n",
              "    <tr style=\"text-align: right;\">\n",
              "      <th></th>\n",
              "      <th>A</th>\n",
              "      <th>B</th>\n",
              "      <th>C</th>\n",
              "      <th>D</th>\n",
              "    </tr>\n",
              "  </thead>\n",
              "  <tbody>\n",
              "    <tr>\n",
              "      <th>2021-05-07</th>\n",
              "      <td>-2.066571</td>\n",
              "      <td>-1.232890</td>\n",
              "      <td>-0.502550</td>\n",
              "      <td>0.432754</td>\n",
              "    </tr>\n",
              "    <tr>\n",
              "      <th>2021-05-08</th>\n",
              "      <td>-0.444089</td>\n",
              "      <td>-0.160937</td>\n",
              "      <td>0.531621</td>\n",
              "      <td>0.682530</td>\n",
              "    </tr>\n",
              "    <tr>\n",
              "      <th>2021-05-09</th>\n",
              "      <td>-0.509203</td>\n",
              "      <td>0.444349</td>\n",
              "      <td>-0.049450</td>\n",
              "      <td>0.113498</td>\n",
              "    </tr>\n",
              "    <tr>\n",
              "      <th>2021-05-10</th>\n",
              "      <td>0.391467</td>\n",
              "      <td>0.218546</td>\n",
              "      <td>-1.321702</td>\n",
              "      <td>0.136796</td>\n",
              "    </tr>\n",
              "    <tr>\n",
              "      <th>2021-05-11</th>\n",
              "      <td>1.293746</td>\n",
              "      <td>-0.328296</td>\n",
              "      <td>-1.105335</td>\n",
              "      <td>1.196731</td>\n",
              "    </tr>\n",
              "    <tr>\n",
              "      <th>2021-05-12</th>\n",
              "      <td>-0.310119</td>\n",
              "      <td>0.292830</td>\n",
              "      <td>1.270933</td>\n",
              "      <td>-0.094834</td>\n",
              "    </tr>\n",
              "  </tbody>\n",
              "</table>\n",
              "</div>"
            ],
            "text/plain": [
              "                   A         B         C         D\n",
              "2021-05-07 -2.066571 -1.232890 -0.502550  0.432754\n",
              "2021-05-08 -0.444089 -0.160937  0.531621  0.682530\n",
              "2021-05-09 -0.509203  0.444349 -0.049450  0.113498\n",
              "2021-05-10  0.391467  0.218546 -1.321702  0.136796\n",
              "2021-05-11  1.293746 -0.328296 -1.105335  1.196731\n",
              "2021-05-12 -0.310119  0.292830  1.270933 -0.094834"
            ]
          },
          "metadata": {
            "tags": []
          },
          "execution_count": 34
        }
      ]
    },
    {
      "cell_type": "code",
      "metadata": {
        "colab": {
          "base_uri": "https://localhost:8080/",
          "height": 173
        },
        "id": "qcbEF2quOzIH",
        "outputId": "c7515870-ab63-4679-acaa-f57a2a8e10b5"
      },
      "source": [
        "df.T"
      ],
      "execution_count": null,
      "outputs": [
        {
          "output_type": "execute_result",
          "data": {
            "text/html": [
              "<div>\n",
              "<style scoped>\n",
              "    .dataframe tbody tr th:only-of-type {\n",
              "        vertical-align: middle;\n",
              "    }\n",
              "\n",
              "    .dataframe tbody tr th {\n",
              "        vertical-align: top;\n",
              "    }\n",
              "\n",
              "    .dataframe thead th {\n",
              "        text-align: right;\n",
              "    }\n",
              "</style>\n",
              "<table border=\"1\" class=\"dataframe\">\n",
              "  <thead>\n",
              "    <tr style=\"text-align: right;\">\n",
              "      <th></th>\n",
              "      <th>2021-05-07</th>\n",
              "      <th>2021-05-08</th>\n",
              "      <th>2021-05-09</th>\n",
              "      <th>2021-05-10</th>\n",
              "      <th>2021-05-11</th>\n",
              "      <th>2021-05-12</th>\n",
              "    </tr>\n",
              "  </thead>\n",
              "  <tbody>\n",
              "    <tr>\n",
              "      <th>A</th>\n",
              "      <td>-2.066571</td>\n",
              "      <td>-0.444089</td>\n",
              "      <td>-0.509203</td>\n",
              "      <td>0.391467</td>\n",
              "      <td>1.293746</td>\n",
              "      <td>-0.310119</td>\n",
              "    </tr>\n",
              "    <tr>\n",
              "      <th>B</th>\n",
              "      <td>-1.232890</td>\n",
              "      <td>-0.160937</td>\n",
              "      <td>0.444349</td>\n",
              "      <td>0.218546</td>\n",
              "      <td>-0.328296</td>\n",
              "      <td>0.292830</td>\n",
              "    </tr>\n",
              "    <tr>\n",
              "      <th>C</th>\n",
              "      <td>-0.502550</td>\n",
              "      <td>0.531621</td>\n",
              "      <td>-0.049450</td>\n",
              "      <td>-1.321702</td>\n",
              "      <td>-1.105335</td>\n",
              "      <td>1.270933</td>\n",
              "    </tr>\n",
              "    <tr>\n",
              "      <th>D</th>\n",
              "      <td>0.432754</td>\n",
              "      <td>0.682530</td>\n",
              "      <td>0.113498</td>\n",
              "      <td>0.136796</td>\n",
              "      <td>1.196731</td>\n",
              "      <td>-0.094834</td>\n",
              "    </tr>\n",
              "  </tbody>\n",
              "</table>\n",
              "</div>"
            ],
            "text/plain": [
              "   2021-05-07  2021-05-08  2021-05-09  2021-05-10  2021-05-11  2021-05-12\n",
              "A   -2.066571   -0.444089   -0.509203    0.391467    1.293746   -0.310119\n",
              "B   -1.232890   -0.160937    0.444349    0.218546   -0.328296    0.292830\n",
              "C   -0.502550    0.531621   -0.049450   -1.321702   -1.105335    1.270933\n",
              "D    0.432754    0.682530    0.113498    0.136796    1.196731   -0.094834"
            ]
          },
          "metadata": {
            "tags": []
          },
          "execution_count": 36
        }
      ]
    },
    {
      "cell_type": "code",
      "metadata": {
        "id": "spkT4of5O2KH"
      },
      "source": [
        ""
      ],
      "execution_count": null,
      "outputs": []
    }
  ]
}