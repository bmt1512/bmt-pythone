{
  "nbformat": 4,
  "nbformat_minor": 0,
  "metadata": {
    "colab": {
      "name": "21512_10주차 실습.ipynb의 사본",
      "provenance": [],
      "collapsed_sections": [],
      "authorship_tag": "ABX9TyNDqtWxn0o9XCHYDNFq3bjd",
      "include_colab_link": true
    },
    "kernelspec": {
      "name": "python3",
      "display_name": "Python 3"
    },
    "language_info": {
      "name": "python"
    }
  },
  "cells": [
    {
      "cell_type": "markdown",
      "metadata": {
        "id": "view-in-github",
        "colab_type": "text"
      },
      "source": [
        "<a href=\"https://colab.research.google.com/github/bmt1512/bmt-pythone/blob/main/21512_10%EC%A3%BC%EC%B0%A8_%EC%8B%A4%EC%8A%B5_ipynb%EC%9D%98_%EC%82%AC%EB%B3%B8.ipynb\" target=\"_parent\"><img src=\"https://colab.research.google.com/assets/colab-badge.svg\" alt=\"Open In Colab\"/></a>"
      ]
    },
    {
      "cell_type": "code",
      "metadata": {
        "id": "bC_5n91NGFMs"
      },
      "source": [
        "import pandas as pd\n",
        "import numpy as np\n",
        "import matplotlib.pyplot as plt"
      ],
      "execution_count": null,
      "outputs": []
    },
    {
      "cell_type": "code",
      "metadata": {
        "colab": {
          "base_uri": "https://localhost:8080/"
        },
        "id": "gjE1Wk4vHqoN",
        "outputId": "28354a16-99f7-43a1-9dbc-083cff7c1db7"
      },
      "source": [
        "s = pd.Series([1, 3, 5, np.nan, 6, 8])\n",
        "print(s)"
      ],
      "execution_count": null,
      "outputs": [
        {
          "output_type": "stream",
          "text": [
            "0    1.0\n",
            "1    3.0\n",
            "2    5.0\n",
            "3    NaN\n",
            "4    6.0\n",
            "5    8.0\n",
            "dtype: float64\n"
          ],
          "name": "stdout"
        }
      ]
    },
    {
      "cell_type": "code",
      "metadata": {
        "colab": {
          "base_uri": "https://localhost:8080/"
        },
        "id": "fBwVYMxRIoSM",
        "outputId": "5d32476c-bfc8-4bc1-bbbd-7b7b89b14537"
      },
      "source": [
        "type(s)"
      ],
      "execution_count": null,
      "outputs": [
        {
          "output_type": "execute_result",
          "data": {
            "text/plain": [
              "pandas.core.series.Series"
            ]
          },
          "metadata": {
            "tags": []
          },
          "execution_count": 8
        }
      ]
    },
    {
      "cell_type": "code",
      "metadata": {
        "colab": {
          "base_uri": "https://localhost:8080/"
        },
        "id": "PilXdAgwIsPC",
        "outputId": "3b5e92bc-2cc0-4636-fa3c-e9483ce3cd9f"
      },
      "source": [
        "dates = pd.date_range('20210507', periods=6)\n",
        "dates"
      ],
      "execution_count": null,
      "outputs": [
        {
          "output_type": "execute_result",
          "data": {
            "text/plain": [
              "DatetimeIndex(['2021-05-07', '2021-05-08', '2021-05-09', '2021-05-10',\n",
              "               '2021-05-11', '2021-05-12'],\n",
              "              dtype='datetime64[ns]', freq='D')"
            ]
          },
          "metadata": {
            "tags": []
          },
          "execution_count": 11
        }
      ]
    },
    {
      "cell_type": "code",
      "metadata": {
        "colab": {
          "base_uri": "https://localhost:8080/",
          "height": 235
        },
        "id": "LqQmZLDOJny6",
        "outputId": "a732559a-70c0-4505-bb77-b75e3d27eaf0"
      },
      "source": [
        "df = pd.DataFrame(np.random.randn(6,4))\n",
        "df"
      ],
      "execution_count": null,
      "outputs": [
        {
          "output_type": "execute_result",
          "data": {
            "text/html": [
              "<div>\n",
              "<style scoped>\n",
              "    .dataframe tbody tr th:only-of-type {\n",
              "        vertical-align: middle;\n",
              "    }\n",
              "\n",
              "    .dataframe tbody tr th {\n",
              "        vertical-align: top;\n",
              "    }\n",
              "\n",
              "    .dataframe thead th {\n",
              "        text-align: right;\n",
              "    }\n",
              "</style>\n",
              "<table border=\"1\" class=\"dataframe\">\n",
              "  <thead>\n",
              "    <tr style=\"text-align: right;\">\n",
              "      <th></th>\n",
              "      <th>0</th>\n",
              "      <th>1</th>\n",
              "      <th>2</th>\n",
              "      <th>3</th>\n",
              "    </tr>\n",
              "  </thead>\n",
              "  <tbody>\n",
              "    <tr>\n",
              "      <th>0</th>\n",
              "      <td>1.298791</td>\n",
              "      <td>0.757322</td>\n",
              "      <td>0.606851</td>\n",
              "      <td>-0.908779</td>\n",
              "    </tr>\n",
              "    <tr>\n",
              "      <th>1</th>\n",
              "      <td>0.046350</td>\n",
              "      <td>-1.110531</td>\n",
              "      <td>0.117871</td>\n",
              "      <td>0.017851</td>\n",
              "    </tr>\n",
              "    <tr>\n",
              "      <th>2</th>\n",
              "      <td>0.124139</td>\n",
              "      <td>0.416123</td>\n",
              "      <td>0.460180</td>\n",
              "      <td>-0.622356</td>\n",
              "    </tr>\n",
              "    <tr>\n",
              "      <th>3</th>\n",
              "      <td>0.758371</td>\n",
              "      <td>-0.027105</td>\n",
              "      <td>0.190534</td>\n",
              "      <td>0.736342</td>\n",
              "    </tr>\n",
              "    <tr>\n",
              "      <th>4</th>\n",
              "      <td>0.831358</td>\n",
              "      <td>0.339904</td>\n",
              "      <td>0.799194</td>\n",
              "      <td>0.857377</td>\n",
              "    </tr>\n",
              "    <tr>\n",
              "      <th>5</th>\n",
              "      <td>-1.038801</td>\n",
              "      <td>0.641172</td>\n",
              "      <td>1.967664</td>\n",
              "      <td>-1.753954</td>\n",
              "    </tr>\n",
              "  </tbody>\n",
              "</table>\n",
              "</div>"
            ],
            "text/plain": [
              "          0         1         2         3\n",
              "0  1.298791  0.757322  0.606851 -0.908779\n",
              "1  0.046350 -1.110531  0.117871  0.017851\n",
              "2  0.124139  0.416123  0.460180 -0.622356\n",
              "3  0.758371 -0.027105  0.190534  0.736342\n",
              "4  0.831358  0.339904  0.799194  0.857377\n",
              "5 -1.038801  0.641172  1.967664 -1.753954"
            ]
          },
          "metadata": {
            "tags": []
          },
          "execution_count": 16
        }
      ]
    },
    {
      "cell_type": "code",
      "metadata": {
        "colab": {
          "base_uri": "https://localhost:8080/",
          "height": 235
        },
        "id": "SCGdQxMQKKya",
        "outputId": "43428315-065f-4a17-c049-23d89f93742a"
      },
      "source": [
        "df = pd.DataFrame(np.random.randn(6,4), index=dates)\n",
        "df"
      ],
      "execution_count": null,
      "outputs": [
        {
          "output_type": "execute_result",
          "data": {
            "text/html": [
              "<div>\n",
              "<style scoped>\n",
              "    .dataframe tbody tr th:only-of-type {\n",
              "        vertical-align: middle;\n",
              "    }\n",
              "\n",
              "    .dataframe tbody tr th {\n",
              "        vertical-align: top;\n",
              "    }\n",
              "\n",
              "    .dataframe thead th {\n",
              "        text-align: right;\n",
              "    }\n",
              "</style>\n",
              "<table border=\"1\" class=\"dataframe\">\n",
              "  <thead>\n",
              "    <tr style=\"text-align: right;\">\n",
              "      <th></th>\n",
              "      <th>0</th>\n",
              "      <th>1</th>\n",
              "      <th>2</th>\n",
              "      <th>3</th>\n",
              "    </tr>\n",
              "  </thead>\n",
              "  <tbody>\n",
              "    <tr>\n",
              "      <th>2021-05-07</th>\n",
              "      <td>1.124884</td>\n",
              "      <td>1.037019</td>\n",
              "      <td>-0.410610</td>\n",
              "      <td>0.926495</td>\n",
              "    </tr>\n",
              "    <tr>\n",
              "      <th>2021-05-08</th>\n",
              "      <td>-0.356332</td>\n",
              "      <td>-1.258256</td>\n",
              "      <td>1.346644</td>\n",
              "      <td>1.833438</td>\n",
              "    </tr>\n",
              "    <tr>\n",
              "      <th>2021-05-09</th>\n",
              "      <td>-0.358473</td>\n",
              "      <td>1.000664</td>\n",
              "      <td>0.636836</td>\n",
              "      <td>-0.115254</td>\n",
              "    </tr>\n",
              "    <tr>\n",
              "      <th>2021-05-10</th>\n",
              "      <td>-0.437754</td>\n",
              "      <td>-0.286515</td>\n",
              "      <td>-1.306956</td>\n",
              "      <td>0.926756</td>\n",
              "    </tr>\n",
              "    <tr>\n",
              "      <th>2021-05-11</th>\n",
              "      <td>0.980450</td>\n",
              "      <td>-0.257207</td>\n",
              "      <td>-1.677245</td>\n",
              "      <td>0.786164</td>\n",
              "    </tr>\n",
              "    <tr>\n",
              "      <th>2021-05-12</th>\n",
              "      <td>1.649286</td>\n",
              "      <td>-0.685929</td>\n",
              "      <td>-0.702855</td>\n",
              "      <td>0.250844</td>\n",
              "    </tr>\n",
              "  </tbody>\n",
              "</table>\n",
              "</div>"
            ],
            "text/plain": [
              "                   0         1         2         3\n",
              "2021-05-07  1.124884  1.037019 -0.410610  0.926495\n",
              "2021-05-08 -0.356332 -1.258256  1.346644  1.833438\n",
              "2021-05-09 -0.358473  1.000664  0.636836 -0.115254\n",
              "2021-05-10 -0.437754 -0.286515 -1.306956  0.926756\n",
              "2021-05-11  0.980450 -0.257207 -1.677245  0.786164\n",
              "2021-05-12  1.649286 -0.685929 -0.702855  0.250844"
            ]
          },
          "metadata": {
            "tags": []
          },
          "execution_count": 17
        }
      ]
    },
    {
      "cell_type": "code",
      "metadata": {
        "colab": {
          "base_uri": "https://localhost:8080/",
          "height": 235
        },
        "id": "kmZdASvZKVRy",
        "outputId": "3d782135-727a-4cac-9fc7-52996410aa1f"
      },
      "source": [
        "df = pd.DataFrame(np.random.randn(6,4), index=dates, columns=list('ABCD'))\n",
        "df"
      ],
      "execution_count": null,
      "outputs": [
        {
          "output_type": "execute_result",
          "data": {
            "text/html": [
              "<div>\n",
              "<style scoped>\n",
              "    .dataframe tbody tr th:only-of-type {\n",
              "        vertical-align: middle;\n",
              "    }\n",
              "\n",
              "    .dataframe tbody tr th {\n",
              "        vertical-align: top;\n",
              "    }\n",
              "\n",
              "    .dataframe thead th {\n",
              "        text-align: right;\n",
              "    }\n",
              "</style>\n",
              "<table border=\"1\" class=\"dataframe\">\n",
              "  <thead>\n",
              "    <tr style=\"text-align: right;\">\n",
              "      <th></th>\n",
              "      <th>A</th>\n",
              "      <th>B</th>\n",
              "      <th>C</th>\n",
              "      <th>D</th>\n",
              "    </tr>\n",
              "  </thead>\n",
              "  <tbody>\n",
              "    <tr>\n",
              "      <th>2021-05-07</th>\n",
              "      <td>-2.066571</td>\n",
              "      <td>-1.232890</td>\n",
              "      <td>-0.502550</td>\n",
              "      <td>0.432754</td>\n",
              "    </tr>\n",
              "    <tr>\n",
              "      <th>2021-05-08</th>\n",
              "      <td>-0.444089</td>\n",
              "      <td>-0.160937</td>\n",
              "      <td>0.531621</td>\n",
              "      <td>0.682530</td>\n",
              "    </tr>\n",
              "    <tr>\n",
              "      <th>2021-05-09</th>\n",
              "      <td>-0.509203</td>\n",
              "      <td>0.444349</td>\n",
              "      <td>-0.049450</td>\n",
              "      <td>0.113498</td>\n",
              "    </tr>\n",
              "    <tr>\n",
              "      <th>2021-05-10</th>\n",
              "      <td>0.391467</td>\n",
              "      <td>0.218546</td>\n",
              "      <td>-1.321702</td>\n",
              "      <td>0.136796</td>\n",
              "    </tr>\n",
              "    <tr>\n",
              "      <th>2021-05-11</th>\n",
              "      <td>1.293746</td>\n",
              "      <td>-0.328296</td>\n",
              "      <td>-1.105335</td>\n",
              "      <td>1.196731</td>\n",
              "    </tr>\n",
              "    <tr>\n",
              "      <th>2021-05-12</th>\n",
              "      <td>-0.310119</td>\n",
              "      <td>0.292830</td>\n",
              "      <td>1.270933</td>\n",
              "      <td>-0.094834</td>\n",
              "    </tr>\n",
              "  </tbody>\n",
              "</table>\n",
              "</div>"
            ],
            "text/plain": [
              "                   A         B         C         D\n",
              "2021-05-07 -2.066571 -1.232890 -0.502550  0.432754\n",
              "2021-05-08 -0.444089 -0.160937  0.531621  0.682530\n",
              "2021-05-09 -0.509203  0.444349 -0.049450  0.113498\n",
              "2021-05-10  0.391467  0.218546 -1.321702  0.136796\n",
              "2021-05-11  1.293746 -0.328296 -1.105335  1.196731\n",
              "2021-05-12 -0.310119  0.292830  1.270933 -0.094834"
            ]
          },
          "metadata": {
            "tags": []
          },
          "execution_count": 22
        }
      ]
    },
    {
      "cell_type": "code",
      "metadata": {
        "colab": {
          "base_uri": "https://localhost:8080/",
          "height": 173
        },
        "id": "PCNAydw7LX8E",
        "outputId": "320c6c62-853f-4ee4-e477-ea36c6d8332e"
      },
      "source": [
        "df2 = pd.DataFrame(\n",
        "    {\n",
        "        'A' : 1.,\n",
        "        'B': pd.Timestamp('20211215'),\n",
        "        'C': pd.Series(1, index=list(range(4)), dtype='float32'),\n",
        "        'D': np.array([3] * 4, dtype='int32'),\n",
        "        'E':pd.Categorical([\"test\", \"train\", \"test\", \"train\"]),\n",
        "        'F': 'foo'\n",
        "    }\n",
        ")\n",
        "df2"
      ],
      "execution_count": null,
      "outputs": [
        {
          "output_type": "execute_result",
          "data": {
            "text/html": [
              "<div>\n",
              "<style scoped>\n",
              "    .dataframe tbody tr th:only-of-type {\n",
              "        vertical-align: middle;\n",
              "    }\n",
              "\n",
              "    .dataframe tbody tr th {\n",
              "        vertical-align: top;\n",
              "    }\n",
              "\n",
              "    .dataframe thead th {\n",
              "        text-align: right;\n",
              "    }\n",
              "</style>\n",
              "<table border=\"1\" class=\"dataframe\">\n",
              "  <thead>\n",
              "    <tr style=\"text-align: right;\">\n",
              "      <th></th>\n",
              "      <th>A</th>\n",
              "      <th>B</th>\n",
              "      <th>C</th>\n",
              "      <th>D</th>\n",
              "      <th>E</th>\n",
              "      <th>F</th>\n",
              "    </tr>\n",
              "  </thead>\n",
              "  <tbody>\n",
              "    <tr>\n",
              "      <th>0</th>\n",
              "      <td>1.0</td>\n",
              "      <td>2021-12-15</td>\n",
              "      <td>1.0</td>\n",
              "      <td>3</td>\n",
              "      <td>test</td>\n",
              "      <td>foo</td>\n",
              "    </tr>\n",
              "    <tr>\n",
              "      <th>1</th>\n",
              "      <td>1.0</td>\n",
              "      <td>2021-12-15</td>\n",
              "      <td>1.0</td>\n",
              "      <td>3</td>\n",
              "      <td>train</td>\n",
              "      <td>foo</td>\n",
              "    </tr>\n",
              "    <tr>\n",
              "      <th>2</th>\n",
              "      <td>1.0</td>\n",
              "      <td>2021-12-15</td>\n",
              "      <td>1.0</td>\n",
              "      <td>3</td>\n",
              "      <td>test</td>\n",
              "      <td>foo</td>\n",
              "    </tr>\n",
              "    <tr>\n",
              "      <th>3</th>\n",
              "      <td>1.0</td>\n",
              "      <td>2021-12-15</td>\n",
              "      <td>1.0</td>\n",
              "      <td>3</td>\n",
              "      <td>train</td>\n",
              "      <td>foo</td>\n",
              "    </tr>\n",
              "  </tbody>\n",
              "</table>\n",
              "</div>"
            ],
            "text/plain": [
              "     A          B    C  D      E    F\n",
              "0  1.0 2021-12-15  1.0  3   test  foo\n",
              "1  1.0 2021-12-15  1.0  3  train  foo\n",
              "2  1.0 2021-12-15  1.0  3   test  foo\n",
              "3  1.0 2021-12-15  1.0  3  train  foo"
            ]
          },
          "metadata": {
            "tags": []
          },
          "execution_count": 23
        }
      ]
    },
    {
      "cell_type": "code",
      "metadata": {
        "colab": {
          "base_uri": "https://localhost:8080/",
          "height": 204
        },
        "id": "pOJytwLQMkdQ",
        "outputId": "abb07dd6-f188-4abb-c607-00211088c4a5"
      },
      "source": [
        "df.head()"
      ],
      "execution_count": null,
      "outputs": [
        {
          "output_type": "execute_result",
          "data": {
            "text/html": [
              "<div>\n",
              "<style scoped>\n",
              "    .dataframe tbody tr th:only-of-type {\n",
              "        vertical-align: middle;\n",
              "    }\n",
              "\n",
              "    .dataframe tbody tr th {\n",
              "        vertical-align: top;\n",
              "    }\n",
              "\n",
              "    .dataframe thead th {\n",
              "        text-align: right;\n",
              "    }\n",
              "</style>\n",
              "<table border=\"1\" class=\"dataframe\">\n",
              "  <thead>\n",
              "    <tr style=\"text-align: right;\">\n",
              "      <th></th>\n",
              "      <th>A</th>\n",
              "      <th>B</th>\n",
              "      <th>C</th>\n",
              "      <th>D</th>\n",
              "    </tr>\n",
              "  </thead>\n",
              "  <tbody>\n",
              "    <tr>\n",
              "      <th>2021-05-07</th>\n",
              "      <td>-2.066571</td>\n",
              "      <td>-1.232890</td>\n",
              "      <td>-0.502550</td>\n",
              "      <td>0.432754</td>\n",
              "    </tr>\n",
              "    <tr>\n",
              "      <th>2021-05-08</th>\n",
              "      <td>-0.444089</td>\n",
              "      <td>-0.160937</td>\n",
              "      <td>0.531621</td>\n",
              "      <td>0.682530</td>\n",
              "    </tr>\n",
              "    <tr>\n",
              "      <th>2021-05-09</th>\n",
              "      <td>-0.509203</td>\n",
              "      <td>0.444349</td>\n",
              "      <td>-0.049450</td>\n",
              "      <td>0.113498</td>\n",
              "    </tr>\n",
              "    <tr>\n",
              "      <th>2021-05-10</th>\n",
              "      <td>0.391467</td>\n",
              "      <td>0.218546</td>\n",
              "      <td>-1.321702</td>\n",
              "      <td>0.136796</td>\n",
              "    </tr>\n",
              "    <tr>\n",
              "      <th>2021-05-11</th>\n",
              "      <td>1.293746</td>\n",
              "      <td>-0.328296</td>\n",
              "      <td>-1.105335</td>\n",
              "      <td>1.196731</td>\n",
              "    </tr>\n",
              "  </tbody>\n",
              "</table>\n",
              "</div>"
            ],
            "text/plain": [
              "                   A         B         C         D\n",
              "2021-05-07 -2.066571 -1.232890 -0.502550  0.432754\n",
              "2021-05-08 -0.444089 -0.160937  0.531621  0.682530\n",
              "2021-05-09 -0.509203  0.444349 -0.049450  0.113498\n",
              "2021-05-10  0.391467  0.218546 -1.321702  0.136796\n",
              "2021-05-11  1.293746 -0.328296 -1.105335  1.196731"
            ]
          },
          "metadata": {
            "tags": []
          },
          "execution_count": 26
        }
      ]
    },
    {
      "cell_type": "code",
      "metadata": {
        "colab": {
          "base_uri": "https://localhost:8080/",
          "height": 204
        },
        "id": "Tv8NWs5nNY3S",
        "outputId": "f3cfd2ac-e2bc-4563-e3f9-f739ae924420"
      },
      "source": [
        "df.tail()"
      ],
      "execution_count": null,
      "outputs": [
        {
          "output_type": "execute_result",
          "data": {
            "text/html": [
              "<div>\n",
              "<style scoped>\n",
              "    .dataframe tbody tr th:only-of-type {\n",
              "        vertical-align: middle;\n",
              "    }\n",
              "\n",
              "    .dataframe tbody tr th {\n",
              "        vertical-align: top;\n",
              "    }\n",
              "\n",
              "    .dataframe thead th {\n",
              "        text-align: right;\n",
              "    }\n",
              "</style>\n",
              "<table border=\"1\" class=\"dataframe\">\n",
              "  <thead>\n",
              "    <tr style=\"text-align: right;\">\n",
              "      <th></th>\n",
              "      <th>A</th>\n",
              "      <th>B</th>\n",
              "      <th>C</th>\n",
              "      <th>D</th>\n",
              "    </tr>\n",
              "  </thead>\n",
              "  <tbody>\n",
              "    <tr>\n",
              "      <th>2021-05-08</th>\n",
              "      <td>-0.444089</td>\n",
              "      <td>-0.160937</td>\n",
              "      <td>0.531621</td>\n",
              "      <td>0.682530</td>\n",
              "    </tr>\n",
              "    <tr>\n",
              "      <th>2021-05-09</th>\n",
              "      <td>-0.509203</td>\n",
              "      <td>0.444349</td>\n",
              "      <td>-0.049450</td>\n",
              "      <td>0.113498</td>\n",
              "    </tr>\n",
              "    <tr>\n",
              "      <th>2021-05-10</th>\n",
              "      <td>0.391467</td>\n",
              "      <td>0.218546</td>\n",
              "      <td>-1.321702</td>\n",
              "      <td>0.136796</td>\n",
              "    </tr>\n",
              "    <tr>\n",
              "      <th>2021-05-11</th>\n",
              "      <td>1.293746</td>\n",
              "      <td>-0.328296</td>\n",
              "      <td>-1.105335</td>\n",
              "      <td>1.196731</td>\n",
              "    </tr>\n",
              "    <tr>\n",
              "      <th>2021-05-12</th>\n",
              "      <td>-0.310119</td>\n",
              "      <td>0.292830</td>\n",
              "      <td>1.270933</td>\n",
              "      <td>-0.094834</td>\n",
              "    </tr>\n",
              "  </tbody>\n",
              "</table>\n",
              "</div>"
            ],
            "text/plain": [
              "                   A         B         C         D\n",
              "2021-05-08 -0.444089 -0.160937  0.531621  0.682530\n",
              "2021-05-09 -0.509203  0.444349 -0.049450  0.113498\n",
              "2021-05-10  0.391467  0.218546 -1.321702  0.136796\n",
              "2021-05-11  1.293746 -0.328296 -1.105335  1.196731\n",
              "2021-05-12 -0.310119  0.292830  1.270933 -0.094834"
            ]
          },
          "metadata": {
            "tags": []
          },
          "execution_count": 28
        }
      ]
    },
    {
      "cell_type": "code",
      "metadata": {
        "colab": {
          "base_uri": "https://localhost:8080/"
        },
        "id": "sesm1gZ7N5Ey",
        "outputId": "ee2dc567-d9e8-4379-ccc0-2a0793650757"
      },
      "source": [
        "df.index"
      ],
      "execution_count": null,
      "outputs": [
        {
          "output_type": "execute_result",
          "data": {
            "text/plain": [
              "DatetimeIndex(['2021-05-07', '2021-05-08', '2021-05-09', '2021-05-10',\n",
              "               '2021-05-11', '2021-05-12'],\n",
              "              dtype='datetime64[ns]', freq='D')"
            ]
          },
          "metadata": {
            "tags": []
          },
          "execution_count": 29
        }
      ]
    },
    {
      "cell_type": "code",
      "metadata": {
        "colab": {
          "base_uri": "https://localhost:8080/"
        },
        "id": "pF0MS-4GN67x",
        "outputId": "542b96dd-8bb0-41ce-b26c-11887049da8d"
      },
      "source": [
        "df.columns"
      ],
      "execution_count": null,
      "outputs": [
        {
          "output_type": "execute_result",
          "data": {
            "text/plain": [
              "Index(['A', 'B', 'C', 'D'], dtype='object')"
            ]
          },
          "metadata": {
            "tags": []
          },
          "execution_count": 31
        }
      ]
    },
    {
      "cell_type": "code",
      "metadata": {
        "colab": {
          "base_uri": "https://localhost:8080/"
        },
        "id": "4_wusEvjOBSq",
        "outputId": "309f4dcc-e5b8-4bc3-cc61-ff085e861036"
      },
      "source": [
        "df.values"
      ],
      "execution_count": null,
      "outputs": [
        {
          "output_type": "execute_result",
          "data": {
            "text/plain": [
              "array([[-2.06657135, -1.23288952, -0.50254956,  0.43275365],\n",
              "       [-0.44408896, -0.16093693,  0.53162084,  0.6825301 ],\n",
              "       [-0.50920317,  0.44434913, -0.04944991,  0.11349767],\n",
              "       [ 0.39146716,  0.21854648, -1.32170227,  0.13679556],\n",
              "       [ 1.29374633, -0.32829613, -1.10533476,  1.19673095],\n",
              "       [-0.31011896,  0.29283049,  1.27093274, -0.0948335 ]])"
            ]
          },
          "metadata": {
            "tags": []
          },
          "execution_count": 32
        }
      ]
    },
    {
      "cell_type": "code",
      "metadata": {
        "colab": {
          "base_uri": "https://localhost:8080/"
        },
        "id": "6xGrKFpTOu-Q",
        "outputId": "4de1d808-81dd-4117-fe1b-2b52b246e0ef"
      },
      "source": [
        "df.describe"
      ],
      "execution_count": null,
      "outputs": [
        {
          "output_type": "execute_result",
          "data": {
            "text/plain": [
              "<bound method NDFrame.describe of                    A         B         C         D\n",
              "2021-05-07 -2.066571 -1.232890 -0.502550  0.432754\n",
              "2021-05-08 -0.444089 -0.160937  0.531621  0.682530\n",
              "2021-05-09 -0.509203  0.444349 -0.049450  0.113498\n",
              "2021-05-10  0.391467  0.218546 -1.321702  0.136796\n",
              "2021-05-11  1.293746 -0.328296 -1.105335  1.196731\n",
              "2021-05-12 -0.310119  0.292830  1.270933 -0.094834>"
            ]
          },
          "metadata": {
            "tags": []
          },
          "execution_count": 33
        }
      ]
    },
    {
      "cell_type": "code",
      "metadata": {
        "colab": {
          "base_uri": "https://localhost:8080/",
          "height": 235
        },
        "id": "4ktgQWP8OyZ5",
        "outputId": "7720c05b-a8f9-48f6-d405-67820ea6d044"
      },
      "source": [
        "df"
      ],
      "execution_count": null,
      "outputs": [
        {
          "output_type": "execute_result",
          "data": {
            "text/html": [
              "<div>\n",
              "<style scoped>\n",
              "    .dataframe tbody tr th:only-of-type {\n",
              "        vertical-align: middle;\n",
              "    }\n",
              "\n",
              "    .dataframe tbody tr th {\n",
              "        vertical-align: top;\n",
              "    }\n",
              "\n",
              "    .dataframe thead th {\n",
              "        text-align: right;\n",
              "    }\n",
              "</style>\n",
              "<table border=\"1\" class=\"dataframe\">\n",
              "  <thead>\n",
              "    <tr style=\"text-align: right;\">\n",
              "      <th></th>\n",
              "      <th>A</th>\n",
              "      <th>B</th>\n",
              "      <th>C</th>\n",
              "      <th>D</th>\n",
              "    </tr>\n",
              "  </thead>\n",
              "  <tbody>\n",
              "    <tr>\n",
              "      <th>2021-05-07</th>\n",
              "      <td>-2.066571</td>\n",
              "      <td>-1.232890</td>\n",
              "      <td>-0.502550</td>\n",
              "      <td>0.432754</td>\n",
              "    </tr>\n",
              "    <tr>\n",
              "      <th>2021-05-08</th>\n",
              "      <td>-0.444089</td>\n",
              "      <td>-0.160937</td>\n",
              "      <td>0.531621</td>\n",
              "      <td>0.682530</td>\n",
              "    </tr>\n",
              "    <tr>\n",
              "      <th>2021-05-09</th>\n",
              "      <td>-0.509203</td>\n",
              "      <td>0.444349</td>\n",
              "      <td>-0.049450</td>\n",
              "      <td>0.113498</td>\n",
              "    </tr>\n",
              "    <tr>\n",
              "      <th>2021-05-10</th>\n",
              "      <td>0.391467</td>\n",
              "      <td>0.218546</td>\n",
              "      <td>-1.321702</td>\n",
              "      <td>0.136796</td>\n",
              "    </tr>\n",
              "    <tr>\n",
              "      <th>2021-05-11</th>\n",
              "      <td>1.293746</td>\n",
              "      <td>-0.328296</td>\n",
              "      <td>-1.105335</td>\n",
              "      <td>1.196731</td>\n",
              "    </tr>\n",
              "    <tr>\n",
              "      <th>2021-05-12</th>\n",
              "      <td>-0.310119</td>\n",
              "      <td>0.292830</td>\n",
              "      <td>1.270933</td>\n",
              "      <td>-0.094834</td>\n",
              "    </tr>\n",
              "  </tbody>\n",
              "</table>\n",
              "</div>"
            ],
            "text/plain": [
              "                   A         B         C         D\n",
              "2021-05-07 -2.066571 -1.232890 -0.502550  0.432754\n",
              "2021-05-08 -0.444089 -0.160937  0.531621  0.682530\n",
              "2021-05-09 -0.509203  0.444349 -0.049450  0.113498\n",
              "2021-05-10  0.391467  0.218546 -1.321702  0.136796\n",
              "2021-05-11  1.293746 -0.328296 -1.105335  1.196731\n",
              "2021-05-12 -0.310119  0.292830  1.270933 -0.094834"
            ]
          },
          "metadata": {
            "tags": []
          },
          "execution_count": 34
        }
      ]
    },
    {
      "cell_type": "code",
      "metadata": {
        "colab": {
          "base_uri": "https://localhost:8080/",
          "height": 173
        },
        "id": "qcbEF2quOzIH",
        "outputId": "c7515870-ab63-4679-acaa-f57a2a8e10b5"
      },
      "source": [
        "df.T"
      ],
      "execution_count": null,
      "outputs": [
        {
          "output_type": "execute_result",
          "data": {
            "text/html": [
              "<div>\n",
              "<style scoped>\n",
              "    .dataframe tbody tr th:only-of-type {\n",
              "        vertical-align: middle;\n",
              "    }\n",
              "\n",
              "    .dataframe tbody tr th {\n",
              "        vertical-align: top;\n",
              "    }\n",
              "\n",
              "    .dataframe thead th {\n",
              "        text-align: right;\n",
              "    }\n",
              "</style>\n",
              "<table border=\"1\" class=\"dataframe\">\n",
              "  <thead>\n",
              "    <tr style=\"text-align: right;\">\n",
              "      <th></th>\n",
              "      <th>2021-05-07</th>\n",
              "      <th>2021-05-08</th>\n",
              "      <th>2021-05-09</th>\n",
              "      <th>2021-05-10</th>\n",
              "      <th>2021-05-11</th>\n",
              "      <th>2021-05-12</th>\n",
              "    </tr>\n",
              "  </thead>\n",
              "  <tbody>\n",
              "    <tr>\n",
              "      <th>A</th>\n",
              "      <td>-2.066571</td>\n",
              "      <td>-0.444089</td>\n",
              "      <td>-0.509203</td>\n",
              "      <td>0.391467</td>\n",
              "      <td>1.293746</td>\n",
              "      <td>-0.310119</td>\n",
              "    </tr>\n",
              "    <tr>\n",
              "      <th>B</th>\n",
              "      <td>-1.232890</td>\n",
              "      <td>-0.160937</td>\n",
              "      <td>0.444349</td>\n",
              "      <td>0.218546</td>\n",
              "      <td>-0.328296</td>\n",
              "      <td>0.292830</td>\n",
              "    </tr>\n",
              "    <tr>\n",
              "      <th>C</th>\n",
              "      <td>-0.502550</td>\n",
              "      <td>0.531621</td>\n",
              "      <td>-0.049450</td>\n",
              "      <td>-1.321702</td>\n",
              "      <td>-1.105335</td>\n",
              "      <td>1.270933</td>\n",
              "    </tr>\n",
              "    <tr>\n",
              "      <th>D</th>\n",
              "      <td>0.432754</td>\n",
              "      <td>0.682530</td>\n",
              "      <td>0.113498</td>\n",
              "      <td>0.136796</td>\n",
              "      <td>1.196731</td>\n",
              "      <td>-0.094834</td>\n",
              "    </tr>\n",
              "  </tbody>\n",
              "</table>\n",
              "</div>"
            ],
            "text/plain": [
              "   2021-05-07  2021-05-08  2021-05-09  2021-05-10  2021-05-11  2021-05-12\n",
              "A   -2.066571   -0.444089   -0.509203    0.391467    1.293746   -0.310119\n",
              "B   -1.232890   -0.160937    0.444349    0.218546   -0.328296    0.292830\n",
              "C   -0.502550    0.531621   -0.049450   -1.321702   -1.105335    1.270933\n",
              "D    0.432754    0.682530    0.113498    0.136796    1.196731   -0.094834"
            ]
          },
          "metadata": {
            "tags": []
          },
          "execution_count": 36
        }
      ]
    },
    {
      "cell_type": "code",
      "metadata": {
        "colab": {
          "base_uri": "https://localhost:8080/",
          "height": 235
        },
        "id": "spkT4of5O2KH",
        "outputId": "566396a8-ede7-43f7-c1e5-53a82ad6dab5"
      },
      "source": [
        "df"
      ],
      "execution_count": null,
      "outputs": [
        {
          "output_type": "execute_result",
          "data": {
            "text/html": [
              "<div>\n",
              "<style scoped>\n",
              "    .dataframe tbody tr th:only-of-type {\n",
              "        vertical-align: middle;\n",
              "    }\n",
              "\n",
              "    .dataframe tbody tr th {\n",
              "        vertical-align: top;\n",
              "    }\n",
              "\n",
              "    .dataframe thead th {\n",
              "        text-align: right;\n",
              "    }\n",
              "</style>\n",
              "<table border=\"1\" class=\"dataframe\">\n",
              "  <thead>\n",
              "    <tr style=\"text-align: right;\">\n",
              "      <th></th>\n",
              "      <th>A</th>\n",
              "      <th>B</th>\n",
              "      <th>C</th>\n",
              "      <th>D</th>\n",
              "    </tr>\n",
              "  </thead>\n",
              "  <tbody>\n",
              "    <tr>\n",
              "      <th>2021-05-07</th>\n",
              "      <td>-2.066571</td>\n",
              "      <td>-1.232890</td>\n",
              "      <td>-0.502550</td>\n",
              "      <td>0.432754</td>\n",
              "    </tr>\n",
              "    <tr>\n",
              "      <th>2021-05-08</th>\n",
              "      <td>-0.444089</td>\n",
              "      <td>-0.160937</td>\n",
              "      <td>0.531621</td>\n",
              "      <td>0.682530</td>\n",
              "    </tr>\n",
              "    <tr>\n",
              "      <th>2021-05-09</th>\n",
              "      <td>-0.509203</td>\n",
              "      <td>0.444349</td>\n",
              "      <td>-0.049450</td>\n",
              "      <td>0.113498</td>\n",
              "    </tr>\n",
              "    <tr>\n",
              "      <th>2021-05-10</th>\n",
              "      <td>0.391467</td>\n",
              "      <td>0.218546</td>\n",
              "      <td>-1.321702</td>\n",
              "      <td>0.136796</td>\n",
              "    </tr>\n",
              "    <tr>\n",
              "      <th>2021-05-11</th>\n",
              "      <td>1.293746</td>\n",
              "      <td>-0.328296</td>\n",
              "      <td>-1.105335</td>\n",
              "      <td>1.196731</td>\n",
              "    </tr>\n",
              "    <tr>\n",
              "      <th>2021-05-12</th>\n",
              "      <td>-0.310119</td>\n",
              "      <td>0.292830</td>\n",
              "      <td>1.270933</td>\n",
              "      <td>-0.094834</td>\n",
              "    </tr>\n",
              "  </tbody>\n",
              "</table>\n",
              "</div>"
            ],
            "text/plain": [
              "                   A         B         C         D\n",
              "2021-05-07 -2.066571 -1.232890 -0.502550  0.432754\n",
              "2021-05-08 -0.444089 -0.160937  0.531621  0.682530\n",
              "2021-05-09 -0.509203  0.444349 -0.049450  0.113498\n",
              "2021-05-10  0.391467  0.218546 -1.321702  0.136796\n",
              "2021-05-11  1.293746 -0.328296 -1.105335  1.196731\n",
              "2021-05-12 -0.310119  0.292830  1.270933 -0.094834"
            ]
          },
          "metadata": {
            "tags": []
          },
          "execution_count": 37
        }
      ]
    },
    {
      "cell_type": "code",
      "metadata": {
        "colab": {
          "base_uri": "https://localhost:8080/"
        },
        "id": "u8ihyeXZSoIJ",
        "outputId": "3a001256-d1a0-4acf-d8bd-32a7ebe7c420"
      },
      "source": [
        "print(df.sort_index(axis=1, ascending=True))"
      ],
      "execution_count": null,
      "outputs": [
        {
          "output_type": "stream",
          "text": [
            "                   A         B         C         D\n",
            "2021-05-07 -2.066571 -1.232890 -0.502550  0.432754\n",
            "2021-05-08 -0.444089 -0.160937  0.531621  0.682530\n",
            "2021-05-09 -0.509203  0.444349 -0.049450  0.113498\n",
            "2021-05-10  0.391467  0.218546 -1.321702  0.136796\n",
            "2021-05-11  1.293746 -0.328296 -1.105335  1.196731\n",
            "2021-05-12 -0.310119  0.292830  1.270933 -0.094834\n"
          ],
          "name": "stdout"
        }
      ]
    },
    {
      "cell_type": "code",
      "metadata": {
        "colab": {
          "base_uri": "https://localhost:8080/"
        },
        "id": "eXhpH6oBSrDZ",
        "outputId": "4f7b5174-1b18-4f74-dadb-2792e6deb7f1"
      },
      "source": [
        "print(df.sort_index(axis=1, ascending=False))"
      ],
      "execution_count": null,
      "outputs": [
        {
          "output_type": "stream",
          "text": [
            "                   D         C         B         A\n",
            "2021-05-07  0.432754 -0.502550 -1.232890 -2.066571\n",
            "2021-05-08  0.682530  0.531621 -0.160937 -0.444089\n",
            "2021-05-09  0.113498 -0.049450  0.444349 -0.509203\n",
            "2021-05-10  0.136796 -1.321702  0.218546  0.391467\n",
            "2021-05-11  1.196731 -1.105335 -0.328296  1.293746\n",
            "2021-05-12 -0.094834  1.270933  0.292830 -0.310119\n"
          ],
          "name": "stdout"
        }
      ]
    },
    {
      "cell_type": "code",
      "metadata": {
        "colab": {
          "base_uri": "https://localhost:8080/"
        },
        "id": "CyTBDO6bStJZ",
        "outputId": "e7321e81-4098-4b55-a887-237bfa134380"
      },
      "source": [
        "print(df.sort_index(axis=0, ascending=True))"
      ],
      "execution_count": null,
      "outputs": [
        {
          "output_type": "stream",
          "text": [
            "                   A         B         C         D\n",
            "2021-05-07 -2.066571 -1.232890 -0.502550  0.432754\n",
            "2021-05-08 -0.444089 -0.160937  0.531621  0.682530\n",
            "2021-05-09 -0.509203  0.444349 -0.049450  0.113498\n",
            "2021-05-10  0.391467  0.218546 -1.321702  0.136796\n",
            "2021-05-11  1.293746 -0.328296 -1.105335  1.196731\n",
            "2021-05-12 -0.310119  0.292830  1.270933 -0.094834\n"
          ],
          "name": "stdout"
        }
      ]
    },
    {
      "cell_type": "code",
      "metadata": {
        "colab": {
          "base_uri": "https://localhost:8080/",
          "height": 235
        },
        "id": "VaV0xD05Sz43",
        "outputId": "e8c4b3ab-0190-44eb-f092-0a3c96ff7386"
      },
      "source": [
        "df.sort_values(by='B')"
      ],
      "execution_count": null,
      "outputs": [
        {
          "output_type": "execute_result",
          "data": {
            "text/html": [
              "<div>\n",
              "<style scoped>\n",
              "    .dataframe tbody tr th:only-of-type {\n",
              "        vertical-align: middle;\n",
              "    }\n",
              "\n",
              "    .dataframe tbody tr th {\n",
              "        vertical-align: top;\n",
              "    }\n",
              "\n",
              "    .dataframe thead th {\n",
              "        text-align: right;\n",
              "    }\n",
              "</style>\n",
              "<table border=\"1\" class=\"dataframe\">\n",
              "  <thead>\n",
              "    <tr style=\"text-align: right;\">\n",
              "      <th></th>\n",
              "      <th>A</th>\n",
              "      <th>B</th>\n",
              "      <th>C</th>\n",
              "      <th>D</th>\n",
              "    </tr>\n",
              "  </thead>\n",
              "  <tbody>\n",
              "    <tr>\n",
              "      <th>2021-05-07</th>\n",
              "      <td>-2.066571</td>\n",
              "      <td>-1.232890</td>\n",
              "      <td>-0.502550</td>\n",
              "      <td>0.432754</td>\n",
              "    </tr>\n",
              "    <tr>\n",
              "      <th>2021-05-11</th>\n",
              "      <td>1.293746</td>\n",
              "      <td>-0.328296</td>\n",
              "      <td>-1.105335</td>\n",
              "      <td>1.196731</td>\n",
              "    </tr>\n",
              "    <tr>\n",
              "      <th>2021-05-08</th>\n",
              "      <td>-0.444089</td>\n",
              "      <td>-0.160937</td>\n",
              "      <td>0.531621</td>\n",
              "      <td>0.682530</td>\n",
              "    </tr>\n",
              "    <tr>\n",
              "      <th>2021-05-10</th>\n",
              "      <td>0.391467</td>\n",
              "      <td>0.218546</td>\n",
              "      <td>-1.321702</td>\n",
              "      <td>0.136796</td>\n",
              "    </tr>\n",
              "    <tr>\n",
              "      <th>2021-05-12</th>\n",
              "      <td>-0.310119</td>\n",
              "      <td>0.292830</td>\n",
              "      <td>1.270933</td>\n",
              "      <td>-0.094834</td>\n",
              "    </tr>\n",
              "    <tr>\n",
              "      <th>2021-05-09</th>\n",
              "      <td>-0.509203</td>\n",
              "      <td>0.444349</td>\n",
              "      <td>-0.049450</td>\n",
              "      <td>0.113498</td>\n",
              "    </tr>\n",
              "  </tbody>\n",
              "</table>\n",
              "</div>"
            ],
            "text/plain": [
              "                   A         B         C         D\n",
              "2021-05-07 -2.066571 -1.232890 -0.502550  0.432754\n",
              "2021-05-11  1.293746 -0.328296 -1.105335  1.196731\n",
              "2021-05-08 -0.444089 -0.160937  0.531621  0.682530\n",
              "2021-05-10  0.391467  0.218546 -1.321702  0.136796\n",
              "2021-05-12 -0.310119  0.292830  1.270933 -0.094834\n",
              "2021-05-09 -0.509203  0.444349 -0.049450  0.113498"
            ]
          },
          "metadata": {
            "tags": []
          },
          "execution_count": 41
        }
      ]
    },
    {
      "cell_type": "code",
      "metadata": {
        "colab": {
          "base_uri": "https://localhost:8080/"
        },
        "id": "tBWLSlszS2-R",
        "outputId": "fddd6439-d051-4125-91df-b20738be8f76"
      },
      "source": [
        "df['A']"
      ],
      "execution_count": null,
      "outputs": [
        {
          "output_type": "execute_result",
          "data": {
            "text/plain": [
              "2021-05-07   -2.066571\n",
              "2021-05-08   -0.444089\n",
              "2021-05-09   -0.509203\n",
              "2021-05-10    0.391467\n",
              "2021-05-11    1.293746\n",
              "2021-05-12   -0.310119\n",
              "Freq: D, Name: A, dtype: float64"
            ]
          },
          "metadata": {
            "tags": []
          },
          "execution_count": 42
        }
      ]
    },
    {
      "cell_type": "code",
      "metadata": {
        "colab": {
          "base_uri": "https://localhost:8080/",
          "height": 235
        },
        "id": "4Fi52V_lTTSQ",
        "outputId": "65c4d143-6ee0-42aa-c821-c091ab92cfe3"
      },
      "source": [
        "df[['A', 'D']]"
      ],
      "execution_count": null,
      "outputs": [
        {
          "output_type": "execute_result",
          "data": {
            "text/html": [
              "<div>\n",
              "<style scoped>\n",
              "    .dataframe tbody tr th:only-of-type {\n",
              "        vertical-align: middle;\n",
              "    }\n",
              "\n",
              "    .dataframe tbody tr th {\n",
              "        vertical-align: top;\n",
              "    }\n",
              "\n",
              "    .dataframe thead th {\n",
              "        text-align: right;\n",
              "    }\n",
              "</style>\n",
              "<table border=\"1\" class=\"dataframe\">\n",
              "  <thead>\n",
              "    <tr style=\"text-align: right;\">\n",
              "      <th></th>\n",
              "      <th>A</th>\n",
              "      <th>D</th>\n",
              "    </tr>\n",
              "  </thead>\n",
              "  <tbody>\n",
              "    <tr>\n",
              "      <th>2021-05-07</th>\n",
              "      <td>-2.066571</td>\n",
              "      <td>0.432754</td>\n",
              "    </tr>\n",
              "    <tr>\n",
              "      <th>2021-05-08</th>\n",
              "      <td>-0.444089</td>\n",
              "      <td>0.682530</td>\n",
              "    </tr>\n",
              "    <tr>\n",
              "      <th>2021-05-09</th>\n",
              "      <td>-0.509203</td>\n",
              "      <td>0.113498</td>\n",
              "    </tr>\n",
              "    <tr>\n",
              "      <th>2021-05-10</th>\n",
              "      <td>0.391467</td>\n",
              "      <td>0.136796</td>\n",
              "    </tr>\n",
              "    <tr>\n",
              "      <th>2021-05-11</th>\n",
              "      <td>1.293746</td>\n",
              "      <td>1.196731</td>\n",
              "    </tr>\n",
              "    <tr>\n",
              "      <th>2021-05-12</th>\n",
              "      <td>-0.310119</td>\n",
              "      <td>-0.094834</td>\n",
              "    </tr>\n",
              "  </tbody>\n",
              "</table>\n",
              "</div>"
            ],
            "text/plain": [
              "                   A         D\n",
              "2021-05-07 -2.066571  0.432754\n",
              "2021-05-08 -0.444089  0.682530\n",
              "2021-05-09 -0.509203  0.113498\n",
              "2021-05-10  0.391467  0.136796\n",
              "2021-05-11  1.293746  1.196731\n",
              "2021-05-12 -0.310119 -0.094834"
            ]
          },
          "metadata": {
            "tags": []
          },
          "execution_count": 44
        }
      ]
    },
    {
      "cell_type": "code",
      "metadata": {
        "colab": {
          "base_uri": "https://localhost:8080/",
          "height": 235
        },
        "id": "z1QnZrufT0YR",
        "outputId": "cc127a34-b1ca-4530-ad0e-57763785d1f4"
      },
      "source": [
        "df"
      ],
      "execution_count": null,
      "outputs": [
        {
          "output_type": "execute_result",
          "data": {
            "text/html": [
              "<div>\n",
              "<style scoped>\n",
              "    .dataframe tbody tr th:only-of-type {\n",
              "        vertical-align: middle;\n",
              "    }\n",
              "\n",
              "    .dataframe tbody tr th {\n",
              "        vertical-align: top;\n",
              "    }\n",
              "\n",
              "    .dataframe thead th {\n",
              "        text-align: right;\n",
              "    }\n",
              "</style>\n",
              "<table border=\"1\" class=\"dataframe\">\n",
              "  <thead>\n",
              "    <tr style=\"text-align: right;\">\n",
              "      <th></th>\n",
              "      <th>A</th>\n",
              "      <th>B</th>\n",
              "      <th>C</th>\n",
              "      <th>D</th>\n",
              "    </tr>\n",
              "  </thead>\n",
              "  <tbody>\n",
              "    <tr>\n",
              "      <th>2021-05-07</th>\n",
              "      <td>-2.066571</td>\n",
              "      <td>-1.232890</td>\n",
              "      <td>-0.502550</td>\n",
              "      <td>0.432754</td>\n",
              "    </tr>\n",
              "    <tr>\n",
              "      <th>2021-05-08</th>\n",
              "      <td>-0.444089</td>\n",
              "      <td>-0.160937</td>\n",
              "      <td>0.531621</td>\n",
              "      <td>0.682530</td>\n",
              "    </tr>\n",
              "    <tr>\n",
              "      <th>2021-05-09</th>\n",
              "      <td>-0.509203</td>\n",
              "      <td>0.444349</td>\n",
              "      <td>-0.049450</td>\n",
              "      <td>0.113498</td>\n",
              "    </tr>\n",
              "    <tr>\n",
              "      <th>2021-05-10</th>\n",
              "      <td>0.391467</td>\n",
              "      <td>0.218546</td>\n",
              "      <td>-1.321702</td>\n",
              "      <td>0.136796</td>\n",
              "    </tr>\n",
              "    <tr>\n",
              "      <th>2021-05-11</th>\n",
              "      <td>1.293746</td>\n",
              "      <td>-0.328296</td>\n",
              "      <td>-1.105335</td>\n",
              "      <td>1.196731</td>\n",
              "    </tr>\n",
              "    <tr>\n",
              "      <th>2021-05-12</th>\n",
              "      <td>-0.310119</td>\n",
              "      <td>0.292830</td>\n",
              "      <td>1.270933</td>\n",
              "      <td>-0.094834</td>\n",
              "    </tr>\n",
              "  </tbody>\n",
              "</table>\n",
              "</div>"
            ],
            "text/plain": [
              "                   A         B         C         D\n",
              "2021-05-07 -2.066571 -1.232890 -0.502550  0.432754\n",
              "2021-05-08 -0.444089 -0.160937  0.531621  0.682530\n",
              "2021-05-09 -0.509203  0.444349 -0.049450  0.113498\n",
              "2021-05-10  0.391467  0.218546 -1.321702  0.136796\n",
              "2021-05-11  1.293746 -0.328296 -1.105335  1.196731\n",
              "2021-05-12 -0.310119  0.292830  1.270933 -0.094834"
            ]
          },
          "metadata": {
            "tags": []
          },
          "execution_count": 45
        }
      ]
    },
    {
      "cell_type": "code",
      "metadata": {
        "colab": {
          "base_uri": "https://localhost:8080/"
        },
        "id": "Q4Mjx7rnT1Jm",
        "outputId": "b6a1ff11-b29e-4e47-f6a2-9102934cc45a"
      },
      "source": [
        "print(df[0:3])\n",
        "print(df['20201114':'20201116'])\n",
        "print(df[['A', 'B', 'C']])"
      ],
      "execution_count": null,
      "outputs": [
        {
          "output_type": "stream",
          "text": [
            "                   A         B         C         D\n",
            "2021-05-07 -2.066571 -1.232890 -0.502550  0.432754\n",
            "2021-05-08 -0.444089 -0.160937  0.531621  0.682530\n",
            "2021-05-09 -0.509203  0.444349 -0.049450  0.113498\n",
            "Empty DataFrame\n",
            "Columns: [A, B, C, D]\n",
            "Index: []\n",
            "                   A         B         C\n",
            "2021-05-07 -2.066571 -1.232890 -0.502550\n",
            "2021-05-08 -0.444089 -0.160937  0.531621\n",
            "2021-05-09 -0.509203  0.444349 -0.049450\n",
            "2021-05-10  0.391467  0.218546 -1.321702\n",
            "2021-05-11  1.293746 -0.328296 -1.105335\n",
            "2021-05-12 -0.310119  0.292830  1.270933\n"
          ],
          "name": "stdout"
        }
      ]
    },
    {
      "cell_type": "code",
      "metadata": {
        "colab": {
          "base_uri": "https://localhost:8080/",
          "height": 111
        },
        "id": "aeey2-noVUMW",
        "outputId": "2fd8258e-e59d-43ae-b1c1-91b88239b882"
      },
      "source": [
        "df.loc['20210507':'20210508', ['A', 'C']]"
      ],
      "execution_count": null,
      "outputs": [
        {
          "output_type": "execute_result",
          "data": {
            "text/html": [
              "<div>\n",
              "<style scoped>\n",
              "    .dataframe tbody tr th:only-of-type {\n",
              "        vertical-align: middle;\n",
              "    }\n",
              "\n",
              "    .dataframe tbody tr th {\n",
              "        vertical-align: top;\n",
              "    }\n",
              "\n",
              "    .dataframe thead th {\n",
              "        text-align: right;\n",
              "    }\n",
              "</style>\n",
              "<table border=\"1\" class=\"dataframe\">\n",
              "  <thead>\n",
              "    <tr style=\"text-align: right;\">\n",
              "      <th></th>\n",
              "      <th>A</th>\n",
              "      <th>C</th>\n",
              "    </tr>\n",
              "  </thead>\n",
              "  <tbody>\n",
              "    <tr>\n",
              "      <th>2021-05-07</th>\n",
              "      <td>-2.066571</td>\n",
              "      <td>-0.502550</td>\n",
              "    </tr>\n",
              "    <tr>\n",
              "      <th>2021-05-08</th>\n",
              "      <td>-0.444089</td>\n",
              "      <td>0.531621</td>\n",
              "    </tr>\n",
              "  </tbody>\n",
              "</table>\n",
              "</div>"
            ],
            "text/plain": [
              "                   A         C\n",
              "2021-05-07 -2.066571 -0.502550\n",
              "2021-05-08 -0.444089  0.531621"
            ]
          },
          "metadata": {
            "tags": []
          },
          "execution_count": 47
        }
      ]
    },
    {
      "cell_type": "code",
      "metadata": {
        "colab": {
          "base_uri": "https://localhost:8080/",
          "height": 111
        },
        "id": "HI5tYWO5Vden",
        "outputId": "f4d4e1f8-cf3a-4728-bf68-0e5e4716c46b"
      },
      "source": [
        "df.iloc[1:3,0:3]"
      ],
      "execution_count": null,
      "outputs": [
        {
          "output_type": "execute_result",
          "data": {
            "text/html": [
              "<div>\n",
              "<style scoped>\n",
              "    .dataframe tbody tr th:only-of-type {\n",
              "        vertical-align: middle;\n",
              "    }\n",
              "\n",
              "    .dataframe tbody tr th {\n",
              "        vertical-align: top;\n",
              "    }\n",
              "\n",
              "    .dataframe thead th {\n",
              "        text-align: right;\n",
              "    }\n",
              "</style>\n",
              "<table border=\"1\" class=\"dataframe\">\n",
              "  <thead>\n",
              "    <tr style=\"text-align: right;\">\n",
              "      <th></th>\n",
              "      <th>A</th>\n",
              "      <th>B</th>\n",
              "      <th>C</th>\n",
              "    </tr>\n",
              "  </thead>\n",
              "  <tbody>\n",
              "    <tr>\n",
              "      <th>2021-05-08</th>\n",
              "      <td>-0.444089</td>\n",
              "      <td>-0.160937</td>\n",
              "      <td>0.531621</td>\n",
              "    </tr>\n",
              "    <tr>\n",
              "      <th>2021-05-09</th>\n",
              "      <td>-0.509203</td>\n",
              "      <td>0.444349</td>\n",
              "      <td>-0.049450</td>\n",
              "    </tr>\n",
              "  </tbody>\n",
              "</table>\n",
              "</div>"
            ],
            "text/plain": [
              "                   A         B         C\n",
              "2021-05-08 -0.444089 -0.160937  0.531621\n",
              "2021-05-09 -0.509203  0.444349 -0.049450"
            ]
          },
          "metadata": {
            "tags": []
          },
          "execution_count": 52
        }
      ]
    },
    {
      "cell_type": "code",
      "metadata": {
        "colab": {
          "base_uri": "https://localhost:8080/",
          "height": 111
        },
        "id": "S38YsUFkW2P3",
        "outputId": "a673d3cb-722c-4d74-9a97-20c1453c3e9a"
      },
      "source": [
        "df.iloc[[1,3], [0, 3]]"
      ],
      "execution_count": null,
      "outputs": [
        {
          "output_type": "execute_result",
          "data": {
            "text/html": [
              "<div>\n",
              "<style scoped>\n",
              "    .dataframe tbody tr th:only-of-type {\n",
              "        vertical-align: middle;\n",
              "    }\n",
              "\n",
              "    .dataframe tbody tr th {\n",
              "        vertical-align: top;\n",
              "    }\n",
              "\n",
              "    .dataframe thead th {\n",
              "        text-align: right;\n",
              "    }\n",
              "</style>\n",
              "<table border=\"1\" class=\"dataframe\">\n",
              "  <thead>\n",
              "    <tr style=\"text-align: right;\">\n",
              "      <th></th>\n",
              "      <th>A</th>\n",
              "      <th>D</th>\n",
              "    </tr>\n",
              "  </thead>\n",
              "  <tbody>\n",
              "    <tr>\n",
              "      <th>2021-05-08</th>\n",
              "      <td>-0.444089</td>\n",
              "      <td>0.682530</td>\n",
              "    </tr>\n",
              "    <tr>\n",
              "      <th>2021-05-10</th>\n",
              "      <td>0.391467</td>\n",
              "      <td>0.136796</td>\n",
              "    </tr>\n",
              "  </tbody>\n",
              "</table>\n",
              "</div>"
            ],
            "text/plain": [
              "                   A         D\n",
              "2021-05-08 -0.444089  0.682530\n",
              "2021-05-10  0.391467  0.136796"
            ]
          },
          "metadata": {
            "tags": []
          },
          "execution_count": 53
        }
      ]
    },
    {
      "cell_type": "code",
      "metadata": {
        "colab": {
          "base_uri": "https://localhost:8080/"
        },
        "id": "YyaFuxo2XDOP",
        "outputId": "373e0665-f6d6-48ce-ab9a-5ed6f0bb8fbb"
      },
      "source": [
        "df.iloc[3,2]"
      ],
      "execution_count": null,
      "outputs": [
        {
          "output_type": "execute_result",
          "data": {
            "text/plain": [
              "-1.3217022702065946"
            ]
          },
          "metadata": {
            "tags": []
          },
          "execution_count": 54
        }
      ]
    },
    {
      "cell_type": "code",
      "metadata": {
        "colab": {
          "base_uri": "https://localhost:8080/",
          "height": 111
        },
        "id": "CzagWykoXmTW",
        "outputId": "ef41afa4-8c7e-4b91-bb03-ea67ae7b06ed"
      },
      "source": [
        "df.iloc[[1,3], [1,3]]"
      ],
      "execution_count": null,
      "outputs": [
        {
          "output_type": "execute_result",
          "data": {
            "text/html": [
              "<div>\n",
              "<style scoped>\n",
              "    .dataframe tbody tr th:only-of-type {\n",
              "        vertical-align: middle;\n",
              "    }\n",
              "\n",
              "    .dataframe tbody tr th {\n",
              "        vertical-align: top;\n",
              "    }\n",
              "\n",
              "    .dataframe thead th {\n",
              "        text-align: right;\n",
              "    }\n",
              "</style>\n",
              "<table border=\"1\" class=\"dataframe\">\n",
              "  <thead>\n",
              "    <tr style=\"text-align: right;\">\n",
              "      <th></th>\n",
              "      <th>B</th>\n",
              "      <th>D</th>\n",
              "    </tr>\n",
              "  </thead>\n",
              "  <tbody>\n",
              "    <tr>\n",
              "      <th>2021-05-08</th>\n",
              "      <td>-0.160937</td>\n",
              "      <td>0.682530</td>\n",
              "    </tr>\n",
              "    <tr>\n",
              "      <th>2021-05-10</th>\n",
              "      <td>0.218546</td>\n",
              "      <td>0.136796</td>\n",
              "    </tr>\n",
              "  </tbody>\n",
              "</table>\n",
              "</div>"
            ],
            "text/plain": [
              "                   B         D\n",
              "2021-05-08 -0.160937  0.682530\n",
              "2021-05-10  0.218546  0.136796"
            ]
          },
          "metadata": {
            "tags": []
          },
          "execution_count": 55
        }
      ]
    },
    {
      "cell_type": "code",
      "metadata": {
        "colab": {
          "base_uri": "https://localhost:8080/"
        },
        "id": "rG7VdaIXYVSe",
        "outputId": "5fc0f73e-6fb7-4acf-9df0-ce314c2a11b6"
      },
      "source": [
        "df.A > 0"
      ],
      "execution_count": null,
      "outputs": [
        {
          "output_type": "execute_result",
          "data": {
            "text/plain": [
              "2021-05-07    False\n",
              "2021-05-08    False\n",
              "2021-05-09    False\n",
              "2021-05-10     True\n",
              "2021-05-11     True\n",
              "2021-05-12    False\n",
              "Freq: D, Name: A, dtype: bool"
            ]
          },
          "metadata": {
            "tags": []
          },
          "execution_count": 57
        }
      ]
    },
    {
      "cell_type": "code",
      "metadata": {
        "colab": {
          "base_uri": "https://localhost:8080/",
          "height": 235
        },
        "id": "kiPgr2woZOqv",
        "outputId": "81cbe7c2-e77a-4f0e-90d2-d8ed8224cc8f"
      },
      "source": [
        "df[df > 0]"
      ],
      "execution_count": null,
      "outputs": [
        {
          "output_type": "execute_result",
          "data": {
            "text/html": [
              "<div>\n",
              "<style scoped>\n",
              "    .dataframe tbody tr th:only-of-type {\n",
              "        vertical-align: middle;\n",
              "    }\n",
              "\n",
              "    .dataframe tbody tr th {\n",
              "        vertical-align: top;\n",
              "    }\n",
              "\n",
              "    .dataframe thead th {\n",
              "        text-align: right;\n",
              "    }\n",
              "</style>\n",
              "<table border=\"1\" class=\"dataframe\">\n",
              "  <thead>\n",
              "    <tr style=\"text-align: right;\">\n",
              "      <th></th>\n",
              "      <th>A</th>\n",
              "      <th>B</th>\n",
              "      <th>C</th>\n",
              "      <th>D</th>\n",
              "    </tr>\n",
              "  </thead>\n",
              "  <tbody>\n",
              "    <tr>\n",
              "      <th>2021-05-07</th>\n",
              "      <td>NaN</td>\n",
              "      <td>NaN</td>\n",
              "      <td>NaN</td>\n",
              "      <td>0.432754</td>\n",
              "    </tr>\n",
              "    <tr>\n",
              "      <th>2021-05-08</th>\n",
              "      <td>NaN</td>\n",
              "      <td>NaN</td>\n",
              "      <td>0.531621</td>\n",
              "      <td>0.682530</td>\n",
              "    </tr>\n",
              "    <tr>\n",
              "      <th>2021-05-09</th>\n",
              "      <td>NaN</td>\n",
              "      <td>0.444349</td>\n",
              "      <td>NaN</td>\n",
              "      <td>0.113498</td>\n",
              "    </tr>\n",
              "    <tr>\n",
              "      <th>2021-05-10</th>\n",
              "      <td>0.391467</td>\n",
              "      <td>0.218546</td>\n",
              "      <td>NaN</td>\n",
              "      <td>0.136796</td>\n",
              "    </tr>\n",
              "    <tr>\n",
              "      <th>2021-05-11</th>\n",
              "      <td>1.293746</td>\n",
              "      <td>NaN</td>\n",
              "      <td>NaN</td>\n",
              "      <td>1.196731</td>\n",
              "    </tr>\n",
              "    <tr>\n",
              "      <th>2021-05-12</th>\n",
              "      <td>NaN</td>\n",
              "      <td>0.292830</td>\n",
              "      <td>1.270933</td>\n",
              "      <td>NaN</td>\n",
              "    </tr>\n",
              "  </tbody>\n",
              "</table>\n",
              "</div>"
            ],
            "text/plain": [
              "                   A         B         C         D\n",
              "2021-05-07       NaN       NaN       NaN  0.432754\n",
              "2021-05-08       NaN       NaN  0.531621  0.682530\n",
              "2021-05-09       NaN  0.444349       NaN  0.113498\n",
              "2021-05-10  0.391467  0.218546       NaN  0.136796\n",
              "2021-05-11  1.293746       NaN       NaN  1.196731\n",
              "2021-05-12       NaN  0.292830  1.270933       NaN"
            ]
          },
          "metadata": {
            "tags": []
          },
          "execution_count": 58
        }
      ]
    },
    {
      "cell_type": "code",
      "metadata": {
        "id": "j39JmK90ZXxO"
      },
      "source": [
        "df2 = df.copy()"
      ],
      "execution_count": null,
      "outputs": []
    },
    {
      "cell_type": "code",
      "metadata": {
        "colab": {
          "base_uri": "https://localhost:8080/",
          "height": 235
        },
        "id": "OvKGEWgYZU3G",
        "outputId": "af41f3f6-5d60-4791-9b0f-738c16a9e3b0"
      },
      "source": [
        "df2"
      ],
      "execution_count": null,
      "outputs": [
        {
          "output_type": "execute_result",
          "data": {
            "text/html": [
              "<div>\n",
              "<style scoped>\n",
              "    .dataframe tbody tr th:only-of-type {\n",
              "        vertical-align: middle;\n",
              "    }\n",
              "\n",
              "    .dataframe tbody tr th {\n",
              "        vertical-align: top;\n",
              "    }\n",
              "\n",
              "    .dataframe thead th {\n",
              "        text-align: right;\n",
              "    }\n",
              "</style>\n",
              "<table border=\"1\" class=\"dataframe\">\n",
              "  <thead>\n",
              "    <tr style=\"text-align: right;\">\n",
              "      <th></th>\n",
              "      <th>A</th>\n",
              "      <th>B</th>\n",
              "      <th>C</th>\n",
              "      <th>D</th>\n",
              "    </tr>\n",
              "  </thead>\n",
              "  <tbody>\n",
              "    <tr>\n",
              "      <th>2021-05-07</th>\n",
              "      <td>-2.066571</td>\n",
              "      <td>-1.232890</td>\n",
              "      <td>-0.502550</td>\n",
              "      <td>0.432754</td>\n",
              "    </tr>\n",
              "    <tr>\n",
              "      <th>2021-05-08</th>\n",
              "      <td>-0.444089</td>\n",
              "      <td>-0.160937</td>\n",
              "      <td>0.531621</td>\n",
              "      <td>0.682530</td>\n",
              "    </tr>\n",
              "    <tr>\n",
              "      <th>2021-05-09</th>\n",
              "      <td>-0.509203</td>\n",
              "      <td>0.444349</td>\n",
              "      <td>-0.049450</td>\n",
              "      <td>0.113498</td>\n",
              "    </tr>\n",
              "    <tr>\n",
              "      <th>2021-05-10</th>\n",
              "      <td>0.391467</td>\n",
              "      <td>0.218546</td>\n",
              "      <td>-1.321702</td>\n",
              "      <td>0.136796</td>\n",
              "    </tr>\n",
              "    <tr>\n",
              "      <th>2021-05-11</th>\n",
              "      <td>1.293746</td>\n",
              "      <td>-0.328296</td>\n",
              "      <td>-1.105335</td>\n",
              "      <td>1.196731</td>\n",
              "    </tr>\n",
              "    <tr>\n",
              "      <th>2021-05-12</th>\n",
              "      <td>-0.310119</td>\n",
              "      <td>0.292830</td>\n",
              "      <td>1.270933</td>\n",
              "      <td>-0.094834</td>\n",
              "    </tr>\n",
              "  </tbody>\n",
              "</table>\n",
              "</div>"
            ],
            "text/plain": [
              "                   A         B         C         D\n",
              "2021-05-07 -2.066571 -1.232890 -0.502550  0.432754\n",
              "2021-05-08 -0.444089 -0.160937  0.531621  0.682530\n",
              "2021-05-09 -0.509203  0.444349 -0.049450  0.113498\n",
              "2021-05-10  0.391467  0.218546 -1.321702  0.136796\n",
              "2021-05-11  1.293746 -0.328296 -1.105335  1.196731\n",
              "2021-05-12 -0.310119  0.292830  1.270933 -0.094834"
            ]
          },
          "metadata": {
            "tags": []
          },
          "execution_count": 62
        }
      ]
    },
    {
      "cell_type": "code",
      "metadata": {
        "colab": {
          "base_uri": "https://localhost:8080/",
          "height": 136
        },
        "id": "QZE2ZapdZgAH",
        "outputId": "6d466dee-555c-4b2b-a433-fe0ce9ca5fca"
      },
      "source": [
        "df2['E'] = [,2,3,4,5,6]"
      ],
      "execution_count": null,
      "outputs": [
        {
          "output_type": "error",
          "ename": "SyntaxError",
          "evalue": "ignored",
          "traceback": [
            "\u001b[0;36m  File \u001b[0;32m\"<ipython-input-65-3ae4f5269c29>\"\u001b[0;36m, line \u001b[0;32m1\u001b[0m\n\u001b[0;31m    df2['E'] = [,2,3,4,5,6]\u001b[0m\n\u001b[0m                ^\u001b[0m\n\u001b[0;31mSyntaxError\u001b[0m\u001b[0;31m:\u001b[0m invalid syntax\n"
          ]
        }
      ]
    },
    {
      "cell_type": "code",
      "metadata": {
        "id": "90TbpoLTZxN-"
      },
      "source": [
        "df2['E'] = ['one', 'one', 'two', 'three', 'four', 'three']"
      ],
      "execution_count": null,
      "outputs": []
    },
    {
      "cell_type": "code",
      "metadata": {
        "colab": {
          "base_uri": "https://localhost:8080/",
          "height": 235
        },
        "id": "sqpB8PMDZ1n1",
        "outputId": "87b69c66-34f0-4525-8f8c-7dd08a68e545"
      },
      "source": [
        "df2"
      ],
      "execution_count": null,
      "outputs": [
        {
          "output_type": "execute_result",
          "data": {
            "text/html": [
              "<div>\n",
              "<style scoped>\n",
              "    .dataframe tbody tr th:only-of-type {\n",
              "        vertical-align: middle;\n",
              "    }\n",
              "\n",
              "    .dataframe tbody tr th {\n",
              "        vertical-align: top;\n",
              "    }\n",
              "\n",
              "    .dataframe thead th {\n",
              "        text-align: right;\n",
              "    }\n",
              "</style>\n",
              "<table border=\"1\" class=\"dataframe\">\n",
              "  <thead>\n",
              "    <tr style=\"text-align: right;\">\n",
              "      <th></th>\n",
              "      <th>A</th>\n",
              "      <th>B</th>\n",
              "      <th>C</th>\n",
              "      <th>D</th>\n",
              "      <th>E</th>\n",
              "    </tr>\n",
              "  </thead>\n",
              "  <tbody>\n",
              "    <tr>\n",
              "      <th>2021-05-07</th>\n",
              "      <td>-2.066571</td>\n",
              "      <td>-1.232890</td>\n",
              "      <td>-0.502550</td>\n",
              "      <td>0.432754</td>\n",
              "      <td>one</td>\n",
              "    </tr>\n",
              "    <tr>\n",
              "      <th>2021-05-08</th>\n",
              "      <td>-0.444089</td>\n",
              "      <td>-0.160937</td>\n",
              "      <td>0.531621</td>\n",
              "      <td>0.682530</td>\n",
              "      <td>one</td>\n",
              "    </tr>\n",
              "    <tr>\n",
              "      <th>2021-05-09</th>\n",
              "      <td>-0.509203</td>\n",
              "      <td>0.444349</td>\n",
              "      <td>-0.049450</td>\n",
              "      <td>0.113498</td>\n",
              "      <td>two</td>\n",
              "    </tr>\n",
              "    <tr>\n",
              "      <th>2021-05-10</th>\n",
              "      <td>0.391467</td>\n",
              "      <td>0.218546</td>\n",
              "      <td>-1.321702</td>\n",
              "      <td>0.136796</td>\n",
              "      <td>three</td>\n",
              "    </tr>\n",
              "    <tr>\n",
              "      <th>2021-05-11</th>\n",
              "      <td>1.293746</td>\n",
              "      <td>-0.328296</td>\n",
              "      <td>-1.105335</td>\n",
              "      <td>1.196731</td>\n",
              "      <td>four</td>\n",
              "    </tr>\n",
              "    <tr>\n",
              "      <th>2021-05-12</th>\n",
              "      <td>-0.310119</td>\n",
              "      <td>0.292830</td>\n",
              "      <td>1.270933</td>\n",
              "      <td>-0.094834</td>\n",
              "      <td>three</td>\n",
              "    </tr>\n",
              "  </tbody>\n",
              "</table>\n",
              "</div>"
            ],
            "text/plain": [
              "                   A         B         C         D      E\n",
              "2021-05-07 -2.066571 -1.232890 -0.502550  0.432754    one\n",
              "2021-05-08 -0.444089 -0.160937  0.531621  0.682530    one\n",
              "2021-05-09 -0.509203  0.444349 -0.049450  0.113498    two\n",
              "2021-05-10  0.391467  0.218546 -1.321702  0.136796  three\n",
              "2021-05-11  1.293746 -0.328296 -1.105335  1.196731   four\n",
              "2021-05-12 -0.310119  0.292830  1.270933 -0.094834  three"
            ]
          },
          "metadata": {
            "tags": []
          },
          "execution_count": 68
        }
      ]
    },
    {
      "cell_type": "code",
      "metadata": {
        "colab": {
          "base_uri": "https://localhost:8080/",
          "height": 111
        },
        "id": "wEIXI_W1Z6LF",
        "outputId": "01cc2294-54dc-4a04-e644-01e5ae348570"
      },
      "source": [
        "df2[df2['E'].isin(['two', 'four'])]"
      ],
      "execution_count": null,
      "outputs": [
        {
          "output_type": "execute_result",
          "data": {
            "text/html": [
              "<div>\n",
              "<style scoped>\n",
              "    .dataframe tbody tr th:only-of-type {\n",
              "        vertical-align: middle;\n",
              "    }\n",
              "\n",
              "    .dataframe tbody tr th {\n",
              "        vertical-align: top;\n",
              "    }\n",
              "\n",
              "    .dataframe thead th {\n",
              "        text-align: right;\n",
              "    }\n",
              "</style>\n",
              "<table border=\"1\" class=\"dataframe\">\n",
              "  <thead>\n",
              "    <tr style=\"text-align: right;\">\n",
              "      <th></th>\n",
              "      <th>A</th>\n",
              "      <th>B</th>\n",
              "      <th>C</th>\n",
              "      <th>D</th>\n",
              "      <th>E</th>\n",
              "    </tr>\n",
              "  </thead>\n",
              "  <tbody>\n",
              "    <tr>\n",
              "      <th>2021-05-09</th>\n",
              "      <td>-0.509203</td>\n",
              "      <td>0.444349</td>\n",
              "      <td>-0.049450</td>\n",
              "      <td>0.113498</td>\n",
              "      <td>two</td>\n",
              "    </tr>\n",
              "    <tr>\n",
              "      <th>2021-05-11</th>\n",
              "      <td>1.293746</td>\n",
              "      <td>-0.328296</td>\n",
              "      <td>-1.105335</td>\n",
              "      <td>1.196731</td>\n",
              "      <td>four</td>\n",
              "    </tr>\n",
              "  </tbody>\n",
              "</table>\n",
              "</div>"
            ],
            "text/plain": [
              "                   A         B         C         D     E\n",
              "2021-05-09 -0.509203  0.444349 -0.049450  0.113498   two\n",
              "2021-05-11  1.293746 -0.328296 -1.105335  1.196731  four"
            ]
          },
          "metadata": {
            "tags": []
          },
          "execution_count": 77
        }
      ]
    },
    {
      "cell_type": "code",
      "metadata": {
        "colab": {
          "base_uri": "https://localhost:8080/",
          "height": 190
        },
        "id": "o_khr_j0a0fS",
        "outputId": "f0798dc7-7391-45a3-b766-050ec2e00de2"
      },
      "source": [
        "df['F'] = s1\n",
        "df"
      ],
      "execution_count": null,
      "outputs": [
        {
          "output_type": "error",
          "ename": "NameError",
          "evalue": "ignored",
          "traceback": [
            "\u001b[0;31m---------------------------------------------------------------------------\u001b[0m",
            "\u001b[0;31mNameError\u001b[0m                                 Traceback (most recent call last)",
            "\u001b[0;32m<ipython-input-78-528742a4d46c>\u001b[0m in \u001b[0;36m<module>\u001b[0;34m()\u001b[0m\n\u001b[0;32m----> 1\u001b[0;31m \u001b[0mdf\u001b[0m\u001b[0;34m[\u001b[0m\u001b[0;34m'F'\u001b[0m\u001b[0;34m]\u001b[0m \u001b[0;34m=\u001b[0m \u001b[0ms1\u001b[0m\u001b[0;34m\u001b[0m\u001b[0;34m\u001b[0m\u001b[0m\n\u001b[0m\u001b[1;32m      2\u001b[0m \u001b[0mdf\u001b[0m\u001b[0;34m\u001b[0m\u001b[0;34m\u001b[0m\u001b[0m\n",
            "\u001b[0;31mNameError\u001b[0m: name 's1' is not defined"
          ]
        }
      ]
    },
    {
      "cell_type": "code",
      "metadata": {
        "colab": {
          "base_uri": "https://localhost:8080/"
        },
        "id": "Um1iiebobaUd",
        "outputId": "88a4ab49-e29c-48eb-ba2c-e47d821d8d74"
      },
      "source": [
        "import pandas as pd\n",
        "import numpy as np\n",
        "\n",
        "dates = pd.date_range('20201113', periods=6)\n",
        "\n",
        "df = pd.DataFrame(np.random.randn(6,4), index=dates, columns=list('ABCD'))\n",
        "\n",
        "print(df);print()\n",
        "\n",
        "# 새 열을 설정하면 데이터가 인덱스 별로 자동 정렬\n",
        "s1 = pd.Series([1, 2, 3, 4, 5, 6], index=pd.date_range('20201113', periods=6))\n",
        "print(s1);print()\n",
        "\n",
        "df['F'] = s1\n",
        "print(df);print()\n",
        "\n",
        "df.at[dates[0],'A'] = 0 # 라벨에 의해 값을 설정\n",
        "df.iat[0,1] = 0 # 위치에 의해 값을 설정 \n",
        "df.loc[:,'D'] = np.array([5] * len(df)) # Numpy 배열을 사용한 할당에 의해 값을 설정 : D열에 5 대입\n",
        "print(df);print()\n",
        "\n",
        "# where 연산 설정\n",
        "df2 = df\n",
        "df2[df2>0] = -df2\n",
        "print(df2)"
      ],
      "execution_count": null,
      "outputs": [
        {
          "output_type": "stream",
          "text": [
            "                   A         B         C         D\n",
            "2020-11-13  1.085156  1.946057  0.793452  0.002641\n",
            "2020-11-14  1.328385  1.122227 -0.633483  0.287466\n",
            "2020-11-15 -1.009700 -0.814660 -0.240472  0.454713\n",
            "2020-11-16 -0.195607  0.268741  0.593690  1.033444\n",
            "2020-11-17  1.106297  0.622011  1.545037  1.599887\n",
            "2020-11-18 -0.478504  0.392446 -0.268381 -1.267026\n",
            "\n",
            "2020-11-13    1\n",
            "2020-11-14    2\n",
            "2020-11-15    3\n",
            "2020-11-16    4\n",
            "2020-11-17    5\n",
            "2020-11-18    6\n",
            "Freq: D, dtype: int64\n",
            "\n",
            "                   A         B         C         D  F\n",
            "2020-11-13  1.085156  1.946057  0.793452  0.002641  1\n",
            "2020-11-14  1.328385  1.122227 -0.633483  0.287466  2\n",
            "2020-11-15 -1.009700 -0.814660 -0.240472  0.454713  3\n",
            "2020-11-16 -0.195607  0.268741  0.593690  1.033444  4\n",
            "2020-11-17  1.106297  0.622011  1.545037  1.599887  5\n",
            "2020-11-18 -0.478504  0.392446 -0.268381 -1.267026  6\n",
            "\n",
            "                   A         B         C  D  F\n",
            "2020-11-13  0.000000  0.000000  0.793452  5  1\n",
            "2020-11-14  1.328385  1.122227 -0.633483  5  2\n",
            "2020-11-15 -1.009700 -0.814660 -0.240472  5  3\n",
            "2020-11-16 -0.195607  0.268741  0.593690  5  4\n",
            "2020-11-17  1.106297  0.622011  1.545037  5  5\n",
            "2020-11-18 -0.478504  0.392446 -0.268381  5  6\n",
            "\n",
            "                   A         B         C  D  F\n",
            "2020-11-13  0.000000  0.000000 -0.793452 -5 -1\n",
            "2020-11-14 -1.328385 -1.122227 -0.633483 -5 -2\n",
            "2020-11-15 -1.009700 -0.814660 -0.240472 -5 -3\n",
            "2020-11-16 -0.195607 -0.268741 -0.593690 -5 -4\n",
            "2020-11-17 -1.106297 -0.622011 -1.545037 -5 -5\n",
            "2020-11-18 -0.478504 -0.392446 -0.268381 -5 -6\n"
          ],
          "name": "stdout"
        }
      ]
    },
    {
      "cell_type": "code",
      "metadata": {
        "id": "7dFWAMqEbbxO"
      },
      "source": [
        ""
      ],
      "execution_count": null,
      "outputs": []
    }
  ]
}