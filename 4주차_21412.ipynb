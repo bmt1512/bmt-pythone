{
  "nbformat": 4,
  "nbformat_minor": 0,
  "metadata": {
    "colab": {
      "name": "4주차 21412.ipynb",
      "provenance": [],
      "authorship_tag": "ABX9TyPl5UXRk2IudQhhWpnXJ0Ub",
      "include_colab_link": true
    },
    "kernelspec": {
      "name": "python3",
      "display_name": "Python 3"
    },
    "language_info": {
      "name": "python"
    }
  },
  "cells": [
    {
      "cell_type": "markdown",
      "metadata": {
        "id": "view-in-github",
        "colab_type": "text"
      },
      "source": [
        "<a href=\"https://colab.research.google.com/github/bmt1512/bmt-pythone/blob/main/4%EC%A3%BC%EC%B0%A8_21412.ipynb\" target=\"_parent\"><img src=\"https://colab.research.google.com/assets/colab-badge.svg\" alt=\"Open In Colab\"/></a>"
      ]
    },
    {
      "cell_type": "code",
      "metadata": {
        "colab": {
          "base_uri": "https://localhost:8080/"
        },
        "id": "tOHeVaUPOJUL",
        "outputId": "258f74f0-4483-411e-ba2f-73f94c696a39"
      },
      "source": [
        "print('hello world', end='\\n')\n",
        "print('busan')"
      ],
      "execution_count": 5,
      "outputs": [
        {
          "output_type": "stream",
          "text": [
            "hello world\n",
            "busan\n"
          ],
          "name": "stdout"
        }
      ]
    },
    {
      "cell_type": "code",
      "metadata": {
        "colab": {
          "base_uri": "https://localhost:8080/"
        },
        "id": "p69p6xKnPT6P",
        "outputId": "87150585-abfd-4afe-a28e-6f80e58592ed"
      },
      "source": [
        "print('helld','world','busan')\n",
        "print('hello'*3)"
      ],
      "execution_count": 8,
      "outputs": [
        {
          "output_type": "stream",
          "text": [
            "helld world busan\n",
            "hellohellohello\n"
          ],
          "name": "stdout"
        }
      ]
    },
    {
      "cell_type": "code",
      "metadata": {
        "colab": {
          "base_uri": "https://localhost:8080/"
        },
        "id": "G4622rO3QXF9",
        "outputId": "42a6ba29-58a2-42b6-e349-c8d9358e97a3"
      },
      "source": [
        "print('hello\\npython')"
      ],
      "execution_count": 10,
      "outputs": [
        {
          "output_type": "stream",
          "text": [
            "hello\n",
            "python\n"
          ],
          "name": "stdout"
        }
      ]
    },
    {
      "cell_type": "code",
      "metadata": {
        "colab": {
          "base_uri": "https://localhost:8080/"
        },
        "id": "bXL6DloeRWks",
        "outputId": "5bd5e1fc-2d59-49a4-ed02-7a2b83a240a6"
      },
      "source": [
        "x = input()"
      ],
      "execution_count": 11,
      "outputs": [
        {
          "output_type": "stream",
          "text": [
            "안녕하세요\n"
          ],
          "name": "stdout"
        }
      ]
    },
    {
      "cell_type": "code",
      "metadata": {
        "colab": {
          "base_uri": "https://localhost:8080/"
        },
        "id": "vYSevzq1SLcc",
        "outputId": "33e2e775-9c68-4dc6-936e-f1997a67d637"
      },
      "source": [
        "x = input('x 입력 : ')\n",
        "y = input('y 입력 : ')"
      ],
      "execution_count": 12,
      "outputs": [
        {
          "output_type": "stream",
          "text": [
            "x 입력 : 10\n",
            "y 입력 : 20\n"
          ],
          "name": "stdout"
        }
      ]
    },
    {
      "cell_type": "code",
      "metadata": {
        "colab": {
          "base_uri": "https://localhost:8080/"
        },
        "id": "kwDelCWdSew0",
        "outputId": "e7540cd8-97df-47c1-fb1e-0ca5bd99dcd9"
      },
      "source": [
        "print(x, '+', y, '=', x+y)"
      ],
      "execution_count": 13,
      "outputs": [
        {
          "output_type": "stream",
          "text": [
            "10 + 20 = 1020\n"
          ],
          "name": "stdout"
        }
      ]
    },
    {
      "cell_type": "code",
      "metadata": {
        "id": "Xvmwt7NkTIlT"
      },
      "source": [
        "x = int(x)\n",
        "y = int(y)"
      ],
      "execution_count": 15,
      "outputs": []
    },
    {
      "cell_type": "code",
      "metadata": {
        "colab": {
          "base_uri": "https://localhost:8080/"
        },
        "id": "lVTjpabOTK9y",
        "outputId": "c1e2804a-7b3d-4d7e-8b33-5636a4a678e6"
      },
      "source": [
        "print(x, '+', y, '=', x+y)"
      ],
      "execution_count": 17,
      "outputs": [
        {
          "output_type": "stream",
          "text": [
            "10 + 20 = 30\n"
          ],
          "name": "stdout"
        }
      ]
    },
    {
      "cell_type": "code",
      "metadata": {
        "colab": {
          "base_uri": "https://localhost:8080/"
        },
        "id": "KTot_Gp_TWvD",
        "outputId": "57982134-cc3c-45bf-e986-f7a959b1e3e9"
      },
      "source": [
        "x = int(input('x 정수 입력 : '))\n",
        "y = int(input('y 정수 입력 : '))"
      ],
      "execution_count": 20,
      "outputs": [
        {
          "output_type": "stream",
          "text": [
            "x 정수 입력 : 10\n",
            "y 정수 입력 : 20\n"
          ],
          "name": "stdout"
        }
      ]
    },
    {
      "cell_type": "code",
      "metadata": {
        "colab": {
          "base_uri": "https://localhost:8080/"
        },
        "id": "6IHguL0FTy4T",
        "outputId": "5e31fdff-458b-4e69-a10f-9e4996b78b76"
      },
      "source": [
        "print(x, '+', y, '=', (x+y))\n",
        "print(x, '-', y, '=', (x-y))\n",
        "print(x, 'x', y, '=', (x*y))\n",
        "print(x, '/', y, '=', (x/y))"
      ],
      "execution_count": 22,
      "outputs": [
        {
          "output_type": "stream",
          "text": [
            "10 + 20 = 30\n",
            "10 - 20 = -10\n",
            "10 x 20 = 200\n",
            "10 / 20 = 0.5\n"
          ],
          "name": "stdout"
        }
      ]
    },
    {
      "cell_type": "code",
      "metadata": {
        "colab": {
          "base_uri": "https://localhost:8080/"
        },
        "id": "V9Kgig-vUC37",
        "outputId": "865ac779-b6cc-4234-d092-9e83539c3699"
      },
      "source": [
        "weight = int(input('weight(kg) : '))\n",
        "height = float(input('height(cm) : '))"
      ],
      "execution_count": 24,
      "outputs": [
        {
          "output_type": "stream",
          "text": [
            "weight(kg) : 62\n",
            "height(cm) : 173\n"
          ],
          "name": "stdout"
        }
      ]
    },
    {
      "cell_type": "code",
      "metadata": {
        "id": "IoiqfoxyUtAk"
      },
      "source": [
        "BMI = weight / (height/100)**2"
      ],
      "execution_count": 25,
      "outputs": []
    },
    {
      "cell_type": "code",
      "metadata": {
        "colab": {
          "base_uri": "https://localhost:8080/"
        },
        "id": "2lbtduYiVGAE",
        "outputId": "4b3db316-6c7a-431f-94b7-c96700f9ef23"
      },
      "source": [
        "print(f'BMI : {BMI:.2f}')"
      ],
      "execution_count": 27,
      "outputs": [
        {
          "output_type": "stream",
          "text": [
            "BMI : 20.72\n"
          ],
          "name": "stdout"
        }
      ]
    },
    {
      "cell_type": "code",
      "metadata": {
        "colab": {
          "base_uri": "https://localhost:8080/",
          "height": 134
        },
        "id": "sQ1xr7sbVMSy",
        "outputId": "3da345b1-5812-4a7b-af9d-f5eee58fdb27"
      },
      "source": [
        "if BMI > 20 :\n",
        "  print('넌 살좀 빼야돼!!!')\n",
        "elif BMI > 30 :\n",
        "  print('넌 헬스장 가야돼!!!')\n",
        "else : BMI > 0 anf BMI <= 20 :\n",
        "  print(' 머...멈춰..!!!')"
      ],
      "execution_count": 29,
      "outputs": [
        {
          "output_type": "error",
          "ename": "SyntaxError",
          "evalue": "ignored",
          "traceback": [
            "\u001b[0;36m  File \u001b[0;32m\"<ipython-input-29-6cca1d254d25>\"\u001b[0;36m, line \u001b[0;32m5\u001b[0m\n\u001b[0;31m    else : BMI > 0 anf BMI <= 20 :\u001b[0m\n\u001b[0m                     ^\u001b[0m\n\u001b[0;31mSyntaxError\u001b[0m\u001b[0;31m:\u001b[0m invalid syntax\n"
          ]
        }
      ]
    },
    {
      "cell_type": "code",
      "metadata": {
        "id": "HWfS7jw9V81L"
      },
      "source": [
        "x = 'hello python'"
      ],
      "execution_count": 30,
      "outputs": []
    },
    {
      "cell_type": "code",
      "metadata": {
        "colab": {
          "base_uri": "https://localhost:8080/"
        },
        "id": "CPrtYMMoaoTx",
        "outputId": "f877a0b5-70d7-4e0f-9b7f-cdd6f2838bef"
      },
      "source": [
        "len(x)"
      ],
      "execution_count": 31,
      "outputs": [
        {
          "output_type": "execute_result",
          "data": {
            "text/plain": [
              "12"
            ]
          },
          "metadata": {
            "tags": []
          },
          "execution_count": 31
        }
      ]
    },
    {
      "cell_type": "code",
      "metadata": {
        "colab": {
          "base_uri": "https://localhost:8080/"
        },
        "id": "Z7nxR8HvbV6x",
        "outputId": "49010235-d3d2-4c7d-9c59-12d1e541b490"
      },
      "source": [
        "x.count('H')"
      ],
      "execution_count": 33,
      "outputs": [
        {
          "output_type": "execute_result",
          "data": {
            "text/plain": [
              "0"
            ]
          },
          "metadata": {
            "tags": []
          },
          "execution_count": 33
        }
      ]
    },
    {
      "cell_type": "code",
      "metadata": {
        "colab": {
          "base_uri": "https://localhost:8080/"
        },
        "id": "1UKtD2dzbswX",
        "outputId": "bd4ac399-4847-408f-e65e-dde3a1ed7a8a"
      },
      "source": [
        "x.find('o')"
      ],
      "execution_count": 36,
      "outputs": [
        {
          "output_type": "execute_result",
          "data": {
            "text/plain": [
              "4"
            ]
          },
          "metadata": {
            "tags": []
          },
          "execution_count": 36
        }
      ]
    },
    {
      "cell_type": "code",
      "metadata": {
        "colab": {
          "base_uri": "https://localhost:8080/",
          "height": 35
        },
        "id": "CrNXexvQcK1P",
        "outputId": "346973d4-8d31-47e0-e949-0b7f717df4a7"
      },
      "source": [
        "x"
      ],
      "execution_count": 38,
      "outputs": [
        {
          "output_type": "execute_result",
          "data": {
            "application/vnd.google.colaboratory.intrinsic+json": {
              "type": "string"
            },
            "text/plain": [
              "'hello python'"
            ]
          },
          "metadata": {
            "tags": []
          },
          "execution_count": 38
        }
      ]
    },
    {
      "cell_type": "code",
      "metadata": {
        "colab": {
          "base_uri": "https://localhost:8080/",
          "height": 169
        },
        "id": "QIK-ZCpLcVAv",
        "outputId": "3890d895-16af-41cd-a8b3-b536f1163d32"
      },
      "source": [
        "x.index('Python')"
      ],
      "execution_count": 41,
      "outputs": [
        {
          "output_type": "error",
          "ename": "ValueError",
          "evalue": "ignored",
          "traceback": [
            "\u001b[0;31m---------------------------------------------------------------------------\u001b[0m",
            "\u001b[0;31mValueError\u001b[0m                                Traceback (most recent call last)",
            "\u001b[0;32m<ipython-input-41-ac4856f2f910>\u001b[0m in \u001b[0;36m<module>\u001b[0;34m()\u001b[0m\n\u001b[0;32m----> 1\u001b[0;31m \u001b[0mx\u001b[0m\u001b[0;34m.\u001b[0m \u001b[0mindex\u001b[0m\u001b[0;34m(\u001b[0m\u001b[0;34m'Python'\u001b[0m\u001b[0;34m)\u001b[0m\u001b[0;34m\u001b[0m\u001b[0;34m\u001b[0m\u001b[0m\n\u001b[0m",
            "\u001b[0;31mValueError\u001b[0m: substring not found"
          ]
        }
      ]
    },
    {
      "cell_type": "code",
      "metadata": {
        "colab": {
          "base_uri": "https://localhost:8080/",
          "height": 35
        },
        "id": "2S1M9j33cowX",
        "outputId": "06f24c45-758c-475f-d83f-eda56f50338f"
      },
      "source": [
        "x"
      ],
      "execution_count": 42,
      "outputs": [
        {
          "output_type": "execute_result",
          "data": {
            "application/vnd.google.colaboratory.intrinsic+json": {
              "type": "string"
            },
            "text/plain": [
              "'hello python'"
            ]
          },
          "metadata": {
            "tags": []
          },
          "execution_count": 42
        }
      ]
    },
    {
      "cell_type": "code",
      "metadata": {
        "colab": {
          "base_uri": "https://localhost:8080/",
          "height": 35
        },
        "id": "RtzYvevNczEv",
        "outputId": "04fe9297-4d4a-487e-9af0-d5105c11fe93"
      },
      "source": [
        "'-'.join(x)"
      ],
      "execution_count": 43,
      "outputs": [
        {
          "output_type": "execute_result",
          "data": {
            "application/vnd.google.colaboratory.intrinsic+json": {
              "type": "string"
            },
            "text/plain": [
              "'h-e-l-l-o- -p-y-t-h-o-n'"
            ]
          },
          "metadata": {
            "tags": []
          },
          "execution_count": 43
        }
      ]
    },
    {
      "cell_type": "code",
      "metadata": {
        "colab": {
          "base_uri": "https://localhost:8080/",
          "height": 35
        },
        "id": "jddkthuXc4tv",
        "outputId": "6ffaadf2-24c2-4aff-aff1-c6f72020617a"
      },
      "source": [
        "x.lower()"
      ],
      "execution_count": 44,
      "outputs": [
        {
          "output_type": "execute_result",
          "data": {
            "application/vnd.google.colaboratory.intrinsic+json": {
              "type": "string"
            },
            "text/plain": [
              "'hello python'"
            ]
          },
          "metadata": {
            "tags": []
          },
          "execution_count": 44
        }
      ]
    },
    {
      "cell_type": "code",
      "metadata": {
        "colab": {
          "base_uri": "https://localhost:8080/",
          "height": 35
        },
        "id": "KWyZra95dHuv",
        "outputId": "efe6f3a6-be86-4955-dc6c-b764ee6ebd53"
      },
      "source": [
        "x.replace('o','😊')"
      ],
      "execution_count": 46,
      "outputs": [
        {
          "output_type": "execute_result",
          "data": {
            "application/vnd.google.colaboratory.intrinsic+json": {
              "type": "string"
            },
            "text/plain": [
              "'hell😊 pyth😊n'"
            ]
          },
          "metadata": {
            "tags": []
          },
          "execution_count": 46
        }
      ]
    },
    {
      "cell_type": "code",
      "metadata": {
        "colab": {
          "base_uri": "https://localhost:8080/",
          "height": 169
        },
        "id": "I3JYca8Gdct_",
        "outputId": "fcc60e8c-55e9-4307-9f90-77d0172caabe"
      },
      "source": [
        " '-'.join(y)"
      ],
      "execution_count": 50,
      "outputs": [
        {
          "output_type": "error",
          "ename": "TypeError",
          "evalue": "ignored",
          "traceback": [
            "\u001b[0;31m---------------------------------------------------------------------------\u001b[0m",
            "\u001b[0;31mTypeError\u001b[0m                                 Traceback (most recent call last)",
            "\u001b[0;32m<ipython-input-50-264a5ca0b6cf>\u001b[0m in \u001b[0;36m<module>\u001b[0;34m()\u001b[0m\n\u001b[0;32m----> 1\u001b[0;31m \u001b[0;34m'-'\u001b[0m\u001b[0;34m.\u001b[0m\u001b[0mjoin\u001b[0m\u001b[0;34m(\u001b[0m\u001b[0my\u001b[0m\u001b[0;34m)\u001b[0m\u001b[0;34m\u001b[0m\u001b[0;34m\u001b[0m\u001b[0m\n\u001b[0m",
            "\u001b[0;31mTypeError\u001b[0m: can only join an iterable"
          ]
        }
      ]
    },
    {
      "cell_type": "code",
      "metadata": {
        "colab": {
          "base_uri": "https://localhost:8080/",
          "height": 151
        },
        "id": "qhXYk00Vd3s-",
        "outputId": "7f65ef64-0437-4c5c-8404-1849e0e5c3d9"
      },
      "source": [
        "corona = '''\n",
        "코로나바이러스(영어: Coronavirus, 문화어: 코로나비루스)는 코로나바이러스과(영어: Coronaviridae)의 코로나바이러스아과(Coronavirinae)에 속하는 RNA 바이러스로,[1][2] 사람과 동물의 호흡기와 소화기계 감염을 유발한다. 주로 점막전염(粘膜感染), 비말전파(飛沫傳播)로 쉽게 감염되며, 사람에게는 일반적으로 경미한 호흡기 감염을 일으키지만 치명적인 감염을 유발하기도 하며, 소와 돼지는 설사, 닭은 호흡기 질환이 발생하기도 한다.\n",
        "\n",
        "코로나바이러스는 현대 문명에서 치명적인 감염병을 일으키는 대표적인 바이러스다. 2003년 4월에는 중화인민공화국발 중증급성호흡기증후군, 일명 사스가 유행해 사망률 9.6%를 기록하며 많은 사람이 사망했다. 2015년에는 중동호흡기증후군, 일명 메르스가 중동에서 전 세계로 퍼지면서 사망률 약 36%로써 사망자가 다수 발생하였다. 또한 2019년 12월부터 중국 우한발 신종 코로나바이러스 감염증(코로나19,COVID-19)이 전 세계로 확진되면서 감염자가 늘어나고 있으며, 치사율은 2020년 2월까지 집계된 자료에 따르면 2.6%로 그나마 낮은 편이지만 전세계에서 확진자가 폭증하는 중이며 예방 또는 치료 목적으로 승인된 백신이나 항바이러스제는 없었다. 하지만 현재 코로나바이러스 백신 후보 물질을 확보하여 국립보건기구는 \"6월부터 임상실험을 시작하겠다\"라는 개발의지와 그 필요성을 언급한바 있다. 그리고 2021년, 아스트라제네카, 토지나메란 등의 백신이 개발되어 대한민국에서 2월부터 접종이 시작됐다. 현재 백신의 안전성에 대한 논란이 있다.\n",
        "print('-'*50)\n",
        "sentence = corona.count('.')\n",
        "print(f'{sentence}\n",
        "print(corona.replace('\\n'.'').split('.'))\n",
        "\n",
        "str = input('찾는 단어 입력 : ')\n"
      ],
      "execution_count": 55,
      "outputs": [
        {
          "output_type": "error",
          "ename": "SyntaxError",
          "evalue": "ignored",
          "traceback": [
            "\u001b[0;36m  File \u001b[0;32m\"<ipython-input-55-1c99f6125bc1>\"\u001b[0;36m, line \u001b[0;32m10\u001b[0m\n\u001b[0;31m    str = input('찾는 단어 입력 : ')\u001b[0m\n\u001b[0m                              \n^\u001b[0m\n\u001b[0;31mSyntaxError\u001b[0m\u001b[0;31m:\u001b[0m EOF while scanning triple-quoted string literal\n"
          ]
        }
      ]
    },
    {
      "cell_type": "code",
      "metadata": {
        "id": "iYHRv9LQe8v5"
      },
      "source": [
        "lst = []"
      ],
      "execution_count": 57,
      "outputs": []
    },
    {
      "cell_type": "code",
      "metadata": {
        "colab": {
          "base_uri": "https://localhost:8080/"
        },
        "id": "h2mjhXLRhrLy",
        "outputId": "31de5348-0a57-4f4e-8e0a-f349dcf780b9"
      },
      "source": [
        "type(lst)"
      ],
      "execution_count": 58,
      "outputs": [
        {
          "output_type": "execute_result",
          "data": {
            "text/plain": [
              "list"
            ]
          },
          "metadata": {
            "tags": []
          },
          "execution_count": 58
        }
      ]
    },
    {
      "cell_type": "code",
      "metadata": {
        "colab": {
          "base_uri": "https://localhost:8080/"
        },
        "id": "ehpBXxYrhxXc",
        "outputId": "15438893-729e-4cdb-fef7-55bdc711f821"
      },
      "source": [
        "lst = [10, 20, 30]\n",
        "lst"
      ],
      "execution_count": 61,
      "outputs": [
        {
          "output_type": "execute_result",
          "data": {
            "text/plain": [
              "[10, 20, 30]"
            ]
          },
          "metadata": {
            "tags": []
          },
          "execution_count": 61
        }
      ]
    },
    {
      "cell_type": "code",
      "metadata": {
        "colab": {
          "base_uri": "https://localhost:8080/"
        },
        "id": "IdVJTQbXh2ct",
        "outputId": "464e7eb1-fd1c-48d0-9898-1283e17d15a7"
      },
      "source": [
        "lst[0]"
      ],
      "execution_count": 62,
      "outputs": [
        {
          "output_type": "execute_result",
          "data": {
            "text/plain": [
              "10"
            ]
          },
          "metadata": {
            "tags": []
          },
          "execution_count": 62
        }
      ]
    },
    {
      "cell_type": "code",
      "metadata": {
        "colab": {
          "base_uri": "https://localhost:8080/"
        },
        "id": "Rj6g85qoiDBt",
        "outputId": "fb0484fa-7fa8-47d4-d9fb-b33685ed4e5e"
      },
      "source": [
        "lst[-1]"
      ],
      "execution_count": 63,
      "outputs": [
        {
          "output_type": "execute_result",
          "data": {
            "text/plain": [
              "30"
            ]
          },
          "metadata": {
            "tags": []
          },
          "execution_count": 63
        }
      ]
    },
    {
      "cell_type": "code",
      "metadata": {
        "colab": {
          "base_uri": "https://localhost:8080/"
        },
        "id": "wYQTNWDBiF5d",
        "outputId": "16afbb6b-8754-4b43-9146-a7ee0a6be1cc"
      },
      "source": [
        "lst"
      ],
      "execution_count": 64,
      "outputs": [
        {
          "output_type": "execute_result",
          "data": {
            "text/plain": [
              "[10, 20, 30]"
            ]
          },
          "metadata": {
            "tags": []
          },
          "execution_count": 64
        }
      ]
    },
    {
      "cell_type": "code",
      "metadata": {
        "colab": {
          "base_uri": "https://localhost:8080/"
        },
        "id": "0Z50bKBFiHMe",
        "outputId": "f7b19930-67f7-4cfb-8772-02d1388c3a4a"
      },
      "source": [
        "lst[:2]"
      ],
      "execution_count": 65,
      "outputs": [
        {
          "output_type": "execute_result",
          "data": {
            "text/plain": [
              "[10, 20]"
            ]
          },
          "metadata": {
            "tags": []
          },
          "execution_count": 65
        }
      ]
    },
    {
      "cell_type": "code",
      "metadata": {
        "id": "o3_uWJYAiKU9"
      },
      "source": [
        "lst1 = [10,20]\n",
        "lst2 = [100,200]"
      ],
      "execution_count": 67,
      "outputs": []
    },
    {
      "cell_type": "code",
      "metadata": {
        "colab": {
          "base_uri": "https://localhost:8080/"
        },
        "id": "uYTfv8W3iUtc",
        "outputId": "10f8d4e8-683c-4336-fe92-599401f49b25"
      },
      "source": [
        "lst1+lst2"
      ],
      "execution_count": 68,
      "outputs": [
        {
          "output_type": "execute_result",
          "data": {
            "text/plain": [
              "[10, 20, 100, 200]"
            ]
          },
          "metadata": {
            "tags": []
          },
          "execution_count": 68
        }
      ]
    },
    {
      "cell_type": "code",
      "metadata": {
        "colab": {
          "base_uri": "https://localhost:8080/"
        },
        "id": "QpbWwOALiWgM",
        "outputId": "2f3a23bc-a611-41ee-83c7-92d99be134c8"
      },
      "source": [
        "lst1*3\n"
      ],
      "execution_count": 70,
      "outputs": [
        {
          "output_type": "execute_result",
          "data": {
            "text/plain": [
              "[10, 20, 10, 20, 10, 20]"
            ]
          },
          "metadata": {
            "tags": []
          },
          "execution_count": 70
        }
      ]
    },
    {
      "cell_type": "code",
      "metadata": {
        "id": "hMm33rx-iYUs"
      },
      "source": [
        "lst = ['a', 'b', 'c']"
      ],
      "execution_count": 71,
      "outputs": []
    },
    {
      "cell_type": "code",
      "metadata": {
        "colab": {
          "base_uri": "https://localhost:8080/"
        },
        "id": "FgS-8qkpivTN",
        "outputId": "993eb736-0292-46e7-9a9e-fe2f6a286622"
      },
      "source": [
        "lst"
      ],
      "execution_count": 72,
      "outputs": [
        {
          "output_type": "execute_result",
          "data": {
            "text/plain": [
              "['a', 'b', 'c']"
            ]
          },
          "metadata": {
            "tags": []
          },
          "execution_count": 72
        }
      ]
    },
    {
      "cell_type": "code",
      "metadata": {
        "id": "BXzFEhoGiwJc"
      },
      "source": [
        "lst.append('d')"
      ],
      "execution_count": 73,
      "outputs": []
    },
    {
      "cell_type": "code",
      "metadata": {
        "colab": {
          "base_uri": "https://localhost:8080/"
        },
        "id": "4G0huT-Siyrs",
        "outputId": "0037d23f-c999-448e-fa65-6b81b158ed60"
      },
      "source": [
        "lst"
      ],
      "execution_count": 74,
      "outputs": [
        {
          "output_type": "execute_result",
          "data": {
            "text/plain": [
              "['a', 'b', 'c', 'd']"
            ]
          },
          "metadata": {
            "tags": []
          },
          "execution_count": 74
        }
      ]
    },
    {
      "cell_type": "code",
      "metadata": {
        "colab": {
          "base_uri": "https://localhost:8080/",
          "height": 35
        },
        "id": "YfBI_R82izg9",
        "outputId": "67edbeaa-5341-46c4-8ff6-67da01130f4f"
      },
      "source": [
        "lst.pop()"
      ],
      "execution_count": 75,
      "outputs": [
        {
          "output_type": "execute_result",
          "data": {
            "application/vnd.google.colaboratory.intrinsic+json": {
              "type": "string"
            },
            "text/plain": [
              "'d'"
            ]
          },
          "metadata": {
            "tags": []
          },
          "execution_count": 75
        }
      ]
    },
    {
      "cell_type": "code",
      "metadata": {
        "colab": {
          "base_uri": "https://localhost:8080/"
        },
        "id": "ByKyexiMi57c",
        "outputId": "7d07ee17-c3b6-4d2d-f334-9f9aae9881b0"
      },
      "source": [
        "lst"
      ],
      "execution_count": 76,
      "outputs": [
        {
          "output_type": "execute_result",
          "data": {
            "text/plain": [
              "['a', 'b', 'c']"
            ]
          },
          "metadata": {
            "tags": []
          },
          "execution_count": 76
        }
      ]
    },
    {
      "cell_type": "code",
      "metadata": {
        "id": "lVE0GetdjAKM"
      },
      "source": [
        "lst[0] = 'e'"
      ],
      "execution_count": 78,
      "outputs": []
    },
    {
      "cell_type": "code",
      "metadata": {
        "colab": {
          "base_uri": "https://localhost:8080/"
        },
        "id": "gjnUlramjH6x",
        "outputId": "f1365b36-5830-4cbd-b8f0-7fa611fe20e7"
      },
      "source": [
        "lst"
      ],
      "execution_count": 79,
      "outputs": [
        {
          "output_type": "execute_result",
          "data": {
            "text/plain": [
              "['e', 'b', 'c']"
            ]
          },
          "metadata": {
            "tags": []
          },
          "execution_count": 79
        }
      ]
    },
    {
      "cell_type": "code",
      "metadata": {
        "colab": {
          "base_uri": "https://localhost:8080/"
        },
        "id": "vLL9d8npjLXr",
        "outputId": "3d4d0a15-ceb0-4573-a84f-bf921477b1e3"
      },
      "source": [
        "lst.index('c')"
      ],
      "execution_count": 80,
      "outputs": [
        {
          "output_type": "execute_result",
          "data": {
            "text/plain": [
              "2"
            ]
          },
          "metadata": {
            "tags": []
          },
          "execution_count": 80
        }
      ]
    },
    {
      "cell_type": "code",
      "metadata": {
        "colab": {
          "base_uri": "https://localhost:8080/",
          "height": 35
        },
        "id": "Z0AXx3bAjYzh",
        "outputId": "62e2ed52-2836-4559-bb40-a39681e8996f"
      },
      "source": [
        "lst[2]"
      ],
      "execution_count": 81,
      "outputs": [
        {
          "output_type": "execute_result",
          "data": {
            "application/vnd.google.colaboratory.intrinsic+json": {
              "type": "string"
            },
            "text/plain": [
              "'c'"
            ]
          },
          "metadata": {
            "tags": []
          },
          "execution_count": 81
        }
      ]
    },
    {
      "cell_type": "code",
      "metadata": {
        "id": "JAiBpsKOjdwu"
      },
      "source": [
        "lst.append('a')"
      ],
      "execution_count": 83,
      "outputs": []
    },
    {
      "cell_type": "code",
      "metadata": {
        "colab": {
          "base_uri": "https://localhost:8080/"
        },
        "id": "o7QhCU6Gjk_u",
        "outputId": "c36d0c4c-458b-4d99-874d-d52f83a69958"
      },
      "source": [
        "lst"
      ],
      "execution_count": 84,
      "outputs": [
        {
          "output_type": "execute_result",
          "data": {
            "text/plain": [
              "['e', 'b', 'c', 'a']"
            ]
          },
          "metadata": {
            "tags": []
          },
          "execution_count": 84
        }
      ]
    },
    {
      "cell_type": "code",
      "metadata": {
        "colab": {
          "base_uri": "https://localhost:8080/"
        },
        "id": "dW9m0vjfjpsA",
        "outputId": "b48d3ef6-8ea9-4f59-802f-6d872fb3467c"
      },
      "source": [
        "lst.count('a')"
      ],
      "execution_count": 85,
      "outputs": [
        {
          "output_type": "execute_result",
          "data": {
            "text/plain": [
              "1"
            ]
          },
          "metadata": {
            "tags": []
          },
          "execution_count": 85
        }
      ]
    },
    {
      "cell_type": "code",
      "metadata": {
        "colab": {
          "base_uri": "https://localhost:8080/"
        },
        "id": "SR1zZPsbjsR8",
        "outputId": "5ca8d1f9-c30e-4612-b716-9fbac18dcf88"
      },
      "source": [
        "lst"
      ],
      "execution_count": 86,
      "outputs": [
        {
          "output_type": "execute_result",
          "data": {
            "text/plain": [
              "['e', 'b', 'c', 'a']"
            ]
          },
          "metadata": {
            "tags": []
          },
          "execution_count": 86
        }
      ]
    },
    {
      "cell_type": "code",
      "metadata": {
        "id": "pNq5mJSLj8uG"
      },
      "source": [
        "lst.sort()"
      ],
      "execution_count": 87,
      "outputs": []
    },
    {
      "cell_type": "code",
      "metadata": {
        "colab": {
          "base_uri": "https://localhost:8080/"
        },
        "id": "pYz_E3skj-rH",
        "outputId": "16517890-76e1-428e-d384-31078d3751bc"
      },
      "source": [
        "lst"
      ],
      "execution_count": 88,
      "outputs": [
        {
          "output_type": "execute_result",
          "data": {
            "text/plain": [
              "['a', 'b', 'c', 'e']"
            ]
          },
          "metadata": {
            "tags": []
          },
          "execution_count": 88
        }
      ]
    },
    {
      "cell_type": "code",
      "metadata": {
        "id": "7_orYl0sj_ei"
      },
      "source": [
        ""
      ],
      "execution_count": null,
      "outputs": []
    }
  ]
}