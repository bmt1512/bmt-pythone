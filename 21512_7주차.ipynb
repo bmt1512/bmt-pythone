{
  "nbformat": 4,
  "nbformat_minor": 0,
  "metadata": {
    "colab": {
      "name": "21512_7주차",
      "provenance": [],
      "authorship_tag": "ABX9TyOpviOusT3ri2HZCHp4keuP",
      "include_colab_link": true
    },
    "kernelspec": {
      "name": "python3",
      "display_name": "Python 3"
    },
    "language_info": {
      "name": "python"
    }
  },
  "cells": [
    {
      "cell_type": "markdown",
      "metadata": {
        "id": "view-in-github",
        "colab_type": "text"
      },
      "source": [
        "<a href=\"https://colab.research.google.com/github/bmt1512/bmt-pythone/blob/main/21512_7%EC%A3%BC%EC%B0%A8.ipynb\" target=\"_parent\"><img src=\"https://colab.research.google.com/assets/colab-badge.svg\" alt=\"Open In Colab\"/></a>"
      ]
    },
    {
      "cell_type": "code",
      "metadata": {
        "colab": {
          "base_uri": "https://localhost:8080/"
        },
        "id": "CcafxqS6JG49",
        "outputId": "cba9f05a-802e-4b19-cba0-5ff0200f6d82"
      },
      "source": [
        "x = int(input('값 입력:'))"
      ],
      "execution_count": null,
      "outputs": [
        {
          "output_type": "stream",
          "text": [
            "값 입력:4\n"
          ],
          "name": "stdout"
        }
      ]
    },
    {
      "cell_type": "code",
      "metadata": {
        "colab": {
          "base_uri": "https://localhost:8080/"
        },
        "id": "pTlvAbxfKbSe",
        "outputId": "33d1e9c0-c2f3-4d6c-bd66-8a30e56f5c1a"
      },
      "source": [
        "if x %2 == 0:\n",
        " print(f' {x} : even')\n",
        " print('babo')\n",
        "print('hello')"
      ],
      "execution_count": null,
      "outputs": [
        {
          "output_type": "stream",
          "text": [
            " 4 : even\n",
            "babo\n",
            "hello\n"
          ],
          "name": "stdout"
        }
      ]
    },
    {
      "cell_type": "code",
      "metadata": {
        "id": "v9rqp1aiLIzO"
      },
      "source": [
        ""
      ],
      "execution_count": null,
      "outputs": []
    },
    {
      "cell_type": "code",
      "metadata": {
        "colab": {
          "base_uri": "https://localhost:8080/"
        },
        "id": "hzSVCQ4TLerg",
        "outputId": "33d1e9c0-c2f3-4d6c-bd66-8a30e56f5c1a"
      },
      "source": [
        "while true :\n",
        "x = int(input('값 입력:'))\n",
        "if x %2 == 0:\n",
        " print(f' {x} : 짝수')\n",
        " print('babo')\n",
        "print('hello')"
      ],
      "execution_count": null,
      "outputs": [
        {
          "output_type": "stream",
          "text": [
            " 4 : even\n",
            "babo\n",
            "hello\n"
          ],
          "name": "stdout"
        }
      ]
    },
    {
      "cell_type": "code",
      "metadata": {
        "id": "z7K88uyVMTV2"
      },
      "source": [
        ""
      ],
      "execution_count": null,
      "outputs": []
    },
    {
      "cell_type": "code",
      "metadata": {
        "id": "CvX2WMBj8XZC",
        "colab": {
          "base_uri": "https://localhost:8080/"
        },
        "outputId": "c046048a-9c12-4f50-b9e5-1d265b7928d9"
      },
      "source": [
        "# 홀수 짝수 구분 - 2\n",
        "\n",
        "x = int(input('값 입력 : '))\n",
        "\n",
        "if x % 2 == 0:\n",
        "  print(f'{x}(은/는) 짝수')\n",
        "else :\n",
        "  print(f'{x}(은/는) 홀수')"
      ],
      "execution_count": null,
      "outputs": [
        {
          "output_type": "stream",
          "text": [
            "값 입력 : 5\n",
            "5(은/는) 홀수\n"
          ],
          "name": "stdout"
        }
      ]
    },
    {
      "cell_type": "code",
      "metadata": {
        "id": "slnCWvfZ8heZ",
        "colab": {
          "base_uri": "https://localhost:8080/"
        },
        "outputId": "df1188b1-dd5f-4261-f97c-ea875ec38601"
      },
      "source": [
        "\n",
        "\n",
        "x = float(input('성적입력 : '))\n",
        "\n",
        "if x >= 70:\n",
        "  print(f'{x} : Pass')\n",
        "elif x >= 60:\n",
        "  print(f'{x} : 재시험')\n",
        "else:\n",
        "  print(f'{x} : fail')"
      ],
      "execution_count": null,
      "outputs": [
        {
          "output_type": "stream",
          "text": [
            "성적입력 : 100\n",
            "100.0 : Pass\n"
          ],
          "name": "stdout"
        }
      ]
    },
    {
      "cell_type": "code",
      "metadata": {
        "id": "5DaV14Lw9J35",
        "colab": {
          "base_uri": "https://localhost:8080/"
        },
        "outputId": "3253a13b-ebbb-4e10-a374-e71b93163466"
      },
      "source": [
        "str = '안녕하세요.'\n",
        "\n",
        "in '안녕하세요'"
      ],
      "execution_count": null,
      "outputs": [
        {
          "output_type": "execute_result",
          "data": {
            "text/plain": [
              "True"
            ]
          },
          "metadata": {
            "tags": []
          },
          "execution_count": 61
        }
      ]
    },
    {
      "cell_type": "code",
      "metadata": {
        "id": "KY9B0UtmN4qh"
      },
      "source": [
        "1 in [1,2,3]"
      ],
      "execution_count": null,
      "outputs": []
    },
    {
      "cell_type": "code",
      "metadata": {
        "id": "-95WdUnNN840"
      },
      "source": [
        "str='안녕하세요'\n",
        "fot i in str:\n",
        " print(i)"
      ],
      "execution_count": null,
      "outputs": []
    },
    {
      "cell_type": "code",
      "metadata": {
        "colab": {
          "base_uri": "https://localhost:8080/"
        },
        "id": "KY4TP9psOkr-",
        "outputId": "49bfbd3b-c66d-426e-bb2d-e92207a024a6"
      },
      "source": [
        "lst=list(range(10))\n",
        "for i in lst:\n",
        "  print(i)"
      ],
      "execution_count": null,
      "outputs": [
        {
          "output_type": "stream",
          "text": [
            "0\n",
            "1\n",
            "2\n",
            "3\n",
            "4\n",
            "5\n",
            "6\n",
            "7\n",
            "8\n",
            "9\n"
          ],
          "name": "stdout"
        }
      ]
    },
    {
      "cell_type": "code",
      "metadata": {
        "id": "HHgwgnZhPTq9"
      },
      "source": [
        ""
      ],
      "execution_count": null,
      "outputs": []
    },
    {
      "cell_type": "code",
      "metadata": {
        "id": "wUWfV-HhBJm6",
        "colab": {
          "base_uri": "https://localhost:8080/"
        },
        "outputId": "840bfcf3-66ab-40b4-88e1-16e983124d59"
      },
      "source": [
        "\n",
        "\n",
        "d = {'a':1, 'b':2}\n",
        "\n",
        "print(d)\n"
      ],
      "execution_count": null,
      "outputs": [
        {
          "output_type": "stream",
          "text": [
            "{'a': 1, 'b': 2}\n"
          ],
          "name": "stdout"
        }
      ]
    },
    {
      "cell_type": "code",
      "metadata": {
        "id": "pSuHd6M_Q5zU"
      },
      "source": [
        ""
      ],
      "execution_count": null,
      "outputs": []
    },
    {
      "cell_type": "code",
      "metadata": {
        "id": "6rf3uYTVQ9Er"
      },
      "source": [
        ""
      ],
      "execution_count": null,
      "outputs": []
    },
    {
      "cell_type": "code",
      "metadata": {
        "id": "HgV44M1xQ9p8"
      },
      "source": [
        ""
      ],
      "execution_count": null,
      "outputs": []
    },
    {
      "cell_type": "code",
      "metadata": {
        "colab": {
          "base_uri": "https://localhost:8080/",
          "height": 186
        },
        "id": "TkhgxiCcPhEU",
        "outputId": "94a652cf-5998-4d32-f82e-4ae72c5afd4c"
      },
      "source": [
        "for item in d.keys():\n",
        "  print(item)"
      ],
      "execution_count": null,
      "outputs": [
        {
          "output_type": "error",
          "ename": "NameError",
          "evalue": "ignored",
          "traceback": [
            "\u001b[0;31m---------------------------------------------------------------------------\u001b[0m",
            "\u001b[0;31mNameError\u001b[0m                                 Traceback (most recent call last)",
            "\u001b[0;32m<ipython-input-10-7a5cc3bc8d94>\u001b[0m in \u001b[0;36m<module>\u001b[0;34m()\u001b[0m\n\u001b[0;32m----> 1\u001b[0;31m \u001b[0;32mfor\u001b[0m \u001b[0mitem\u001b[0m \u001b[0;32min\u001b[0m \u001b[0md\u001b[0m\u001b[0;34m.\u001b[0m\u001b[0mkeys\u001b[0m\u001b[0;34m(\u001b[0m\u001b[0;34m)\u001b[0m\u001b[0;34m:\u001b[0m\u001b[0;34m\u001b[0m\u001b[0;34m\u001b[0m\u001b[0m\n\u001b[0m\u001b[1;32m      2\u001b[0m   \u001b[0mprint\u001b[0m\u001b[0;34m(\u001b[0m\u001b[0mitem\u001b[0m\u001b[0;34m)\u001b[0m\u001b[0;34m\u001b[0m\u001b[0;34m\u001b[0m\u001b[0m\n",
            "\u001b[0;31mNameError\u001b[0m: name 'd' is not defined"
          ]
        }
      ]
    },
    {
      "cell_type": "code",
      "metadata": {
        "colab": {
          "base_uri": "https://localhost:8080/",
          "height": 186
        },
        "id": "bxj9wFQzQgn9",
        "outputId": "32ba8afc-9b6e-4928-f31c-923a14c91dac"
      },
      "source": [
        "for key, value in d.items():\n",
        "  print(key, value)"
      ],
      "execution_count": null,
      "outputs": [
        {
          "output_type": "error",
          "ename": "NameError",
          "evalue": "ignored",
          "traceback": [
            "\u001b[0;31m---------------------------------------------------------------------------\u001b[0m",
            "\u001b[0;31mNameError\u001b[0m                                 Traceback (most recent call last)",
            "\u001b[0;32m<ipython-input-9-bda21645600a>\u001b[0m in \u001b[0;36m<module>\u001b[0;34m()\u001b[0m\n\u001b[0;32m----> 1\u001b[0;31m \u001b[0;32mfor\u001b[0m \u001b[0mkey\u001b[0m\u001b[0;34m,\u001b[0m \u001b[0mvalue\u001b[0m \u001b[0;32min\u001b[0m \u001b[0md\u001b[0m\u001b[0;34m.\u001b[0m\u001b[0mitems\u001b[0m\u001b[0;34m(\u001b[0m\u001b[0;34m)\u001b[0m\u001b[0;34m:\u001b[0m\u001b[0;34m\u001b[0m\u001b[0;34m\u001b[0m\u001b[0m\n\u001b[0m\u001b[1;32m      2\u001b[0m   \u001b[0mprint\u001b[0m\u001b[0;34m(\u001b[0m\u001b[0mkey\u001b[0m\u001b[0;34m,\u001b[0m \u001b[0mvalue\u001b[0m\u001b[0;34m)\u001b[0m\u001b[0;34m\u001b[0m\u001b[0;34m\u001b[0m\u001b[0m\n",
            "\u001b[0;31mNameError\u001b[0m: name 'd' is not defined"
          ]
        }
      ]
    },
    {
      "cell_type": "code",
      "metadata": {
        "id": "6plodpDYRAjj"
      },
      "source": [
        "value"
      ],
      "execution_count": null,
      "outputs": []
    },
    {
      "cell_type": "code",
      "metadata": {
        "id": "1v9ByeEtRDvs"
      },
      "source": [
        "xlist = range(10)"
      ],
      "execution_count": null,
      "outputs": []
    },
    {
      "cell_type": "code",
      "metadata": {
        "id": "9PY9pXD2RHR0"
      },
      "source": [
        "list(xlist)"
      ],
      "execution_count": null,
      "outputs": []
    },
    {
      "cell_type": "code",
      "metadata": {
        "id": "QeZXlOL4RPS8"
      },
      "source": [
        "for item in xlist:\n",
        "  for item in xlist:\n",
        "  print(item, end=' ')"
      ],
      "execution_count": null,
      "outputs": []
    },
    {
      "cell_type": "code",
      "metadata": {
        "colab": {
          "base_uri": "https://localhost:8080/"
        },
        "id": "AVG_e5wXRfUk",
        "outputId": "e5553d1a-3055-4a23-d915-a05a5f125df0"
      },
      "source": [
        "xlist = ['1', '2']\n",
        "xlist = [int(item) for item in xlist]\n",
        "print(xlist)"
      ],
      "execution_count": null,
      "outputs": [
        {
          "output_type": "stream",
          "text": [
            "[1, 2]\n"
          ],
          "name": "stdout"
        }
      ]
    },
    {
      "cell_type": "code",
      "metadata": {
        "id": "t18foMVODFxB",
        "colab": {
          "base_uri": "https://localhost:8080/"
        },
        "outputId": "37e51e92-2505-4331-9726-ff2017752191"
      },
      "source": [
        "i = 1\n",
        "\n",
        "while i <= 5 :\n",
        "  print(i)\n",
        "  i = i + 1"
      ],
      "execution_count": null,
      "outputs": [
        {
          "output_type": "stream",
          "text": [
            "1\n",
            "2\n",
            "3\n",
            "4\n",
            "5\n"
          ],
          "name": "stdout"
        }
      ]
    },
    {
      "cell_type": "code",
      "metadata": {
        "id": "yX32NYy4S1RM"
      },
      "source": [
        "i = 0\n",
        "\n",
        "while i <= 5 :\n",
        "  i = i + 1\n",
        "  if i == 2 : continue\n",
        "  \n",
        "  print(i)\n",
        "\n",
        "  if i == 4 : break"
      ],
      "execution_count": null,
      "outputs": []
    }
  ]
}