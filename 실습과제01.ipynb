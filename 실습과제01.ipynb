{
  "nbformat": 4,
  "nbformat_minor": 0,
  "metadata": {
    "colab": {
      "name": "실습과제01.ipynb",
      "provenance": [],
      "collapsed_sections": [],
      "authorship_tag": "ABX9TyOejnM8xrAS+9HSqmaRIjwq",
      "include_colab_link": true
    },
    "kernelspec": {
      "name": "python3",
      "display_name": "Python 3"
    }
  },
  "cells": [
    {
      "cell_type": "markdown",
      "metadata": {
        "id": "view-in-github",
        "colab_type": "text"
      },
      "source": [
        "<a href=\"https://colab.research.google.com/github/bmt1512/bmt-pythone/blob/main/%EC%8B%A4%EC%8A%B5%EA%B3%BC%EC%A0%9C01.ipynb\" target=\"_parent\"><img src=\"https://colab.research.google.com/assets/colab-badge.svg\" alt=\"Open In Colab\"/></a>"
      ]
    },
    {
      "cell_type": "markdown",
      "metadata": {
        "id": "uzVUPskY1AUL"
      },
      "source": [
        "파이선 기본 학습"
      ]
    },
    {
      "cell_type": "code",
      "metadata": {
        "id": "AtOSX-rb0wXF"
      },
      "source": [
        "# 입력, 출력, 연산자\r\n",
        "names = ['정밀', '폴리', '산설', '메카', '로봇', '전기' ]"
      ],
      "execution_count": 2,
      "outputs": []
    },
    {
      "cell_type": "code",
      "metadata": {
        "colab": {
          "base_uri": "https://localhost:8080/"
        },
        "id": "pjCMJ2hq6eMM",
        "outputId": "97862686-5f2d-4ae0-83e8-2954ecaf452a"
      },
      "source": [
        "names"
      ],
      "execution_count": 4,
      "outputs": [
        {
          "output_type": "execute_result",
          "data": {
            "text/plain": [
              "['정밀', '폴리', '산설', '메카', '로봇', '전기']"
            ]
          },
          "metadata": {
            "tags": []
          },
          "execution_count": 4
        }
      ]
    },
    {
      "cell_type": "code",
      "metadata": {
        "colab": {
          "base_uri": "https://localhost:8080/",
          "height": 35
        },
        "id": "UR0_3Fvy7Zy4",
        "outputId": "f295696a-5efe-4cb8-d634-b75ff2e121c8"
      },
      "source": [
        "names[-1]"
      ],
      "execution_count": 7,
      "outputs": [
        {
          "output_type": "execute_result",
          "data": {
            "application/vnd.google.colaboratory.intrinsic+json": {
              "type": "string"
            },
            "text/plain": [
              "'전기'"
            ]
          },
          "metadata": {
            "tags": []
          },
          "execution_count": 7
        }
      ]
    },
    {
      "cell_type": "code",
      "metadata": {
        "colab": {
          "base_uri": "https://localhost:8080/",
          "height": 35
        },
        "id": "Y-6abDd_7evz",
        "outputId": "fbfabe39-cb4d-4f9b-abbb-b330b18f24d9"
      },
      "source": [
        "names[5]"
      ],
      "execution_count": 6,
      "outputs": [
        {
          "output_type": "execute_result",
          "data": {
            "application/vnd.google.colaboratory.intrinsic+json": {
              "type": "string"
            },
            "text/plain": [
              "'전기'"
            ]
          },
          "metadata": {
            "tags": []
          },
          "execution_count": 6
        }
      ]
    },
    {
      "cell_type": "code",
      "metadata": {
        "id": "oQEG7PAG8OwN"
      },
      "source": [
        "names.append('부산기계' )"
      ],
      "execution_count": 11,
      "outputs": []
    },
    {
      "cell_type": "code",
      "metadata": {
        "colab": {
          "base_uri": "https://localhost:8080/"
        },
        "id": "_so9Fp0n8bNI",
        "outputId": "a564052f-b79d-4926-e137-b0fb391d708e"
      },
      "source": [
        "names"
      ],
      "execution_count": 12,
      "outputs": [
        {
          "output_type": "execute_result",
          "data": {
            "text/plain": [
              "['정밀', '폴리', '산설', '메카', '로봇', '전기', '부산기계']"
            ]
          },
          "metadata": {
            "tags": []
          },
          "execution_count": 12
        }
      ]
    },
    {
      "cell_type": "code",
      "metadata": {
        "colab": {
          "base_uri": "https://localhost:8080/"
        },
        "id": "L3uRMf6z-50z",
        "outputId": "236361d5-aca0-46a2-c4bf-db0dcbee1111"
      },
      "source": [
        "for name in names:\r\n",
        "  if len(name) <= 2:\r\n",
        "   print(name+'과')"
      ],
      "execution_count": null,
      "outputs": [
        {
          "output_type": "stream",
          "text": [
            "정밀과\n",
            "폴리과\n",
            "산설과\n",
            "메카과\n",
            "로봇과\n",
            "전기과\n"
          ],
          "name": "stdout"
        }
      ]
    },
    {
      "cell_type": "code",
      "metadata": {
        "colab": {
          "base_uri": "https://localhost:8080/"
        },
        "id": "JBz_sOK_8vfq",
        "outputId": "2beabc86-229b-4bfd-b2d0-019e1c03ca82"
      },
      "source": [
        "for name in names:\r\n",
        "  if '정' in name:\r\n",
        "   print('기계과', name+'전공')\r\n",
        "  if '폴' in name:\r\n",
        "   print('기계과', name+'전공')\r\n",
        "  if '산' in name:\r\n",
        "   print('기계과', name+'전공')\r\n",
        "  if '메' in name:\r\n",
        "   print('전자기계과', name+'전공')\r\n",
        "  if '로' in name:\r\n",
        "   print('전자기계과', name+'전공')\r\n",
        "  if '전' in name:\r\n",
        "   print(name+'과')"
      ],
      "execution_count": 29,
      "outputs": [
        {
          "output_type": "stream",
          "text": [
            "기계과 정밀전공\n",
            "기계과 폴리전공\n",
            "기계과 산설전공\n",
            "전자기계과 메카전공\n",
            "전자기계과 로봇전공\n",
            "전기과\n",
            "기계과 부산기계전공\n"
          ],
          "name": "stdout"
        }
      ]
    },
    {
      "cell_type": "code",
      "metadata": {
        "colab": {
          "base_uri": "https://localhost:8080/"
        },
        "id": "WDNkT8ix9Hlu",
        "outputId": "becf8884-e660-4361-b9a9-0679c265ac78"
      },
      "source": [
        "print(20**3)"
      ],
      "execution_count": 31,
      "outputs": [
        {
          "output_type": "stream",
          "text": [
            "8000\n"
          ],
          "name": "stdout"
        }
      ]
    },
    {
      "cell_type": "code",
      "metadata": {
        "colab": {
          "base_uri": "https://localhost:8080/"
        },
        "id": "drkF0KSMAw-U",
        "outputId": "4ef60803-88b6-4899-848a-43652b9fc0d4"
      },
      "source": [
        "school = '부산기계공고'\r\n",
        "print(school)\r\n",
        "\r\n",
        "a = 215\r\n",
        "print(a)\r\n",
        "\r\n",
        "name = '전기과 '\r\n",
        "print(name+'화이팅!!!')"
      ],
      "execution_count": 34,
      "outputs": [
        {
          "output_type": "stream",
          "text": [
            "부산기계공고\n",
            "215\n",
            "전기과 화이팅!!!\n"
          ],
          "name": "stdout"
        }
      ]
    },
    {
      "cell_type": "code",
      "metadata": {
        "colab": {
          "base_uri": "https://localhost:8080/"
        },
        "id": "jGk6tBgHBaMA",
        "outputId": "50cebfaa-aec4-4cc1-94b6-0f1b53e000a9"
      },
      "source": [
        "print(f'2021학년도 {school} {name} 화이팅!!!') # f 코멧팅"
      ],
      "execution_count": 36,
      "outputs": [
        {
          "output_type": "stream",
          "text": [
            "2021학년도 부산기계공고 전기과  화이팅!!!\n"
          ],
          "name": "stdout"
        }
      ]
    },
    {
      "cell_type": "code",
      "metadata": {
        "colab": {
          "base_uri": "https://localhost:8080/"
        },
        "id": "kGM-T2LiB7kP",
        "outputId": "33667585-c4d4-4840-955b-b932e4e58b08"
      },
      "source": [
        "name = input()\r\n",
        "    \r\n",
        "print(name + '님! 안녕하세요.!')"
      ],
      "execution_count": 39,
      "outputs": [
        {
          "output_type": "stream",
          "text": [
            "ㅎㅎ\n",
            "ㅎㅎ님! 안녕하세요. !\n"
          ],
          "name": "stdout"
        }
      ]
    },
    {
      "cell_type": "code",
      "metadata": {
        "colab": {
          "base_uri": "https://localhost:8080/"
        },
        "id": "kMCQeoaDCZ2u",
        "outputId": "fdc71add-03de-4f37-886e-d0f96f881b01"
      },
      "source": [
        "name = input('이름을 입력해 주세요 : ')\r\n",
        "print(name+'안녕하세요.')"
      ],
      "execution_count": 40,
      "outputs": [
        {
          "output_type": "stream",
          "text": [
            "이름을 입력해 주세요 : ㅏㅏ\n",
            "ㅏㅏ안녕하세요.\n"
          ],
          "name": "stdout"
        }
      ]
    },
    {
      "cell_type": "code",
      "metadata": {
        "colab": {
          "base_uri": "https://localhost:8080/"
        },
        "id": "T5JhAk7NCwMr",
        "outputId": "f81afdee-0d35-4385-ecdf-9ea966a06256"
      },
      "source": [
        "age = int(input('나이 입력 : '))\r\n",
        "\r\n",
        "print(age-1)"
      ],
      "execution_count": 42,
      "outputs": [
        {
          "output_type": "stream",
          "text": [
            "나이 입력 : 4\n",
            "3\n"
          ],
          "name": "stdout"
        }
      ]
    },
    {
      "cell_type": "code",
      "metadata": {
        "id": "PxdRV0FKDaJb"
      },
      "source": [
        "key = 'abcd'\r\n",
        "\r\n",
        "password = input('암호 입력(4글자) : ')\r\n",
        "\r\n",
        "if key == password:\r\n",
        "  print(\"암호해제\")\r\n",
        "else:\r\n",
        "  print(\"다시입력\")"
      ],
      "execution_count": null,
      "outputs": []
    }
  ]
}