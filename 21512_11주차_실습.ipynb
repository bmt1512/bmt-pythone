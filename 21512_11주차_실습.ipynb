{
  "nbformat": 4,
  "nbformat_minor": 0,
  "metadata": {
    "colab": {
      "name": "21512_11주차 실습.ipynb",
      "provenance": [],
      "collapsed_sections": [],
      "authorship_tag": "ABX9TyN3WuPbxP9b2bMffnwLL1uw",
      "include_colab_link": true
    },
    "kernelspec": {
      "name": "python3",
      "display_name": "Python 3"
    },
    "language_info": {
      "name": "python"
    }
  },
  "cells": [
    {
      "cell_type": "markdown",
      "metadata": {
        "id": "view-in-github",
        "colab_type": "text"
      },
      "source": [
        "<a href=\"https://colab.research.google.com/github/bmt1512/bmt-pythone/blob/main/21512_11%EC%A3%BC%EC%B0%A8_%EC%8B%A4%EC%8A%B5.ipynb\" target=\"_parent\"><img src=\"https://colab.research.google.com/assets/colab-badge.svg\" alt=\"Open In Colab\"/></a>"
      ]
    },
    {
      "cell_type": "code",
      "metadata": {
        "id": "R8jwdPp6KHYY"
      },
      "source": [
        "import pandas as pd\n",
        "import numpy as np\n",
        "import matplotlib.pyplot as plt"
      ],
      "execution_count": 5,
      "outputs": []
    },
    {
      "cell_type": "code",
      "metadata": {
        "colab": {
          "base_uri": "https://localhost:8080/"
        },
        "id": "e0-TIca8LDYv",
        "outputId": "14ca65e4-1ad0-4c94-969a-f85c3d297348"
      },
      "source": [
        "dates = pd.date_range('20210514', periods=6)\n",
        "dates"
      ],
      "execution_count": 7,
      "outputs": [
        {
          "output_type": "execute_result",
          "data": {
            "text/plain": [
              "DatetimeIndex(['2021-05-14', '2021-05-15', '2021-05-16', '2021-05-17',\n",
              "               '2021-05-18', '2021-05-19'],\n",
              "              dtype='datetime64[ns]', freq='D')"
            ]
          },
          "metadata": {
            "tags": []
          },
          "execution_count": 7
        }
      ]
    },
    {
      "cell_type": "code",
      "metadata": {
        "colab": {
          "base_uri": "https://localhost:8080/",
          "height": 225
        },
        "id": "2GitE-OTLdns",
        "outputId": "3b6e43d8-dc69-4f98-c712-d6ca556153a1"
      },
      "source": [
        "df = pd.DataFrame(np.random.randn(6,4), index=dates, columns=list('ABCD'))\n",
        "df"
      ],
      "execution_count": 8,
      "outputs": [
        {
          "output_type": "execute_result",
          "data": {
            "text/html": [
              "<div>\n",
              "<style scoped>\n",
              "    .dataframe tbody tr th:only-of-type {\n",
              "        vertical-align: middle;\n",
              "    }\n",
              "\n",
              "    .dataframe tbody tr th {\n",
              "        vertical-align: top;\n",
              "    }\n",
              "\n",
              "    .dataframe thead th {\n",
              "        text-align: right;\n",
              "    }\n",
              "</style>\n",
              "<table border=\"1\" class=\"dataframe\">\n",
              "  <thead>\n",
              "    <tr style=\"text-align: right;\">\n",
              "      <th></th>\n",
              "      <th>A</th>\n",
              "      <th>B</th>\n",
              "      <th>C</th>\n",
              "      <th>D</th>\n",
              "    </tr>\n",
              "  </thead>\n",
              "  <tbody>\n",
              "    <tr>\n",
              "      <th>2021-05-14</th>\n",
              "      <td>-1.072080</td>\n",
              "      <td>-1.642630</td>\n",
              "      <td>-0.175523</td>\n",
              "      <td>0.279290</td>\n",
              "    </tr>\n",
              "    <tr>\n",
              "      <th>2021-05-15</th>\n",
              "      <td>-0.334436</td>\n",
              "      <td>-2.147194</td>\n",
              "      <td>0.457588</td>\n",
              "      <td>0.795997</td>\n",
              "    </tr>\n",
              "    <tr>\n",
              "      <th>2021-05-16</th>\n",
              "      <td>1.397841</td>\n",
              "      <td>0.558996</td>\n",
              "      <td>1.262863</td>\n",
              "      <td>-0.370039</td>\n",
              "    </tr>\n",
              "    <tr>\n",
              "      <th>2021-05-17</th>\n",
              "      <td>-0.910501</td>\n",
              "      <td>1.434618</td>\n",
              "      <td>-0.564339</td>\n",
              "      <td>0.779548</td>\n",
              "    </tr>\n",
              "    <tr>\n",
              "      <th>2021-05-18</th>\n",
              "      <td>0.325151</td>\n",
              "      <td>1.099497</td>\n",
              "      <td>1.127559</td>\n",
              "      <td>0.370103</td>\n",
              "    </tr>\n",
              "    <tr>\n",
              "      <th>2021-05-19</th>\n",
              "      <td>-1.036153</td>\n",
              "      <td>-0.977870</td>\n",
              "      <td>-1.940201</td>\n",
              "      <td>0.269751</td>\n",
              "    </tr>\n",
              "  </tbody>\n",
              "</table>\n",
              "</div>"
            ],
            "text/plain": [
              "                   A         B         C         D\n",
              "2021-05-14 -1.072080 -1.642630 -0.175523  0.279290\n",
              "2021-05-15 -0.334436 -2.147194  0.457588  0.795997\n",
              "2021-05-16  1.397841  0.558996  1.262863 -0.370039\n",
              "2021-05-17 -0.910501  1.434618 -0.564339  0.779548\n",
              "2021-05-18  0.325151  1.099497  1.127559  0.370103\n",
              "2021-05-19 -1.036153 -0.977870 -1.940201  0.269751"
            ]
          },
          "metadata": {
            "tags": []
          },
          "execution_count": 8
        }
      ]
    },
    {
      "cell_type": "code",
      "metadata": {
        "colab": {
          "base_uri": "https://localhost:8080/"
        },
        "id": "l_X4irMjMDR2",
        "outputId": "1b1fdf26-050f-42a0-a6ea-79bf75517025"
      },
      "source": [
        "df.mean()"
      ],
      "execution_count": 11,
      "outputs": [
        {
          "output_type": "execute_result",
          "data": {
            "text/plain": [
              "A   -0.271696\n",
              "B   -0.279097\n",
              "C    0.027991\n",
              "D    0.354108\n",
              "dtype: float64"
            ]
          },
          "metadata": {
            "tags": []
          },
          "execution_count": 11
        }
      ]
    },
    {
      "cell_type": "code",
      "metadata": {
        "colab": {
          "base_uri": "https://localhost:8080/"
        },
        "id": "yPOomsAbMaJm",
        "outputId": "15b3ead7-5580-474b-e59d-e8aa4cb90617"
      },
      "source": [
        "df.mean(0)"
      ],
      "execution_count": 12,
      "outputs": [
        {
          "output_type": "execute_result",
          "data": {
            "text/plain": [
              "A   -0.271696\n",
              "B   -0.279097\n",
              "C    0.027991\n",
              "D    0.354108\n",
              "dtype: float64"
            ]
          },
          "metadata": {
            "tags": []
          },
          "execution_count": 12
        }
      ]
    },
    {
      "cell_type": "code",
      "metadata": {
        "colab": {
          "base_uri": "https://localhost:8080/"
        },
        "id": "ON2-PgwGMtHm",
        "outputId": "4aefeb10-c410-4d95-b156-644074d0f70e"
      },
      "source": [
        "df.mean(1)"
      ],
      "execution_count": 13,
      "outputs": [
        {
          "output_type": "execute_result",
          "data": {
            "text/plain": [
              "2021-05-14   -0.652736\n",
              "2021-05-15   -0.307011\n",
              "2021-05-16    0.712415\n",
              "2021-05-17    0.184831\n",
              "2021-05-18    0.730578\n",
              "2021-05-19   -0.921118\n",
              "Freq: D, dtype: float64"
            ]
          },
          "metadata": {
            "tags": []
          },
          "execution_count": 13
        }
      ]
    },
    {
      "cell_type": "code",
      "metadata": {
        "colab": {
          "base_uri": "https://localhost:8080/",
          "height": 225
        },
        "id": "fDZVuXHpNCtl",
        "outputId": "f75fcf3f-0222-47cb-8f9f-41f5646e0041"
      },
      "source": [
        "df"
      ],
      "execution_count": 14,
      "outputs": [
        {
          "output_type": "execute_result",
          "data": {
            "text/html": [
              "<div>\n",
              "<style scoped>\n",
              "    .dataframe tbody tr th:only-of-type {\n",
              "        vertical-align: middle;\n",
              "    }\n",
              "\n",
              "    .dataframe tbody tr th {\n",
              "        vertical-align: top;\n",
              "    }\n",
              "\n",
              "    .dataframe thead th {\n",
              "        text-align: right;\n",
              "    }\n",
              "</style>\n",
              "<table border=\"1\" class=\"dataframe\">\n",
              "  <thead>\n",
              "    <tr style=\"text-align: right;\">\n",
              "      <th></th>\n",
              "      <th>A</th>\n",
              "      <th>B</th>\n",
              "      <th>C</th>\n",
              "      <th>D</th>\n",
              "    </tr>\n",
              "  </thead>\n",
              "  <tbody>\n",
              "    <tr>\n",
              "      <th>2021-05-14</th>\n",
              "      <td>-1.072080</td>\n",
              "      <td>-1.642630</td>\n",
              "      <td>-0.175523</td>\n",
              "      <td>0.279290</td>\n",
              "    </tr>\n",
              "    <tr>\n",
              "      <th>2021-05-15</th>\n",
              "      <td>-0.334436</td>\n",
              "      <td>-2.147194</td>\n",
              "      <td>0.457588</td>\n",
              "      <td>0.795997</td>\n",
              "    </tr>\n",
              "    <tr>\n",
              "      <th>2021-05-16</th>\n",
              "      <td>1.397841</td>\n",
              "      <td>0.558996</td>\n",
              "      <td>1.262863</td>\n",
              "      <td>-0.370039</td>\n",
              "    </tr>\n",
              "    <tr>\n",
              "      <th>2021-05-17</th>\n",
              "      <td>-0.910501</td>\n",
              "      <td>1.434618</td>\n",
              "      <td>-0.564339</td>\n",
              "      <td>0.779548</td>\n",
              "    </tr>\n",
              "    <tr>\n",
              "      <th>2021-05-18</th>\n",
              "      <td>0.325151</td>\n",
              "      <td>1.099497</td>\n",
              "      <td>1.127559</td>\n",
              "      <td>0.370103</td>\n",
              "    </tr>\n",
              "    <tr>\n",
              "      <th>2021-05-19</th>\n",
              "      <td>-1.036153</td>\n",
              "      <td>-0.977870</td>\n",
              "      <td>-1.940201</td>\n",
              "      <td>0.269751</td>\n",
              "    </tr>\n",
              "  </tbody>\n",
              "</table>\n",
              "</div>"
            ],
            "text/plain": [
              "                   A         B         C         D\n",
              "2021-05-14 -1.072080 -1.642630 -0.175523  0.279290\n",
              "2021-05-15 -0.334436 -2.147194  0.457588  0.795997\n",
              "2021-05-16  1.397841  0.558996  1.262863 -0.370039\n",
              "2021-05-17 -0.910501  1.434618 -0.564339  0.779548\n",
              "2021-05-18  0.325151  1.099497  1.127559  0.370103\n",
              "2021-05-19 -1.036153 -0.977870 -1.940201  0.269751"
            ]
          },
          "metadata": {
            "tags": []
          },
          "execution_count": 14
        }
      ]
    },
    {
      "cell_type": "code",
      "metadata": {
        "colab": {
          "base_uri": "https://localhost:8080/",
          "height": 225
        },
        "id": "6jDTlW0wNDqt",
        "outputId": "ac3e140b-d01b-4493-ba63-e60c8b3cc908"
      },
      "source": [
        "df.apply(np.cumsum, axis=0)"
      ],
      "execution_count": 17,
      "outputs": [
        {
          "output_type": "execute_result",
          "data": {
            "text/html": [
              "<div>\n",
              "<style scoped>\n",
              "    .dataframe tbody tr th:only-of-type {\n",
              "        vertical-align: middle;\n",
              "    }\n",
              "\n",
              "    .dataframe tbody tr th {\n",
              "        vertical-align: top;\n",
              "    }\n",
              "\n",
              "    .dataframe thead th {\n",
              "        text-align: right;\n",
              "    }\n",
              "</style>\n",
              "<table border=\"1\" class=\"dataframe\">\n",
              "  <thead>\n",
              "    <tr style=\"text-align: right;\">\n",
              "      <th></th>\n",
              "      <th>A</th>\n",
              "      <th>B</th>\n",
              "      <th>C</th>\n",
              "      <th>D</th>\n",
              "    </tr>\n",
              "  </thead>\n",
              "  <tbody>\n",
              "    <tr>\n",
              "      <th>2021-05-14</th>\n",
              "      <td>-1.072080</td>\n",
              "      <td>-1.642630</td>\n",
              "      <td>-0.175523</td>\n",
              "      <td>0.279290</td>\n",
              "    </tr>\n",
              "    <tr>\n",
              "      <th>2021-05-15</th>\n",
              "      <td>-1.406515</td>\n",
              "      <td>-3.789824</td>\n",
              "      <td>0.282065</td>\n",
              "      <td>1.075286</td>\n",
              "    </tr>\n",
              "    <tr>\n",
              "      <th>2021-05-16</th>\n",
              "      <td>-0.008675</td>\n",
              "      <td>-3.230829</td>\n",
              "      <td>1.544928</td>\n",
              "      <td>0.705248</td>\n",
              "    </tr>\n",
              "    <tr>\n",
              "      <th>2021-05-17</th>\n",
              "      <td>-0.919176</td>\n",
              "      <td>-1.796210</td>\n",
              "      <td>0.980589</td>\n",
              "      <td>1.484796</td>\n",
              "    </tr>\n",
              "    <tr>\n",
              "      <th>2021-05-18</th>\n",
              "      <td>-0.594025</td>\n",
              "      <td>-0.696713</td>\n",
              "      <td>2.108148</td>\n",
              "      <td>1.854899</td>\n",
              "    </tr>\n",
              "    <tr>\n",
              "      <th>2021-05-19</th>\n",
              "      <td>-1.630178</td>\n",
              "      <td>-1.674583</td>\n",
              "      <td>0.167947</td>\n",
              "      <td>2.124650</td>\n",
              "    </tr>\n",
              "  </tbody>\n",
              "</table>\n",
              "</div>"
            ],
            "text/plain": [
              "                   A         B         C         D\n",
              "2021-05-14 -1.072080 -1.642630 -0.175523  0.279290\n",
              "2021-05-15 -1.406515 -3.789824  0.282065  1.075286\n",
              "2021-05-16 -0.008675 -3.230829  1.544928  0.705248\n",
              "2021-05-17 -0.919176 -1.796210  0.980589  1.484796\n",
              "2021-05-18 -0.594025 -0.696713  2.108148  1.854899\n",
              "2021-05-19 -1.630178 -1.674583  0.167947  2.124650"
            ]
          },
          "metadata": {
            "tags": []
          },
          "execution_count": 17
        }
      ]
    },
    {
      "cell_type": "code",
      "metadata": {
        "colab": {
          "base_uri": "https://localhost:8080/"
        },
        "id": "Cd5aj54ENpXH",
        "outputId": "e9e3f800-908f-4890-c69e-a919e5c9d171"
      },
      "source": [
        "df.apply(lambda x: x.max() - x.min())"
      ],
      "execution_count": 18,
      "outputs": [
        {
          "output_type": "execute_result",
          "data": {
            "text/plain": [
              "A    2.469920\n",
              "B    3.581812\n",
              "C    3.203064\n",
              "D    1.166036\n",
              "dtype: float64"
            ]
          },
          "metadata": {
            "tags": []
          },
          "execution_count": 18
        }
      ]
    },
    {
      "cell_type": "code",
      "metadata": {
        "colab": {
          "base_uri": "https://localhost:8080/"
        },
        "id": "fI2iZGzlONXG",
        "outputId": "aa5d42c1-0272-4e88-99d6-e82e5ecdadb5"
      },
      "source": [
        "df.apply(lambda x: x.max() - x.min(), axis=0)\n",
        "\n"
      ],
      "execution_count": 21,
      "outputs": [
        {
          "output_type": "execute_result",
          "data": {
            "text/plain": [
              "A    2.469920\n",
              "B    3.581812\n",
              "C    3.203064\n",
              "D    1.166036\n",
              "dtype: float64"
            ]
          },
          "metadata": {
            "tags": []
          },
          "execution_count": 21
        }
      ]
    },
    {
      "cell_type": "code",
      "metadata": {
        "colab": {
          "base_uri": "https://localhost:8080/"
        },
        "id": "5UySresCOYBP",
        "outputId": "c7872be8-6014-4c90-c3f5-5bc46fa26b3f"
      },
      "source": [
        "df.apply(lambda x: x.max() - x.min(), axis=1)"
      ],
      "execution_count": 22,
      "outputs": [
        {
          "output_type": "execute_result",
          "data": {
            "text/plain": [
              "2021-05-14    1.921920\n",
              "2021-05-15    2.943191\n",
              "2021-05-16    1.767879\n",
              "2021-05-17    2.345120\n",
              "2021-05-18    0.802408\n",
              "2021-05-19    2.209951\n",
              "Freq: D, dtype: float64"
            ]
          },
          "metadata": {
            "tags": []
          },
          "execution_count": 22
        }
      ]
    },
    {
      "cell_type": "code",
      "metadata": {
        "colab": {
          "base_uri": "https://localhost:8080/"
        },
        "id": "aMcud97eOfaV",
        "outputId": "95a34a04-7e95-44fe-8ff8-a6707ff173c9"
      },
      "source": [
        "s = pd.Series(np.random.randint(0, 7, size = 10))\n",
        "s"
      ],
      "execution_count": 25,
      "outputs": [
        {
          "output_type": "execute_result",
          "data": {
            "text/plain": [
              "0    2\n",
              "1    0\n",
              "2    4\n",
              "3    2\n",
              "4    6\n",
              "5    1\n",
              "6    2\n",
              "7    0\n",
              "8    5\n",
              "9    4\n",
              "dtype: int64"
            ]
          },
          "metadata": {
            "tags": []
          },
          "execution_count": 25
        }
      ]
    },
    {
      "cell_type": "code",
      "metadata": {
        "colab": {
          "base_uri": "https://localhost:8080/"
        },
        "id": "zkoXryjtO1wm",
        "outputId": "caf3297e-e1cd-4700-bc7d-74ec98fe8b3a"
      },
      "source": [
        "s = pd.Series(np.random.randint(1, 7, size = 600))\n",
        "s.value_counts()"
      ],
      "execution_count": 29,
      "outputs": [
        {
          "output_type": "execute_result",
          "data": {
            "text/plain": [
              "5    108\n",
              "3    105\n",
              "4    102\n",
              "2    101\n",
              "6     93\n",
              "1     91\n",
              "dtype: int64"
            ]
          },
          "metadata": {
            "tags": []
          },
          "execution_count": 29
        }
      ]
    },
    {
      "cell_type": "code",
      "metadata": {
        "colab": {
          "base_uri": "https://localhost:8080/",
          "height": 343
        },
        "id": "1VUtIsKlP87N",
        "outputId": "a8563791-3989-400c-8112-801caca96ca6"
      },
      "source": [
        "df = pd.DataFrame(np.random.randn(10, 4))\n",
        "df"
      ],
      "execution_count": 31,
      "outputs": [
        {
          "output_type": "execute_result",
          "data": {
            "text/html": [
              "<div>\n",
              "<style scoped>\n",
              "    .dataframe tbody tr th:only-of-type {\n",
              "        vertical-align: middle;\n",
              "    }\n",
              "\n",
              "    .dataframe tbody tr th {\n",
              "        vertical-align: top;\n",
              "    }\n",
              "\n",
              "    .dataframe thead th {\n",
              "        text-align: right;\n",
              "    }\n",
              "</style>\n",
              "<table border=\"1\" class=\"dataframe\">\n",
              "  <thead>\n",
              "    <tr style=\"text-align: right;\">\n",
              "      <th></th>\n",
              "      <th>0</th>\n",
              "      <th>1</th>\n",
              "      <th>2</th>\n",
              "      <th>3</th>\n",
              "    </tr>\n",
              "  </thead>\n",
              "  <tbody>\n",
              "    <tr>\n",
              "      <th>0</th>\n",
              "      <td>-0.216363</td>\n",
              "      <td>-0.929617</td>\n",
              "      <td>0.154938</td>\n",
              "      <td>-0.261797</td>\n",
              "    </tr>\n",
              "    <tr>\n",
              "      <th>1</th>\n",
              "      <td>0.444126</td>\n",
              "      <td>0.482407</td>\n",
              "      <td>0.688596</td>\n",
              "      <td>1.227195</td>\n",
              "    </tr>\n",
              "    <tr>\n",
              "      <th>2</th>\n",
              "      <td>0.770040</td>\n",
              "      <td>-0.764914</td>\n",
              "      <td>0.521226</td>\n",
              "      <td>-0.735127</td>\n",
              "    </tr>\n",
              "    <tr>\n",
              "      <th>3</th>\n",
              "      <td>0.858957</td>\n",
              "      <td>0.758712</td>\n",
              "      <td>-0.595806</td>\n",
              "      <td>1.116024</td>\n",
              "    </tr>\n",
              "    <tr>\n",
              "      <th>4</th>\n",
              "      <td>-1.272192</td>\n",
              "      <td>0.794451</td>\n",
              "      <td>-2.385033</td>\n",
              "      <td>-0.496665</td>\n",
              "    </tr>\n",
              "    <tr>\n",
              "      <th>5</th>\n",
              "      <td>-1.322767</td>\n",
              "      <td>-0.972902</td>\n",
              "      <td>-1.018654</td>\n",
              "      <td>-0.946928</td>\n",
              "    </tr>\n",
              "    <tr>\n",
              "      <th>6</th>\n",
              "      <td>2.183281</td>\n",
              "      <td>0.202453</td>\n",
              "      <td>1.003222</td>\n",
              "      <td>0.268764</td>\n",
              "    </tr>\n",
              "    <tr>\n",
              "      <th>7</th>\n",
              "      <td>0.671710</td>\n",
              "      <td>1.220303</td>\n",
              "      <td>1.417204</td>\n",
              "      <td>0.106548</td>\n",
              "    </tr>\n",
              "    <tr>\n",
              "      <th>8</th>\n",
              "      <td>-2.083793</td>\n",
              "      <td>-0.012080</td>\n",
              "      <td>1.329211</td>\n",
              "      <td>1.118217</td>\n",
              "    </tr>\n",
              "    <tr>\n",
              "      <th>9</th>\n",
              "      <td>0.759536</td>\n",
              "      <td>0.967887</td>\n",
              "      <td>-0.287553</td>\n",
              "      <td>-1.563481</td>\n",
              "    </tr>\n",
              "  </tbody>\n",
              "</table>\n",
              "</div>"
            ],
            "text/plain": [
              "          0         1         2         3\n",
              "0 -0.216363 -0.929617  0.154938 -0.261797\n",
              "1  0.444126  0.482407  0.688596  1.227195\n",
              "2  0.770040 -0.764914  0.521226 -0.735127\n",
              "3  0.858957  0.758712 -0.595806  1.116024\n",
              "4 -1.272192  0.794451 -2.385033 -0.496665\n",
              "5 -1.322767 -0.972902 -1.018654 -0.946928\n",
              "6  2.183281  0.202453  1.003222  0.268764\n",
              "7  0.671710  1.220303  1.417204  0.106548\n",
              "8 -2.083793 -0.012080  1.329211  1.118217\n",
              "9  0.759536  0.967887 -0.287553 -1.563481"
            ]
          },
          "metadata": {
            "tags": []
          },
          "execution_count": 31
        }
      ]
    },
    {
      "cell_type": "code",
      "metadata": {
        "colab": {
          "base_uri": "https://localhost:8080/",
          "height": 136
        },
        "id": "qO7qNrb-QMYD",
        "outputId": "c9aac08e-4917-4b1c-ea63-841e7402046d"
      },
      "source": [
        "df[:3]"
      ],
      "execution_count": 32,
      "outputs": [
        {
          "output_type": "execute_result",
          "data": {
            "text/html": [
              "<div>\n",
              "<style scoped>\n",
              "    .dataframe tbody tr th:only-of-type {\n",
              "        vertical-align: middle;\n",
              "    }\n",
              "\n",
              "    .dataframe tbody tr th {\n",
              "        vertical-align: top;\n",
              "    }\n",
              "\n",
              "    .dataframe thead th {\n",
              "        text-align: right;\n",
              "    }\n",
              "</style>\n",
              "<table border=\"1\" class=\"dataframe\">\n",
              "  <thead>\n",
              "    <tr style=\"text-align: right;\">\n",
              "      <th></th>\n",
              "      <th>0</th>\n",
              "      <th>1</th>\n",
              "      <th>2</th>\n",
              "      <th>3</th>\n",
              "    </tr>\n",
              "  </thead>\n",
              "  <tbody>\n",
              "    <tr>\n",
              "      <th>0</th>\n",
              "      <td>-0.216363</td>\n",
              "      <td>-0.929617</td>\n",
              "      <td>0.154938</td>\n",
              "      <td>-0.261797</td>\n",
              "    </tr>\n",
              "    <tr>\n",
              "      <th>1</th>\n",
              "      <td>0.444126</td>\n",
              "      <td>0.482407</td>\n",
              "      <td>0.688596</td>\n",
              "      <td>1.227195</td>\n",
              "    </tr>\n",
              "    <tr>\n",
              "      <th>2</th>\n",
              "      <td>0.770040</td>\n",
              "      <td>-0.764914</td>\n",
              "      <td>0.521226</td>\n",
              "      <td>-0.735127</td>\n",
              "    </tr>\n",
              "  </tbody>\n",
              "</table>\n",
              "</div>"
            ],
            "text/plain": [
              "          0         1         2         3\n",
              "0 -0.216363 -0.929617  0.154938 -0.261797\n",
              "1  0.444126  0.482407  0.688596  1.227195\n",
              "2  0.770040 -0.764914  0.521226 -0.735127"
            ]
          },
          "metadata": {
            "tags": []
          },
          "execution_count": 32
        }
      ]
    },
    {
      "cell_type": "code",
      "metadata": {
        "colab": {
          "base_uri": "https://localhost:8080/",
          "height": 166
        },
        "id": "pVGjThN8QUIV",
        "outputId": "18bb95b7-5450-4eeb-b212-6ec10d18046e"
      },
      "source": [
        "df[3:7]"
      ],
      "execution_count": 33,
      "outputs": [
        {
          "output_type": "execute_result",
          "data": {
            "text/html": [
              "<div>\n",
              "<style scoped>\n",
              "    .dataframe tbody tr th:only-of-type {\n",
              "        vertical-align: middle;\n",
              "    }\n",
              "\n",
              "    .dataframe tbody tr th {\n",
              "        vertical-align: top;\n",
              "    }\n",
              "\n",
              "    .dataframe thead th {\n",
              "        text-align: right;\n",
              "    }\n",
              "</style>\n",
              "<table border=\"1\" class=\"dataframe\">\n",
              "  <thead>\n",
              "    <tr style=\"text-align: right;\">\n",
              "      <th></th>\n",
              "      <th>0</th>\n",
              "      <th>1</th>\n",
              "      <th>2</th>\n",
              "      <th>3</th>\n",
              "    </tr>\n",
              "  </thead>\n",
              "  <tbody>\n",
              "    <tr>\n",
              "      <th>3</th>\n",
              "      <td>0.858957</td>\n",
              "      <td>0.758712</td>\n",
              "      <td>-0.595806</td>\n",
              "      <td>1.116024</td>\n",
              "    </tr>\n",
              "    <tr>\n",
              "      <th>4</th>\n",
              "      <td>-1.272192</td>\n",
              "      <td>0.794451</td>\n",
              "      <td>-2.385033</td>\n",
              "      <td>-0.496665</td>\n",
              "    </tr>\n",
              "    <tr>\n",
              "      <th>5</th>\n",
              "      <td>-1.322767</td>\n",
              "      <td>-0.972902</td>\n",
              "      <td>-1.018654</td>\n",
              "      <td>-0.946928</td>\n",
              "    </tr>\n",
              "    <tr>\n",
              "      <th>6</th>\n",
              "      <td>2.183281</td>\n",
              "      <td>0.202453</td>\n",
              "      <td>1.003222</td>\n",
              "      <td>0.268764</td>\n",
              "    </tr>\n",
              "  </tbody>\n",
              "</table>\n",
              "</div>"
            ],
            "text/plain": [
              "          0         1         2         3\n",
              "3  0.858957  0.758712 -0.595806  1.116024\n",
              "4 -1.272192  0.794451 -2.385033 -0.496665\n",
              "5 -1.322767 -0.972902 -1.018654 -0.946928\n",
              "6  2.183281  0.202453  1.003222  0.268764"
            ]
          },
          "metadata": {
            "tags": []
          },
          "execution_count": 33
        }
      ]
    },
    {
      "cell_type": "code",
      "metadata": {
        "colab": {
          "base_uri": "https://localhost:8080/",
          "height": 136
        },
        "id": "BSTmlEhmQXQl",
        "outputId": "3ede394c-b377-4a37-9a70-471dbbd3566d"
      },
      "source": [
        "df[7:]"
      ],
      "execution_count": 34,
      "outputs": [
        {
          "output_type": "execute_result",
          "data": {
            "text/html": [
              "<div>\n",
              "<style scoped>\n",
              "    .dataframe tbody tr th:only-of-type {\n",
              "        vertical-align: middle;\n",
              "    }\n",
              "\n",
              "    .dataframe tbody tr th {\n",
              "        vertical-align: top;\n",
              "    }\n",
              "\n",
              "    .dataframe thead th {\n",
              "        text-align: right;\n",
              "    }\n",
              "</style>\n",
              "<table border=\"1\" class=\"dataframe\">\n",
              "  <thead>\n",
              "    <tr style=\"text-align: right;\">\n",
              "      <th></th>\n",
              "      <th>0</th>\n",
              "      <th>1</th>\n",
              "      <th>2</th>\n",
              "      <th>3</th>\n",
              "    </tr>\n",
              "  </thead>\n",
              "  <tbody>\n",
              "    <tr>\n",
              "      <th>7</th>\n",
              "      <td>0.671710</td>\n",
              "      <td>1.220303</td>\n",
              "      <td>1.417204</td>\n",
              "      <td>0.106548</td>\n",
              "    </tr>\n",
              "    <tr>\n",
              "      <th>8</th>\n",
              "      <td>-2.083793</td>\n",
              "      <td>-0.012080</td>\n",
              "      <td>1.329211</td>\n",
              "      <td>1.118217</td>\n",
              "    </tr>\n",
              "    <tr>\n",
              "      <th>9</th>\n",
              "      <td>0.759536</td>\n",
              "      <td>0.967887</td>\n",
              "      <td>-0.287553</td>\n",
              "      <td>-1.563481</td>\n",
              "    </tr>\n",
              "  </tbody>\n",
              "</table>\n",
              "</div>"
            ],
            "text/plain": [
              "          0         1         2         3\n",
              "7  0.671710  1.220303  1.417204  0.106548\n",
              "8 -2.083793 -0.012080  1.329211  1.118217\n",
              "9  0.759536  0.967887 -0.287553 -1.563481"
            ]
          },
          "metadata": {
            "tags": []
          },
          "execution_count": 34
        }
      ]
    },
    {
      "cell_type": "code",
      "metadata": {
        "colab": {
          "base_uri": "https://localhost:8080/"
        },
        "id": "vihXRC6cQsR1",
        "outputId": "f8f589fc-8d32-4722-9c6c-08a195418d85"
      },
      "source": [
        "pieces = [df[:3], df[3:7], df[7:]]\n",
        "pieces"
      ],
      "execution_count": 35,
      "outputs": [
        {
          "output_type": "execute_result",
          "data": {
            "text/plain": [
              "[          0         1         2         3\n",
              " 0 -0.216363 -0.929617  0.154938 -0.261797\n",
              " 1  0.444126  0.482407  0.688596  1.227195\n",
              " 2  0.770040 -0.764914  0.521226 -0.735127,\n",
              "           0         1         2         3\n",
              " 3  0.858957  0.758712 -0.595806  1.116024\n",
              " 4 -1.272192  0.794451 -2.385033 -0.496665\n",
              " 5 -1.322767 -0.972902 -1.018654 -0.946928\n",
              " 6  2.183281  0.202453  1.003222  0.268764,\n",
              "           0         1         2         3\n",
              " 7  0.671710  1.220303  1.417204  0.106548\n",
              " 8 -2.083793 -0.012080  1.329211  1.118217\n",
              " 9  0.759536  0.967887 -0.287553 -1.563481]"
            ]
          },
          "metadata": {
            "tags": []
          },
          "execution_count": 35
        }
      ]
    },
    {
      "cell_type": "code",
      "metadata": {
        "colab": {
          "base_uri": "https://localhost:8080/",
          "height": 343
        },
        "id": "Fmi3bm_WQzX1",
        "outputId": "25bbe3d9-203e-4030-82f9-55c3e035f6ac"
      },
      "source": [
        "pd.concat(pieces)"
      ],
      "execution_count": 36,
      "outputs": [
        {
          "output_type": "execute_result",
          "data": {
            "text/html": [
              "<div>\n",
              "<style scoped>\n",
              "    .dataframe tbody tr th:only-of-type {\n",
              "        vertical-align: middle;\n",
              "    }\n",
              "\n",
              "    .dataframe tbody tr th {\n",
              "        vertical-align: top;\n",
              "    }\n",
              "\n",
              "    .dataframe thead th {\n",
              "        text-align: right;\n",
              "    }\n",
              "</style>\n",
              "<table border=\"1\" class=\"dataframe\">\n",
              "  <thead>\n",
              "    <tr style=\"text-align: right;\">\n",
              "      <th></th>\n",
              "      <th>0</th>\n",
              "      <th>1</th>\n",
              "      <th>2</th>\n",
              "      <th>3</th>\n",
              "    </tr>\n",
              "  </thead>\n",
              "  <tbody>\n",
              "    <tr>\n",
              "      <th>0</th>\n",
              "      <td>-0.216363</td>\n",
              "      <td>-0.929617</td>\n",
              "      <td>0.154938</td>\n",
              "      <td>-0.261797</td>\n",
              "    </tr>\n",
              "    <tr>\n",
              "      <th>1</th>\n",
              "      <td>0.444126</td>\n",
              "      <td>0.482407</td>\n",
              "      <td>0.688596</td>\n",
              "      <td>1.227195</td>\n",
              "    </tr>\n",
              "    <tr>\n",
              "      <th>2</th>\n",
              "      <td>0.770040</td>\n",
              "      <td>-0.764914</td>\n",
              "      <td>0.521226</td>\n",
              "      <td>-0.735127</td>\n",
              "    </tr>\n",
              "    <tr>\n",
              "      <th>3</th>\n",
              "      <td>0.858957</td>\n",
              "      <td>0.758712</td>\n",
              "      <td>-0.595806</td>\n",
              "      <td>1.116024</td>\n",
              "    </tr>\n",
              "    <tr>\n",
              "      <th>4</th>\n",
              "      <td>-1.272192</td>\n",
              "      <td>0.794451</td>\n",
              "      <td>-2.385033</td>\n",
              "      <td>-0.496665</td>\n",
              "    </tr>\n",
              "    <tr>\n",
              "      <th>5</th>\n",
              "      <td>-1.322767</td>\n",
              "      <td>-0.972902</td>\n",
              "      <td>-1.018654</td>\n",
              "      <td>-0.946928</td>\n",
              "    </tr>\n",
              "    <tr>\n",
              "      <th>6</th>\n",
              "      <td>2.183281</td>\n",
              "      <td>0.202453</td>\n",
              "      <td>1.003222</td>\n",
              "      <td>0.268764</td>\n",
              "    </tr>\n",
              "    <tr>\n",
              "      <th>7</th>\n",
              "      <td>0.671710</td>\n",
              "      <td>1.220303</td>\n",
              "      <td>1.417204</td>\n",
              "      <td>0.106548</td>\n",
              "    </tr>\n",
              "    <tr>\n",
              "      <th>8</th>\n",
              "      <td>-2.083793</td>\n",
              "      <td>-0.012080</td>\n",
              "      <td>1.329211</td>\n",
              "      <td>1.118217</td>\n",
              "    </tr>\n",
              "    <tr>\n",
              "      <th>9</th>\n",
              "      <td>0.759536</td>\n",
              "      <td>0.967887</td>\n",
              "      <td>-0.287553</td>\n",
              "      <td>-1.563481</td>\n",
              "    </tr>\n",
              "  </tbody>\n",
              "</table>\n",
              "</div>"
            ],
            "text/plain": [
              "          0         1         2         3\n",
              "0 -0.216363 -0.929617  0.154938 -0.261797\n",
              "1  0.444126  0.482407  0.688596  1.227195\n",
              "2  0.770040 -0.764914  0.521226 -0.735127\n",
              "3  0.858957  0.758712 -0.595806  1.116024\n",
              "4 -1.272192  0.794451 -2.385033 -0.496665\n",
              "5 -1.322767 -0.972902 -1.018654 -0.946928\n",
              "6  2.183281  0.202453  1.003222  0.268764\n",
              "7  0.671710  1.220303  1.417204  0.106548\n",
              "8 -2.083793 -0.012080  1.329211  1.118217\n",
              "9  0.759536  0.967887 -0.287553 -1.563481"
            ]
          },
          "metadata": {
            "tags": []
          },
          "execution_count": 36
        }
      ]
    },
    {
      "cell_type": "code",
      "metadata": {
        "colab": {
          "base_uri": "https://localhost:8080/",
          "height": 106
        },
        "id": "tJ6g_zlsXO7G",
        "outputId": "332d2f59-24e7-4cb0-c279-e97dbb9e6404"
      },
      "source": [
        "left = pd.DataFrame(\n",
        "    {\n",
        "        'key':['foo', 'foo'], \n",
        "        'lval': [1, 2]\n",
        "     }\n",
        "    )\n",
        "right = pd.DataFrame({'key':['foo', 'foo'], 'rval': [4, 5]})\n",
        "left"
      ],
      "execution_count": 39,
      "outputs": [
        {
          "output_type": "execute_result",
          "data": {
            "text/html": [
              "<div>\n",
              "<style scoped>\n",
              "    .dataframe tbody tr th:only-of-type {\n",
              "        vertical-align: middle;\n",
              "    }\n",
              "\n",
              "    .dataframe tbody tr th {\n",
              "        vertical-align: top;\n",
              "    }\n",
              "\n",
              "    .dataframe thead th {\n",
              "        text-align: right;\n",
              "    }\n",
              "</style>\n",
              "<table border=\"1\" class=\"dataframe\">\n",
              "  <thead>\n",
              "    <tr style=\"text-align: right;\">\n",
              "      <th></th>\n",
              "      <th>key</th>\n",
              "      <th>lval</th>\n",
              "    </tr>\n",
              "  </thead>\n",
              "  <tbody>\n",
              "    <tr>\n",
              "      <th>0</th>\n",
              "      <td>foo</td>\n",
              "      <td>1</td>\n",
              "    </tr>\n",
              "    <tr>\n",
              "      <th>1</th>\n",
              "      <td>foo</td>\n",
              "      <td>2</td>\n",
              "    </tr>\n",
              "  </tbody>\n",
              "</table>\n",
              "</div>"
            ],
            "text/plain": [
              "   key  lval\n",
              "0  foo     1\n",
              "1  foo     2"
            ]
          },
          "metadata": {
            "tags": []
          },
          "execution_count": 39
        }
      ]
    },
    {
      "cell_type": "code",
      "metadata": {
        "colab": {
          "base_uri": "https://localhost:8080/",
          "height": 106
        },
        "id": "u9LEJV9Henp-",
        "outputId": "832d6d52-407d-4a3c-c537-baaf91195a0f"
      },
      "source": [
        "right"
      ],
      "execution_count": 40,
      "outputs": [
        {
          "output_type": "execute_result",
          "data": {
            "text/html": [
              "<div>\n",
              "<style scoped>\n",
              "    .dataframe tbody tr th:only-of-type {\n",
              "        vertical-align: middle;\n",
              "    }\n",
              "\n",
              "    .dataframe tbody tr th {\n",
              "        vertical-align: top;\n",
              "    }\n",
              "\n",
              "    .dataframe thead th {\n",
              "        text-align: right;\n",
              "    }\n",
              "</style>\n",
              "<table border=\"1\" class=\"dataframe\">\n",
              "  <thead>\n",
              "    <tr style=\"text-align: right;\">\n",
              "      <th></th>\n",
              "      <th>key</th>\n",
              "      <th>rval</th>\n",
              "    </tr>\n",
              "  </thead>\n",
              "  <tbody>\n",
              "    <tr>\n",
              "      <th>0</th>\n",
              "      <td>foo</td>\n",
              "      <td>4</td>\n",
              "    </tr>\n",
              "    <tr>\n",
              "      <th>1</th>\n",
              "      <td>foo</td>\n",
              "      <td>5</td>\n",
              "    </tr>\n",
              "  </tbody>\n",
              "</table>\n",
              "</div>"
            ],
            "text/plain": [
              "   key  rval\n",
              "0  foo     4\n",
              "1  foo     5"
            ]
          },
          "metadata": {
            "tags": []
          },
          "execution_count": 40
        }
      ]
    },
    {
      "cell_type": "code",
      "metadata": {
        "colab": {
          "base_uri": "https://localhost:8080/",
          "height": 166
        },
        "id": "E1mvvR01e5E0",
        "outputId": "9f2ebf1c-f895-456a-8a9f-e681a622ce67"
      },
      "source": [
        "pd.merge(left, right, on = 'key')"
      ],
      "execution_count": 41,
      "outputs": [
        {
          "output_type": "execute_result",
          "data": {
            "text/html": [
              "<div>\n",
              "<style scoped>\n",
              "    .dataframe tbody tr th:only-of-type {\n",
              "        vertical-align: middle;\n",
              "    }\n",
              "\n",
              "    .dataframe tbody tr th {\n",
              "        vertical-align: top;\n",
              "    }\n",
              "\n",
              "    .dataframe thead th {\n",
              "        text-align: right;\n",
              "    }\n",
              "</style>\n",
              "<table border=\"1\" class=\"dataframe\">\n",
              "  <thead>\n",
              "    <tr style=\"text-align: right;\">\n",
              "      <th></th>\n",
              "      <th>key</th>\n",
              "      <th>lval</th>\n",
              "      <th>rval</th>\n",
              "    </tr>\n",
              "  </thead>\n",
              "  <tbody>\n",
              "    <tr>\n",
              "      <th>0</th>\n",
              "      <td>foo</td>\n",
              "      <td>1</td>\n",
              "      <td>4</td>\n",
              "    </tr>\n",
              "    <tr>\n",
              "      <th>1</th>\n",
              "      <td>foo</td>\n",
              "      <td>1</td>\n",
              "      <td>5</td>\n",
              "    </tr>\n",
              "    <tr>\n",
              "      <th>2</th>\n",
              "      <td>foo</td>\n",
              "      <td>2</td>\n",
              "      <td>4</td>\n",
              "    </tr>\n",
              "    <tr>\n",
              "      <th>3</th>\n",
              "      <td>foo</td>\n",
              "      <td>2</td>\n",
              "      <td>5</td>\n",
              "    </tr>\n",
              "  </tbody>\n",
              "</table>\n",
              "</div>"
            ],
            "text/plain": [
              "   key  lval  rval\n",
              "0  foo     1     4\n",
              "1  foo     1     5\n",
              "2  foo     2     4\n",
              "3  foo     2     5"
            ]
          },
          "metadata": {
            "tags": []
          },
          "execution_count": 41
        }
      ]
    },
    {
      "cell_type": "code",
      "metadata": {
        "colab": {
          "base_uri": "https://localhost:8080/"
        },
        "id": "WC25xRRFfJ9k",
        "outputId": "12f96355-9f7f-45d0-c941-9f6bc2998ff1"
      },
      "source": [
        "s = df.iloc[3]\n",
        "s"
      ],
      "execution_count": 44,
      "outputs": [
        {
          "output_type": "execute_result",
          "data": {
            "text/plain": [
              "0    0.858957\n",
              "1    0.758712\n",
              "2   -0.595806\n",
              "3    1.116024\n",
              "Name: 3, dtype: float64"
            ]
          },
          "metadata": {
            "tags": []
          },
          "execution_count": 44
        }
      ]
    },
    {
      "cell_type": "code",
      "metadata": {
        "colab": {
          "base_uri": "https://localhost:8080/",
          "height": 373
        },
        "id": "Jby55n5NfZqz",
        "outputId": "822b1695-41fa-4180-bd4c-6cce342d6598"
      },
      "source": [
        "df.append(s, ignore_index=True)"
      ],
      "execution_count": 45,
      "outputs": [
        {
          "output_type": "execute_result",
          "data": {
            "text/html": [
              "<div>\n",
              "<style scoped>\n",
              "    .dataframe tbody tr th:only-of-type {\n",
              "        vertical-align: middle;\n",
              "    }\n",
              "\n",
              "    .dataframe tbody tr th {\n",
              "        vertical-align: top;\n",
              "    }\n",
              "\n",
              "    .dataframe thead th {\n",
              "        text-align: right;\n",
              "    }\n",
              "</style>\n",
              "<table border=\"1\" class=\"dataframe\">\n",
              "  <thead>\n",
              "    <tr style=\"text-align: right;\">\n",
              "      <th></th>\n",
              "      <th>0</th>\n",
              "      <th>1</th>\n",
              "      <th>2</th>\n",
              "      <th>3</th>\n",
              "    </tr>\n",
              "  </thead>\n",
              "  <tbody>\n",
              "    <tr>\n",
              "      <th>0</th>\n",
              "      <td>-0.216363</td>\n",
              "      <td>-0.929617</td>\n",
              "      <td>0.154938</td>\n",
              "      <td>-0.261797</td>\n",
              "    </tr>\n",
              "    <tr>\n",
              "      <th>1</th>\n",
              "      <td>0.444126</td>\n",
              "      <td>0.482407</td>\n",
              "      <td>0.688596</td>\n",
              "      <td>1.227195</td>\n",
              "    </tr>\n",
              "    <tr>\n",
              "      <th>2</th>\n",
              "      <td>0.770040</td>\n",
              "      <td>-0.764914</td>\n",
              "      <td>0.521226</td>\n",
              "      <td>-0.735127</td>\n",
              "    </tr>\n",
              "    <tr>\n",
              "      <th>3</th>\n",
              "      <td>0.858957</td>\n",
              "      <td>0.758712</td>\n",
              "      <td>-0.595806</td>\n",
              "      <td>1.116024</td>\n",
              "    </tr>\n",
              "    <tr>\n",
              "      <th>4</th>\n",
              "      <td>-1.272192</td>\n",
              "      <td>0.794451</td>\n",
              "      <td>-2.385033</td>\n",
              "      <td>-0.496665</td>\n",
              "    </tr>\n",
              "    <tr>\n",
              "      <th>5</th>\n",
              "      <td>-1.322767</td>\n",
              "      <td>-0.972902</td>\n",
              "      <td>-1.018654</td>\n",
              "      <td>-0.946928</td>\n",
              "    </tr>\n",
              "    <tr>\n",
              "      <th>6</th>\n",
              "      <td>2.183281</td>\n",
              "      <td>0.202453</td>\n",
              "      <td>1.003222</td>\n",
              "      <td>0.268764</td>\n",
              "    </tr>\n",
              "    <tr>\n",
              "      <th>7</th>\n",
              "      <td>0.671710</td>\n",
              "      <td>1.220303</td>\n",
              "      <td>1.417204</td>\n",
              "      <td>0.106548</td>\n",
              "    </tr>\n",
              "    <tr>\n",
              "      <th>8</th>\n",
              "      <td>-2.083793</td>\n",
              "      <td>-0.012080</td>\n",
              "      <td>1.329211</td>\n",
              "      <td>1.118217</td>\n",
              "    </tr>\n",
              "    <tr>\n",
              "      <th>9</th>\n",
              "      <td>0.759536</td>\n",
              "      <td>0.967887</td>\n",
              "      <td>-0.287553</td>\n",
              "      <td>-1.563481</td>\n",
              "    </tr>\n",
              "    <tr>\n",
              "      <th>10</th>\n",
              "      <td>0.858957</td>\n",
              "      <td>0.758712</td>\n",
              "      <td>-0.595806</td>\n",
              "      <td>1.116024</td>\n",
              "    </tr>\n",
              "  </tbody>\n",
              "</table>\n",
              "</div>"
            ],
            "text/plain": [
              "           0         1         2         3\n",
              "0  -0.216363 -0.929617  0.154938 -0.261797\n",
              "1   0.444126  0.482407  0.688596  1.227195\n",
              "2   0.770040 -0.764914  0.521226 -0.735127\n",
              "3   0.858957  0.758712 -0.595806  1.116024\n",
              "4  -1.272192  0.794451 -2.385033 -0.496665\n",
              "5  -1.322767 -0.972902 -1.018654 -0.946928\n",
              "6   2.183281  0.202453  1.003222  0.268764\n",
              "7   0.671710  1.220303  1.417204  0.106548\n",
              "8  -2.083793 -0.012080  1.329211  1.118217\n",
              "9   0.759536  0.967887 -0.287553 -1.563481\n",
              "10  0.858957  0.758712 -0.595806  1.116024"
            ]
          },
          "metadata": {
            "tags": []
          },
          "execution_count": 45
        }
      ]
    }
  ]
}